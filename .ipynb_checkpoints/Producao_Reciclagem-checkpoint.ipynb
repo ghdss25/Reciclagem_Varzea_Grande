{
 "cells": [
  {
   "cell_type": "markdown",
   "id": "cdfb9bac",
   "metadata": {},
   "source": [
    "## Importação de Bibliotecas "
   ]
  },
  {
   "cell_type": "code",
   "execution_count": 538,
   "id": "b2387739",
   "metadata": {},
   "outputs": [],
   "source": [
    "import pandas as pd\n",
    "import numpy as np"
   ]
  },
  {
   "cell_type": "markdown",
   "id": "d9777d91",
   "metadata": {},
   "source": [
    "## Leitura da Planilha de Produção de Reciclagem"
   ]
  },
  {
   "cell_type": "code",
   "execution_count": 539,
   "id": "550eae41",
   "metadata": {},
   "outputs": [],
   "source": [
    "dados = pd.read_excel(\"Producao_Reciclagem.xlsx\", sheet_name=\"Dados\")"
   ]
  },
  {
   "cell_type": "code",
   "execution_count": 540,
   "id": "1cf4e071",
   "metadata": {},
   "outputs": [
    {
     "data": {
      "text/plain": [
       "['Período',\n",
       " 'Setores',\n",
       " 'Nome',\n",
       " 'Horas Disp',\n",
       " 'Horas Ativas',\n",
       " 'Horas Inativas',\n",
       " 'VolumePadrão',\n",
       " 'VolumeLíquido',\n",
       " 'VolumeRefugo',\n",
       " 'VolumeBruto',\n",
       " 'Produtividade',\n",
       " 'Eficiência',\n",
       " 'Qualidade',\n",
       " 'Refugo',\n",
       " 'Meta Produção',\n",
       " 'Meta Real',\n",
       " 'Disponibilidade',\n",
       " 'Desempenho',\n",
       " 'OEE',\n",
       " 'Ano',\n",
       " 'Mês']"
      ]
     },
     "execution_count": 540,
     "metadata": {},
     "output_type": "execute_result"
    }
   ],
   "source": [
    "list(dados)"
   ]
  },
  {
   "cell_type": "code",
   "execution_count": 541,
   "id": "88415cd4",
   "metadata": {},
   "outputs": [
    {
     "data": {
      "text/html": [
       "<div>\n",
       "<style scoped>\n",
       "    .dataframe tbody tr th:only-of-type {\n",
       "        vertical-align: middle;\n",
       "    }\n",
       "\n",
       "    .dataframe tbody tr th {\n",
       "        vertical-align: top;\n",
       "    }\n",
       "\n",
       "    .dataframe thead th {\n",
       "        text-align: right;\n",
       "    }\n",
       "</style>\n",
       "<table border=\"1\" class=\"dataframe\">\n",
       "  <thead>\n",
       "    <tr style=\"text-align: right;\">\n",
       "      <th></th>\n",
       "      <th>Período</th>\n",
       "      <th>Setores</th>\n",
       "      <th>Nome</th>\n",
       "      <th>Horas Disp</th>\n",
       "      <th>Horas Ativas</th>\n",
       "      <th>Horas Inativas</th>\n",
       "      <th>VolumePadrão</th>\n",
       "      <th>VolumeLíquido</th>\n",
       "      <th>VolumeRefugo</th>\n",
       "      <th>VolumeBruto</th>\n",
       "      <th>...</th>\n",
       "      <th>Eficiência</th>\n",
       "      <th>Qualidade</th>\n",
       "      <th>Refugo</th>\n",
       "      <th>Meta Produção</th>\n",
       "      <th>Meta Real</th>\n",
       "      <th>Disponibilidade</th>\n",
       "      <th>Desempenho</th>\n",
       "      <th>OEE</th>\n",
       "      <th>Ano</th>\n",
       "      <th>Mês</th>\n",
       "    </tr>\n",
       "  </thead>\n",
       "  <tbody>\n",
       "    <tr>\n",
       "      <th>0</th>\n",
       "      <td>2018-01-01</td>\n",
       "      <td>Extrusão</td>\n",
       "      <td>Miriam</td>\n",
       "      <td>8</td>\n",
       "      <td>7.67</td>\n",
       "      <td>0.33</td>\n",
       "      <td>440</td>\n",
       "      <td>356.51</td>\n",
       "      <td>13.75</td>\n",
       "      <td>370.26</td>\n",
       "      <td>...</td>\n",
       "      <td>0.85</td>\n",
       "      <td>0.96</td>\n",
       "      <td>0.04</td>\n",
       "      <td>55</td>\n",
       "      <td>48.27</td>\n",
       "      <td>0.96</td>\n",
       "      <td>0.84</td>\n",
       "      <td>0.78</td>\n",
       "      <td>2018</td>\n",
       "      <td>1</td>\n",
       "    </tr>\n",
       "    <tr>\n",
       "      <th>1</th>\n",
       "      <td>2018-01-02</td>\n",
       "      <td>Mistura</td>\n",
       "      <td>Daniel</td>\n",
       "      <td>8</td>\n",
       "      <td>7.50</td>\n",
       "      <td>0.50</td>\n",
       "      <td>440</td>\n",
       "      <td>327.49</td>\n",
       "      <td>17.91</td>\n",
       "      <td>345.40</td>\n",
       "      <td>...</td>\n",
       "      <td>0.79</td>\n",
       "      <td>0.95</td>\n",
       "      <td>0.05</td>\n",
       "      <td>55</td>\n",
       "      <td>46.05</td>\n",
       "      <td>0.94</td>\n",
       "      <td>0.79</td>\n",
       "      <td>0.70</td>\n",
       "      <td>2018</td>\n",
       "      <td>1</td>\n",
       "    </tr>\n",
       "    <tr>\n",
       "      <th>2</th>\n",
       "      <td>2018-01-03</td>\n",
       "      <td>Modelagem</td>\n",
       "      <td>Carlos</td>\n",
       "      <td>8</td>\n",
       "      <td>7.58</td>\n",
       "      <td>0.42</td>\n",
       "      <td>440</td>\n",
       "      <td>277.82</td>\n",
       "      <td>21.38</td>\n",
       "      <td>299.19</td>\n",
       "      <td>...</td>\n",
       "      <td>0.67</td>\n",
       "      <td>0.93</td>\n",
       "      <td>0.07</td>\n",
       "      <td>55</td>\n",
       "      <td>39.47</td>\n",
       "      <td>0.95</td>\n",
       "      <td>0.68</td>\n",
       "      <td>0.60</td>\n",
       "      <td>2018</td>\n",
       "      <td>1</td>\n",
       "    </tr>\n",
       "    <tr>\n",
       "      <th>3</th>\n",
       "      <td>2018-01-04</td>\n",
       "      <td>Prensagem</td>\n",
       "      <td>Flávia</td>\n",
       "      <td>8</td>\n",
       "      <td>7.75</td>\n",
       "      <td>0.25</td>\n",
       "      <td>440</td>\n",
       "      <td>404.12</td>\n",
       "      <td>25.52</td>\n",
       "      <td>429.63</td>\n",
       "      <td>...</td>\n",
       "      <td>0.95</td>\n",
       "      <td>0.94</td>\n",
       "      <td>0.06</td>\n",
       "      <td>55</td>\n",
       "      <td>55.44</td>\n",
       "      <td>0.97</td>\n",
       "      <td>0.98</td>\n",
       "      <td>0.89</td>\n",
       "      <td>2018</td>\n",
       "      <td>1</td>\n",
       "    </tr>\n",
       "    <tr>\n",
       "      <th>4</th>\n",
       "      <td>2018-01-05</td>\n",
       "      <td>Retífica</td>\n",
       "      <td>Elisabeth</td>\n",
       "      <td>8</td>\n",
       "      <td>7.17</td>\n",
       "      <td>0.83</td>\n",
       "      <td>440</td>\n",
       "      <td>271.12</td>\n",
       "      <td>11.60</td>\n",
       "      <td>282.71</td>\n",
       "      <td>...</td>\n",
       "      <td>0.69</td>\n",
       "      <td>0.96</td>\n",
       "      <td>0.04</td>\n",
       "      <td>55</td>\n",
       "      <td>39.43</td>\n",
       "      <td>0.90</td>\n",
       "      <td>0.64</td>\n",
       "      <td>0.55</td>\n",
       "      <td>2018</td>\n",
       "      <td>1</td>\n",
       "    </tr>\n",
       "    <tr>\n",
       "      <th>...</th>\n",
       "      <td>...</td>\n",
       "      <td>...</td>\n",
       "      <td>...</td>\n",
       "      <td>...</td>\n",
       "      <td>...</td>\n",
       "      <td>...</td>\n",
       "      <td>...</td>\n",
       "      <td>...</td>\n",
       "      <td>...</td>\n",
       "      <td>...</td>\n",
       "      <td>...</td>\n",
       "      <td>...</td>\n",
       "      <td>...</td>\n",
       "      <td>...</td>\n",
       "      <td>...</td>\n",
       "      <td>...</td>\n",
       "      <td>...</td>\n",
       "      <td>...</td>\n",
       "      <td>...</td>\n",
       "      <td>...</td>\n",
       "      <td>...</td>\n",
       "    </tr>\n",
       "    <tr>\n",
       "      <th>293</th>\n",
       "      <td>2019-12-07</td>\n",
       "      <td>Mistura</td>\n",
       "      <td>Isabel</td>\n",
       "      <td>8</td>\n",
       "      <td>7.51</td>\n",
       "      <td>0.49</td>\n",
       "      <td>440</td>\n",
       "      <td>412.12</td>\n",
       "      <td>2.35</td>\n",
       "      <td>414.47</td>\n",
       "      <td>...</td>\n",
       "      <td>1.00</td>\n",
       "      <td>0.99</td>\n",
       "      <td>0.01</td>\n",
       "      <td>55</td>\n",
       "      <td>55.20</td>\n",
       "      <td>0.94</td>\n",
       "      <td>0.94</td>\n",
       "      <td>0.88</td>\n",
       "      <td>2019</td>\n",
       "      <td>12</td>\n",
       "    </tr>\n",
       "    <tr>\n",
       "      <th>294</th>\n",
       "      <td>2019-12-08</td>\n",
       "      <td>Modelagem</td>\n",
       "      <td>Carlos</td>\n",
       "      <td>8</td>\n",
       "      <td>7.75</td>\n",
       "      <td>0.25</td>\n",
       "      <td>440</td>\n",
       "      <td>282.98</td>\n",
       "      <td>8.79</td>\n",
       "      <td>291.76</td>\n",
       "      <td>...</td>\n",
       "      <td>0.66</td>\n",
       "      <td>0.97</td>\n",
       "      <td>0.03</td>\n",
       "      <td>55</td>\n",
       "      <td>37.66</td>\n",
       "      <td>0.97</td>\n",
       "      <td>0.66</td>\n",
       "      <td>0.62</td>\n",
       "      <td>2019</td>\n",
       "      <td>12</td>\n",
       "    </tr>\n",
       "    <tr>\n",
       "      <th>295</th>\n",
       "      <td>2019-12-09</td>\n",
       "      <td>Prensagem</td>\n",
       "      <td>Flávia</td>\n",
       "      <td>8</td>\n",
       "      <td>7.77</td>\n",
       "      <td>0.23</td>\n",
       "      <td>440</td>\n",
       "      <td>289.15</td>\n",
       "      <td>12.43</td>\n",
       "      <td>301.58</td>\n",
       "      <td>...</td>\n",
       "      <td>0.68</td>\n",
       "      <td>0.96</td>\n",
       "      <td>0.04</td>\n",
       "      <td>55</td>\n",
       "      <td>38.79</td>\n",
       "      <td>0.97</td>\n",
       "      <td>0.69</td>\n",
       "      <td>0.64</td>\n",
       "      <td>2019</td>\n",
       "      <td>12</td>\n",
       "    </tr>\n",
       "    <tr>\n",
       "      <th>296</th>\n",
       "      <td>2019-12-10</td>\n",
       "      <td>Retífica</td>\n",
       "      <td>Elisabeth</td>\n",
       "      <td>8</td>\n",
       "      <td>7.97</td>\n",
       "      <td>0.03</td>\n",
       "      <td>440</td>\n",
       "      <td>390.43</td>\n",
       "      <td>43.95</td>\n",
       "      <td>434.38</td>\n",
       "      <td>...</td>\n",
       "      <td>0.89</td>\n",
       "      <td>0.90</td>\n",
       "      <td>0.10</td>\n",
       "      <td>55</td>\n",
       "      <td>54.47</td>\n",
       "      <td>1.00</td>\n",
       "      <td>0.99</td>\n",
       "      <td>0.88</td>\n",
       "      <td>2019</td>\n",
       "      <td>12</td>\n",
       "    </tr>\n",
       "    <tr>\n",
       "      <th>297</th>\n",
       "      <td>2019-12-11</td>\n",
       "      <td>Mistura</td>\n",
       "      <td>Daniel</td>\n",
       "      <td>8</td>\n",
       "      <td>7.41</td>\n",
       "      <td>0.59</td>\n",
       "      <td>440</td>\n",
       "      <td>409.76</td>\n",
       "      <td>9.09</td>\n",
       "      <td>418.85</td>\n",
       "      <td>...</td>\n",
       "      <td>1.00</td>\n",
       "      <td>0.98</td>\n",
       "      <td>0.02</td>\n",
       "      <td>55</td>\n",
       "      <td>56.49</td>\n",
       "      <td>0.93</td>\n",
       "      <td>0.95</td>\n",
       "      <td>0.86</td>\n",
       "      <td>2019</td>\n",
       "      <td>12</td>\n",
       "    </tr>\n",
       "  </tbody>\n",
       "</table>\n",
       "<p>298 rows × 21 columns</p>\n",
       "</div>"
      ],
      "text/plain": [
       "       Período    Setores       Nome  Horas Disp  Horas Ativas  \\\n",
       "0   2018-01-01   Extrusão     Miriam           8          7.67   \n",
       "1   2018-01-02    Mistura     Daniel           8          7.50   \n",
       "2   2018-01-03  Modelagem     Carlos           8          7.58   \n",
       "3   2018-01-04  Prensagem     Flávia           8          7.75   \n",
       "4   2018-01-05   Retífica  Elisabeth           8          7.17   \n",
       "..         ...        ...        ...         ...           ...   \n",
       "293 2019-12-07    Mistura     Isabel           8          7.51   \n",
       "294 2019-12-08  Modelagem     Carlos           8          7.75   \n",
       "295 2019-12-09  Prensagem     Flávia           8          7.77   \n",
       "296 2019-12-10   Retífica  Elisabeth           8          7.97   \n",
       "297 2019-12-11    Mistura     Daniel           8          7.41   \n",
       "\n",
       "     Horas Inativas  VolumePadrão  VolumeLíquido  VolumeRefugo  VolumeBruto  \\\n",
       "0              0.33           440         356.51         13.75       370.26   \n",
       "1              0.50           440         327.49         17.91       345.40   \n",
       "2              0.42           440         277.82         21.38       299.19   \n",
       "3              0.25           440         404.12         25.52       429.63   \n",
       "4              0.83           440         271.12         11.60       282.71   \n",
       "..              ...           ...            ...           ...          ...   \n",
       "293            0.49           440         412.12          2.35       414.47   \n",
       "294            0.25           440         282.98          8.79       291.76   \n",
       "295            0.23           440         289.15         12.43       301.58   \n",
       "296            0.03           440         390.43         43.95       434.38   \n",
       "297            0.59           440         409.76          9.09       418.85   \n",
       "\n",
       "     ...  Eficiência  Qualidade  Refugo  Meta Produção  Meta Real  \\\n",
       "0    ...        0.85       0.96    0.04             55      48.27   \n",
       "1    ...        0.79       0.95    0.05             55      46.05   \n",
       "2    ...        0.67       0.93    0.07             55      39.47   \n",
       "3    ...        0.95       0.94    0.06             55      55.44   \n",
       "4    ...        0.69       0.96    0.04             55      39.43   \n",
       "..   ...         ...        ...     ...            ...        ...   \n",
       "293  ...        1.00       0.99    0.01             55      55.20   \n",
       "294  ...        0.66       0.97    0.03             55      37.66   \n",
       "295  ...        0.68       0.96    0.04             55      38.79   \n",
       "296  ...        0.89       0.90    0.10             55      54.47   \n",
       "297  ...        1.00       0.98    0.02             55      56.49   \n",
       "\n",
       "     Disponibilidade  Desempenho   OEE   Ano  Mês  \n",
       "0               0.96        0.84  0.78  2018    1  \n",
       "1               0.94        0.79  0.70  2018    1  \n",
       "2               0.95        0.68  0.60  2018    1  \n",
       "3               0.97        0.98  0.89  2018    1  \n",
       "4               0.90        0.64  0.55  2018    1  \n",
       "..               ...         ...   ...   ...  ...  \n",
       "293             0.94        0.94  0.88  2019   12  \n",
       "294             0.97        0.66  0.62  2019   12  \n",
       "295             0.97        0.69  0.64  2019   12  \n",
       "296             1.00        0.99  0.88  2019   12  \n",
       "297             0.93        0.95  0.86  2019   12  \n",
       "\n",
       "[298 rows x 21 columns]"
      ]
     },
     "execution_count": 541,
     "metadata": {},
     "output_type": "execute_result"
    }
   ],
   "source": [
    "## Convertendo para duas casas decimais\n",
    "dados = dados.round(2)\n",
    "\n",
    "dados"
   ]
  },
  {
   "cell_type": "code",
   "execution_count": 542,
   "id": "b41fcb25",
   "metadata": {},
   "outputs": [
    {
     "data": {
      "text/html": [
       "<div>\n",
       "<style scoped>\n",
       "    .dataframe tbody tr th:only-of-type {\n",
       "        vertical-align: middle;\n",
       "    }\n",
       "\n",
       "    .dataframe tbody tr th {\n",
       "        vertical-align: top;\n",
       "    }\n",
       "\n",
       "    .dataframe thead th {\n",
       "        text-align: right;\n",
       "    }\n",
       "</style>\n",
       "<table border=\"1\" class=\"dataframe\">\n",
       "  <thead>\n",
       "    <tr style=\"text-align: right;\">\n",
       "      <th></th>\n",
       "      <th>Setores</th>\n",
       "      <th>Nome</th>\n",
       "      <th>Horas Disp</th>\n",
       "      <th>Horas Ativas</th>\n",
       "      <th>Horas Inativas</th>\n",
       "    </tr>\n",
       "  </thead>\n",
       "  <tbody>\n",
       "    <tr>\n",
       "      <th>0</th>\n",
       "      <td>Extrusão</td>\n",
       "      <td>Miriam</td>\n",
       "      <td>8</td>\n",
       "      <td>7.67</td>\n",
       "      <td>0.33</td>\n",
       "    </tr>\n",
       "    <tr>\n",
       "      <th>1</th>\n",
       "      <td>Mistura</td>\n",
       "      <td>Daniel</td>\n",
       "      <td>8</td>\n",
       "      <td>7.50</td>\n",
       "      <td>0.50</td>\n",
       "    </tr>\n",
       "    <tr>\n",
       "      <th>2</th>\n",
       "      <td>Modelagem</td>\n",
       "      <td>Carlos</td>\n",
       "      <td>8</td>\n",
       "      <td>7.58</td>\n",
       "      <td>0.42</td>\n",
       "    </tr>\n",
       "    <tr>\n",
       "      <th>3</th>\n",
       "      <td>Prensagem</td>\n",
       "      <td>Flávia</td>\n",
       "      <td>8</td>\n",
       "      <td>7.75</td>\n",
       "      <td>0.25</td>\n",
       "    </tr>\n",
       "    <tr>\n",
       "      <th>4</th>\n",
       "      <td>Retífica</td>\n",
       "      <td>Elisabeth</td>\n",
       "      <td>8</td>\n",
       "      <td>7.17</td>\n",
       "      <td>0.83</td>\n",
       "    </tr>\n",
       "    <tr>\n",
       "      <th>...</th>\n",
       "      <td>...</td>\n",
       "      <td>...</td>\n",
       "      <td>...</td>\n",
       "      <td>...</td>\n",
       "      <td>...</td>\n",
       "    </tr>\n",
       "    <tr>\n",
       "      <th>293</th>\n",
       "      <td>Mistura</td>\n",
       "      <td>Isabel</td>\n",
       "      <td>8</td>\n",
       "      <td>7.51</td>\n",
       "      <td>0.49</td>\n",
       "    </tr>\n",
       "    <tr>\n",
       "      <th>294</th>\n",
       "      <td>Modelagem</td>\n",
       "      <td>Carlos</td>\n",
       "      <td>8</td>\n",
       "      <td>7.75</td>\n",
       "      <td>0.25</td>\n",
       "    </tr>\n",
       "    <tr>\n",
       "      <th>295</th>\n",
       "      <td>Prensagem</td>\n",
       "      <td>Flávia</td>\n",
       "      <td>8</td>\n",
       "      <td>7.77</td>\n",
       "      <td>0.23</td>\n",
       "    </tr>\n",
       "    <tr>\n",
       "      <th>296</th>\n",
       "      <td>Retífica</td>\n",
       "      <td>Elisabeth</td>\n",
       "      <td>8</td>\n",
       "      <td>7.97</td>\n",
       "      <td>0.03</td>\n",
       "    </tr>\n",
       "    <tr>\n",
       "      <th>297</th>\n",
       "      <td>Mistura</td>\n",
       "      <td>Daniel</td>\n",
       "      <td>8</td>\n",
       "      <td>7.41</td>\n",
       "      <td>0.59</td>\n",
       "    </tr>\n",
       "  </tbody>\n",
       "</table>\n",
       "<p>298 rows × 5 columns</p>\n",
       "</div>"
      ],
      "text/plain": [
       "       Setores       Nome  Horas Disp  Horas Ativas  Horas Inativas\n",
       "0     Extrusão     Miriam           8          7.67            0.33\n",
       "1      Mistura     Daniel           8          7.50            0.50\n",
       "2    Modelagem     Carlos           8          7.58            0.42\n",
       "3    Prensagem     Flávia           8          7.75            0.25\n",
       "4     Retífica  Elisabeth           8          7.17            0.83\n",
       "..         ...        ...         ...           ...             ...\n",
       "293    Mistura     Isabel           8          7.51            0.49\n",
       "294  Modelagem     Carlos           8          7.75            0.25\n",
       "295  Prensagem     Flávia           8          7.77            0.23\n",
       "296   Retífica  Elisabeth           8          7.97            0.03\n",
       "297    Mistura     Daniel           8          7.41            0.59\n",
       "\n",
       "[298 rows x 5 columns]"
      ]
     },
     "execution_count": 542,
     "metadata": {},
     "output_type": "execute_result"
    }
   ],
   "source": [
    "## Separação das colunas para Dim_Hora \n",
    "vars = ['Setores', 'Nome', 'Horas Disp', 'Horas Ativas', 'Horas Inativas']\n",
    "\n",
    "Dim_Hora = dados[vars]\n",
    "\n",
    "Dim_Hora"
   ]
  },
  {
   "cell_type": "code",
   "execution_count": 543,
   "id": "6c2f3b3e",
   "metadata": {},
   "outputs": [
    {
     "data": {
      "text/plain": [
       "81"
      ]
     },
     "execution_count": 543,
     "metadata": {},
     "output_type": "execute_result"
    }
   ],
   "source": [
    "Dim_Hora.duplicated().sum()"
   ]
  },
  {
   "cell_type": "code",
   "execution_count": 544,
   "id": "a90d88b3",
   "metadata": {},
   "outputs": [
    {
     "data": {
      "text/plain": [
       "217"
      ]
     },
     "execution_count": 544,
     "metadata": {},
     "output_type": "execute_result"
    }
   ],
   "source": [
    "Dim_Hora = Dim_Hora.drop_duplicates()\n",
    "Dim_Hora_count = Dim_Hora.count()[0]\n",
    "\n",
    "Dim_Hora_count"
   ]
  },
  {
   "cell_type": "code",
   "execution_count": 545,
   "id": "61e5038e",
   "metadata": {},
   "outputs": [
    {
     "data": {
      "text/html": [
       "<div>\n",
       "<style scoped>\n",
       "    .dataframe tbody tr th:only-of-type {\n",
       "        vertical-align: middle;\n",
       "    }\n",
       "\n",
       "    .dataframe tbody tr th {\n",
       "        vertical-align: top;\n",
       "    }\n",
       "\n",
       "    .dataframe thead th {\n",
       "        text-align: right;\n",
       "    }\n",
       "</style>\n",
       "<table border=\"1\" class=\"dataframe\">\n",
       "  <thead>\n",
       "    <tr style=\"text-align: right;\">\n",
       "      <th></th>\n",
       "      <th>Setores</th>\n",
       "      <th>Nome</th>\n",
       "      <th>Horas Disp</th>\n",
       "      <th>Horas Ativas</th>\n",
       "      <th>Horas Inativas</th>\n",
       "    </tr>\n",
       "  </thead>\n",
       "  <tbody>\n",
       "    <tr>\n",
       "      <th>0</th>\n",
       "      <td>Extrusão</td>\n",
       "      <td>Miriam</td>\n",
       "      <td>8</td>\n",
       "      <td>7.67</td>\n",
       "      <td>0.33</td>\n",
       "    </tr>\n",
       "    <tr>\n",
       "      <th>1</th>\n",
       "      <td>Mistura</td>\n",
       "      <td>Daniel</td>\n",
       "      <td>8</td>\n",
       "      <td>7.50</td>\n",
       "      <td>0.50</td>\n",
       "    </tr>\n",
       "    <tr>\n",
       "      <th>2</th>\n",
       "      <td>Modelagem</td>\n",
       "      <td>Carlos</td>\n",
       "      <td>8</td>\n",
       "      <td>7.58</td>\n",
       "      <td>0.42</td>\n",
       "    </tr>\n",
       "    <tr>\n",
       "      <th>3</th>\n",
       "      <td>Prensagem</td>\n",
       "      <td>Flávia</td>\n",
       "      <td>8</td>\n",
       "      <td>7.75</td>\n",
       "      <td>0.25</td>\n",
       "    </tr>\n",
       "    <tr>\n",
       "      <th>4</th>\n",
       "      <td>Retífica</td>\n",
       "      <td>Elisabeth</td>\n",
       "      <td>8</td>\n",
       "      <td>7.17</td>\n",
       "      <td>0.83</td>\n",
       "    </tr>\n",
       "    <tr>\n",
       "      <th>...</th>\n",
       "      <td>...</td>\n",
       "      <td>...</td>\n",
       "      <td>...</td>\n",
       "      <td>...</td>\n",
       "      <td>...</td>\n",
       "    </tr>\n",
       "    <tr>\n",
       "      <th>292</th>\n",
       "      <td>Extrusão</td>\n",
       "      <td>Solange</td>\n",
       "      <td>8</td>\n",
       "      <td>7.69</td>\n",
       "      <td>0.31</td>\n",
       "    </tr>\n",
       "    <tr>\n",
       "      <th>293</th>\n",
       "      <td>Mistura</td>\n",
       "      <td>Isabel</td>\n",
       "      <td>8</td>\n",
       "      <td>7.51</td>\n",
       "      <td>0.49</td>\n",
       "    </tr>\n",
       "    <tr>\n",
       "      <th>295</th>\n",
       "      <td>Prensagem</td>\n",
       "      <td>Flávia</td>\n",
       "      <td>8</td>\n",
       "      <td>7.77</td>\n",
       "      <td>0.23</td>\n",
       "    </tr>\n",
       "    <tr>\n",
       "      <th>296</th>\n",
       "      <td>Retífica</td>\n",
       "      <td>Elisabeth</td>\n",
       "      <td>8</td>\n",
       "      <td>7.97</td>\n",
       "      <td>0.03</td>\n",
       "    </tr>\n",
       "    <tr>\n",
       "      <th>297</th>\n",
       "      <td>Mistura</td>\n",
       "      <td>Daniel</td>\n",
       "      <td>8</td>\n",
       "      <td>7.41</td>\n",
       "      <td>0.59</td>\n",
       "    </tr>\n",
       "  </tbody>\n",
       "</table>\n",
       "<p>217 rows × 5 columns</p>\n",
       "</div>"
      ],
      "text/plain": [
       "       Setores       Nome  Horas Disp  Horas Ativas  Horas Inativas\n",
       "0     Extrusão     Miriam           8          7.67            0.33\n",
       "1      Mistura     Daniel           8          7.50            0.50\n",
       "2    Modelagem     Carlos           8          7.58            0.42\n",
       "3    Prensagem     Flávia           8          7.75            0.25\n",
       "4     Retífica  Elisabeth           8          7.17            0.83\n",
       "..         ...        ...         ...           ...             ...\n",
       "292   Extrusão    Solange           8          7.69            0.31\n",
       "293    Mistura     Isabel           8          7.51            0.49\n",
       "295  Prensagem     Flávia           8          7.77            0.23\n",
       "296   Retífica  Elisabeth           8          7.97            0.03\n",
       "297    Mistura     Daniel           8          7.41            0.59\n",
       "\n",
       "[217 rows x 5 columns]"
      ]
     },
     "execution_count": 545,
     "metadata": {},
     "output_type": "execute_result"
    }
   ],
   "source": [
    "Dim_Hora"
   ]
  },
  {
   "cell_type": "markdown",
   "id": "75555a60",
   "metadata": {},
   "source": [
    "## Nome por Horas Ativas e Inativas"
   ]
  },
  {
   "cell_type": "code",
   "execution_count": 546,
   "id": "7416f168",
   "metadata": {},
   "outputs": [
    {
     "data": {
      "text/plain": [
       "Text(0.5, 1.0, 'Nome por Horas Inativas')"
      ]
     },
     "execution_count": 546,
     "metadata": {},
     "output_type": "execute_result"
    },
    {
     "data": {
      "image/png": "[encoded data removed]",
      "text/plain": [
       "<Figure size 1728x432 with 2 Axes>"
      ]
     },
     "metadata": {
      "needs_background": "light"
     },
     "output_type": "display_data"
    }
   ],
   "source": [
    "f = plt.figure(figsize=(24,6))\n",
    "ax = f.add_subplot(121)\n",
    "sns.barplot(x='Nome', y='Horas Ativas', data=Dim_Hora, palette='Wistia', ax=ax)\n",
    "ax.set_title('Nome por Horas Ativas')\n",
    "\n",
    "ax = f.add_subplot(122)\n",
    "sns.barplot(x='Nome', y='Horas Inativas', data=Dim_Hora, palette='magma', ax=ax)\n",
    "ax.set_title('Nome por Horas Inativas')"
   ]
  },
  {
   "cell_type": "markdown",
   "id": "b6125f81",
   "metadata": {},
   "source": [
    "## Setores por Horas Ativas e Inativas"
   ]
  },
  {
   "cell_type": "code",
   "execution_count": 711,
   "id": "19dd26fc",
   "metadata": {},
   "outputs": [
    {
     "data": {
      "text/plain": [
       "Text(0.5, 1.0, 'Setores por Horas Inativas')"
      ]
     },
     "execution_count": 711,
     "metadata": {},
     "output_type": "execute_result"
    },
    {
     "data": {
      "image/png": "[encoded data removed]",
      "text/plain": [
       "<Figure size 1728x432 with 2 Axes>"
      ]
     },
     "metadata": {
      "needs_background": "light"
     },
     "output_type": "display_data"
    }
   ],
   "source": [
    "f = plt.figure(figsize=(24,6))\n",
    "ax = f.add_subplot(121)\n",
    "sns.barplot(x='Setores', y='Horas Ativas', data=Dim_Hora, palette='YlGnBu_r', ax=ax)\n",
    "ax.set_title('Setores por Horas Ativas')\n",
    "\n",
    "ax = f.add_subplot(122)\n",
    "sns.barplot(x='Setores', y='Horas Inativas', data=Dim_Hora, palette='YlGn_r', ax=ax)\n",
    "ax.set_title('Setores por Horas Inativas')"
   ]
  },
  {
   "cell_type": "code",
   "execution_count": 548,
   "id": "957a5cf0",
   "metadata": {},
   "outputs": [
    {
     "data": {
      "text/html": [
       "<div>\n",
       "<style scoped>\n",
       "    .dataframe tbody tr th:only-of-type {\n",
       "        vertical-align: middle;\n",
       "    }\n",
       "\n",
       "    .dataframe tbody tr th {\n",
       "        vertical-align: top;\n",
       "    }\n",
       "\n",
       "    .dataframe thead th {\n",
       "        text-align: right;\n",
       "    }\n",
       "</style>\n",
       "<table border=\"1\" class=\"dataframe\">\n",
       "  <thead>\n",
       "    <tr style=\"text-align: right;\">\n",
       "      <th></th>\n",
       "      <th>Período</th>\n",
       "      <th>Setores</th>\n",
       "      <th>Nome</th>\n",
       "      <th>VolumePadrão</th>\n",
       "      <th>VolumeLíquido</th>\n",
       "      <th>VolumeRefugo</th>\n",
       "      <th>VolumeBruto</th>\n",
       "    </tr>\n",
       "  </thead>\n",
       "  <tbody>\n",
       "    <tr>\n",
       "      <th>0</th>\n",
       "      <td>2018-01-01</td>\n",
       "      <td>Extrusão</td>\n",
       "      <td>Miriam</td>\n",
       "      <td>440</td>\n",
       "      <td>356.51</td>\n",
       "      <td>13.75</td>\n",
       "      <td>370.26</td>\n",
       "    </tr>\n",
       "    <tr>\n",
       "      <th>1</th>\n",
       "      <td>2018-01-02</td>\n",
       "      <td>Mistura</td>\n",
       "      <td>Daniel</td>\n",
       "      <td>440</td>\n",
       "      <td>327.49</td>\n",
       "      <td>17.91</td>\n",
       "      <td>345.40</td>\n",
       "    </tr>\n",
       "    <tr>\n",
       "      <th>2</th>\n",
       "      <td>2018-01-03</td>\n",
       "      <td>Modelagem</td>\n",
       "      <td>Carlos</td>\n",
       "      <td>440</td>\n",
       "      <td>277.82</td>\n",
       "      <td>21.38</td>\n",
       "      <td>299.19</td>\n",
       "    </tr>\n",
       "    <tr>\n",
       "      <th>3</th>\n",
       "      <td>2018-01-04</td>\n",
       "      <td>Prensagem</td>\n",
       "      <td>Flávia</td>\n",
       "      <td>440</td>\n",
       "      <td>404.12</td>\n",
       "      <td>25.52</td>\n",
       "      <td>429.63</td>\n",
       "    </tr>\n",
       "    <tr>\n",
       "      <th>4</th>\n",
       "      <td>2018-01-05</td>\n",
       "      <td>Retífica</td>\n",
       "      <td>Elisabeth</td>\n",
       "      <td>440</td>\n",
       "      <td>271.12</td>\n",
       "      <td>11.60</td>\n",
       "      <td>282.71</td>\n",
       "    </tr>\n",
       "    <tr>\n",
       "      <th>...</th>\n",
       "      <td>...</td>\n",
       "      <td>...</td>\n",
       "      <td>...</td>\n",
       "      <td>...</td>\n",
       "      <td>...</td>\n",
       "      <td>...</td>\n",
       "      <td>...</td>\n",
       "    </tr>\n",
       "    <tr>\n",
       "      <th>293</th>\n",
       "      <td>2019-12-07</td>\n",
       "      <td>Mistura</td>\n",
       "      <td>Isabel</td>\n",
       "      <td>440</td>\n",
       "      <td>412.12</td>\n",
       "      <td>2.35</td>\n",
       "      <td>414.47</td>\n",
       "    </tr>\n",
       "    <tr>\n",
       "      <th>294</th>\n",
       "      <td>2019-12-08</td>\n",
       "      <td>Modelagem</td>\n",
       "      <td>Carlos</td>\n",
       "      <td>440</td>\n",
       "      <td>282.98</td>\n",
       "      <td>8.79</td>\n",
       "      <td>291.76</td>\n",
       "    </tr>\n",
       "    <tr>\n",
       "      <th>295</th>\n",
       "      <td>2019-12-09</td>\n",
       "      <td>Prensagem</td>\n",
       "      <td>Flávia</td>\n",
       "      <td>440</td>\n",
       "      <td>289.15</td>\n",
       "      <td>12.43</td>\n",
       "      <td>301.58</td>\n",
       "    </tr>\n",
       "    <tr>\n",
       "      <th>296</th>\n",
       "      <td>2019-12-10</td>\n",
       "      <td>Retífica</td>\n",
       "      <td>Elisabeth</td>\n",
       "      <td>440</td>\n",
       "      <td>390.43</td>\n",
       "      <td>43.95</td>\n",
       "      <td>434.38</td>\n",
       "    </tr>\n",
       "    <tr>\n",
       "      <th>297</th>\n",
       "      <td>2019-12-11</td>\n",
       "      <td>Mistura</td>\n",
       "      <td>Daniel</td>\n",
       "      <td>440</td>\n",
       "      <td>409.76</td>\n",
       "      <td>9.09</td>\n",
       "      <td>418.85</td>\n",
       "    </tr>\n",
       "  </tbody>\n",
       "</table>\n",
       "<p>298 rows × 7 columns</p>\n",
       "</div>"
      ],
      "text/plain": [
       "       Período    Setores       Nome  VolumePadrão  VolumeLíquido  \\\n",
       "0   2018-01-01   Extrusão     Miriam           440         356.51   \n",
       "1   2018-01-02    Mistura     Daniel           440         327.49   \n",
       "2   2018-01-03  Modelagem     Carlos           440         277.82   \n",
       "3   2018-01-04  Prensagem     Flávia           440         404.12   \n",
       "4   2018-01-05   Retífica  Elisabeth           440         271.12   \n",
       "..         ...        ...        ...           ...            ...   \n",
       "293 2019-12-07    Mistura     Isabel           440         412.12   \n",
       "294 2019-12-08  Modelagem     Carlos           440         282.98   \n",
       "295 2019-12-09  Prensagem     Flávia           440         289.15   \n",
       "296 2019-12-10   Retífica  Elisabeth           440         390.43   \n",
       "297 2019-12-11    Mistura     Daniel           440         409.76   \n",
       "\n",
       "     VolumeRefugo  VolumeBruto  \n",
       "0           13.75       370.26  \n",
       "1           17.91       345.40  \n",
       "2           21.38       299.19  \n",
       "3           25.52       429.63  \n",
       "4           11.60       282.71  \n",
       "..            ...          ...  \n",
       "293          2.35       414.47  \n",
       "294          8.79       291.76  \n",
       "295         12.43       301.58  \n",
       "296         43.95       434.38  \n",
       "297          9.09       418.85  \n",
       "\n",
       "[298 rows x 7 columns]"
      ]
     },
     "execution_count": 548,
     "metadata": {},
     "output_type": "execute_result"
    }
   ],
   "source": [
    "## Separação das colunas para Dim_Volume  \n",
    "\n",
    "vars = ['Período','Setores', 'Nome', 'VolumePadrão', 'VolumeLíquido', 'VolumeRefugo', 'VolumeBruto']\n",
    "\n",
    "Dim_Volume = dados[vars]\n",
    "\n",
    "Dim_Volume"
   ]
  },
  {
   "cell_type": "code",
   "execution_count": 549,
   "id": "791fceea",
   "metadata": {},
   "outputs": [
    {
     "data": {
      "text/plain": [
       "0"
      ]
     },
     "execution_count": 549,
     "metadata": {},
     "output_type": "execute_result"
    }
   ],
   "source": [
    "Dim_Volume.duplicated().sum()"
   ]
  },
  {
   "cell_type": "markdown",
   "id": "37238b32",
   "metadata": {},
   "source": [
    "## Gráfico Geral Sobre os Volumes por Périodo "
   ]
  },
  {
   "cell_type": "code",
   "execution_count": 550,
   "id": "6d2a6c37",
   "metadata": {},
   "outputs": [],
   "source": [
    "from bokeh.layouts import gridplot\n",
    "from bokeh.plotting import figure, show\n",
    "\n",
    "def datetime(x): \n",
    "    \n",
    "    return np.array(x, dtype=np.datetime64)\n",
    "\n",
    "p1 = figure(x_axis_type = \"datetime\", title = \"Volumes\") \n",
    "p1.grid.grid_line_alpha = 0.8 \n",
    "p1.xaxis.axis_label = 'Periodo'\n",
    "p1.yaxis.axis_label = 'Volume' \n",
    "\n",
    "p1.line(datetime(Dim_Volume['Período']), Dim_Volume['VolumeLíquido'], color='#A6CEE3', legend_label = 'Volume Líquido')\n",
    "p1.line(datetime(Dim_Volume['Período']), Dim_Volume['VolumeRefugo'], color='#000000', legend_label = 'Volume Refugo')\n",
    "p1.legend.location = \"top_left\"\n",
    "\n",
    "vol = np.array(Dim_Volume['VolumeBruto']) \n",
    "vol_dates = np.array(Dim_Volume['Período'], dtype=np.datetime64)\n",
    "\n",
    "windows_size = 30\n",
    "window = np.ones(windows_size) / float(windows_size)\n",
    "vol_avg = np.convolve(vol, window, 'same')\n",
    "\n",
    "p2 = figure(x_axis_type=\"datetime\", title = \"VolumeBruto\")\n",
    "p2.grid.grid_line_alpha = 0 \n",
    "p2.xaxis.axis_label = 'Período' \n",
    "p2.yaxis.axis_label = 'Volume'\n",
    "p2.ygrid.band_fill_color = \"olive\" \n",
    "p2.ygrid.band_fill_alpha = 0.1 \n",
    "\n",
    "p2.scatter(vol_dates, vol, size=4, legend_label='Bruto', color='darkgrey', alpha=0.2) \n",
    "\n",
    "p2.line(vol_dates, vol_avg, legend_label = 'Média', color='navy') \n",
    "p2.legend.location = \"top_left\"\n",
    "\n",
    "\n",
    "show(gridplot([[p1, p2]]))"
   ]
  },
  {
   "cell_type": "code",
   "execution_count": 710,
   "id": "b3751405",
   "metadata": {},
   "outputs": [
    {
     "data": {
      "image/png": "[encoded data removed]",
      "text/plain": [
       "<Figure size 576x360 with 1 Axes>"
      ]
     },
     "metadata": {
      "needs_background": "light"
     },
     "output_type": "display_data"
    }
   ],
   "source": [
    "## Gráfico Geral Sobre Setores e Nomes por Volume\n",
    "\n",
    "import seaborn as sns\n",
    "import matplotlib as mat\n",
    "import matplotlib.pyplot as plt\n",
    "\n",
    "fig, ax = plt.subplots(figsize=(8,5))\n",
    "\n",
    "colors = [\"#00e600\", \"#ff8cla\", \"#a180cc\"]\n",
    "sns.barplot(x=\"VolumeBruto\", y=\"Nome\", hue=\"Setores\", palette=\"husl\", data=Dim_Volume)\n",
    "ax.set_title(\"Volume Bruto por Nome e Tipo de Setores\", fontdict = {'size' : 15})\n",
    "ax.xaxis.set_label_text(\"Nome\", fontdict = {'size': 14})\n",
    "ax.yaxis.set_label_text(\"Volume Bruto\", fontdict = {'size': 14})\n",
    "plt.show()"
   ]
  },
  {
   "cell_type": "code",
   "execution_count": 709,
   "id": "144cdbbe",
   "metadata": {},
   "outputs": [
    {
     "data": {
      "image/png": "[encoded data removed]",
      "text/plain": [
       "<Figure size 576x360 with 1 Axes>"
      ]
     },
     "metadata": {
      "needs_background": "light"
     },
     "output_type": "display_data"
    }
   ],
   "source": [
    "fig, ax = plt.subplots(figsize=(8,5))\n",
    "\n",
    "colors1 = [\"#1C1C1C\", \"#ff8cla\", \"#a180cc\"]\n",
    "sns.barplot(x=\"VolumeLíquido\", y=\"Nome\", hue=\"Setores\", palette=\"husl\", data=Dim_Volume)\n",
    "ax.set_title(\"Volume Líquido por Nome e Tipo de Setores\", fontdict = {'size' : 15})\n",
    "ax.xaxis.set_label_text(\"Nome\", fontdict = {'size': 14})\n",
    "ax.yaxis.set_label_text(\"VolumeLíquido\", fontdict = {'size': 14})\n",
    "plt.show()"
   ]
  },
  {
   "cell_type": "code",
   "execution_count": 708,
   "id": "99554dcd",
   "metadata": {
    "scrolled": true
   },
   "outputs": [
    {
     "data": {
      "image/png": "[encoded data removed]",
      "text/plain": [
       "<Figure size 576x360 with 1 Axes>"
      ]
     },
     "metadata": {
      "needs_background": "light"
     },
     "output_type": "display_data"
    }
   ],
   "source": [
    "fig, ax = plt.subplots(figsize=(8,5))\n",
    "\n",
    "colors1 = [\"#1C1C1C\", \"#ff8cla\", \"#a180cc\"]\n",
    "sns.barplot(x=\"VolumeRefugo\", y=\"Nome\", hue=\"Setores\", palette=\"husl\", data=Dim_Volume)\n",
    "ax.set_title(\"Volume de Refugos por Nome e Tipo de Setores\", fontdict = {'size' : 15})\n",
    "ax.xaxis.set_label_text(\"Nome\", fontdict = {'size': 14})\n",
    "ax.yaxis.set_label_text(\"VolumeRefugo\", fontdict = {'size': 14})\n",
    "plt.show()"
   ]
  },
  {
   "cell_type": "code",
   "execution_count": 555,
   "id": "945a2f74",
   "metadata": {},
   "outputs": [
    {
     "data": {
      "text/html": [
       "<div>\n",
       "<style scoped>\n",
       "    .dataframe tbody tr th:only-of-type {\n",
       "        vertical-align: middle;\n",
       "    }\n",
       "\n",
       "    .dataframe tbody tr th {\n",
       "        vertical-align: top;\n",
       "    }\n",
       "\n",
       "    .dataframe thead th {\n",
       "        text-align: right;\n",
       "    }\n",
       "</style>\n",
       "<table border=\"1\" class=\"dataframe\">\n",
       "  <thead>\n",
       "    <tr style=\"text-align: right;\">\n",
       "      <th></th>\n",
       "      <th>Setores</th>\n",
       "      <th>Nome</th>\n",
       "      <th>VolumePadrão</th>\n",
       "      <th>VolumeLíquido</th>\n",
       "      <th>VolumeRefugo</th>\n",
       "      <th>VolumeBruto</th>\n",
       "      <th>Ano</th>\n",
       "    </tr>\n",
       "  </thead>\n",
       "  <tbody>\n",
       "    <tr>\n",
       "      <th>0</th>\n",
       "      <td>Extrusão</td>\n",
       "      <td>Miriam</td>\n",
       "      <td>440</td>\n",
       "      <td>356.51</td>\n",
       "      <td>13.75</td>\n",
       "      <td>370.26</td>\n",
       "      <td>2018</td>\n",
       "    </tr>\n",
       "    <tr>\n",
       "      <th>1</th>\n",
       "      <td>Mistura</td>\n",
       "      <td>Daniel</td>\n",
       "      <td>440</td>\n",
       "      <td>327.49</td>\n",
       "      <td>17.91</td>\n",
       "      <td>345.40</td>\n",
       "      <td>2018</td>\n",
       "    </tr>\n",
       "    <tr>\n",
       "      <th>2</th>\n",
       "      <td>Modelagem</td>\n",
       "      <td>Carlos</td>\n",
       "      <td>440</td>\n",
       "      <td>277.82</td>\n",
       "      <td>21.38</td>\n",
       "      <td>299.19</td>\n",
       "      <td>2018</td>\n",
       "    </tr>\n",
       "    <tr>\n",
       "      <th>3</th>\n",
       "      <td>Prensagem</td>\n",
       "      <td>Flávia</td>\n",
       "      <td>440</td>\n",
       "      <td>404.12</td>\n",
       "      <td>25.52</td>\n",
       "      <td>429.63</td>\n",
       "      <td>2018</td>\n",
       "    </tr>\n",
       "    <tr>\n",
       "      <th>4</th>\n",
       "      <td>Retífica</td>\n",
       "      <td>Elisabeth</td>\n",
       "      <td>440</td>\n",
       "      <td>271.12</td>\n",
       "      <td>11.60</td>\n",
       "      <td>282.71</td>\n",
       "      <td>2018</td>\n",
       "    </tr>\n",
       "    <tr>\n",
       "      <th>...</th>\n",
       "      <td>...</td>\n",
       "      <td>...</td>\n",
       "      <td>...</td>\n",
       "      <td>...</td>\n",
       "      <td>...</td>\n",
       "      <td>...</td>\n",
       "      <td>...</td>\n",
       "    </tr>\n",
       "    <tr>\n",
       "      <th>293</th>\n",
       "      <td>Mistura</td>\n",
       "      <td>Isabel</td>\n",
       "      <td>440</td>\n",
       "      <td>412.12</td>\n",
       "      <td>2.35</td>\n",
       "      <td>414.47</td>\n",
       "      <td>2019</td>\n",
       "    </tr>\n",
       "    <tr>\n",
       "      <th>294</th>\n",
       "      <td>Modelagem</td>\n",
       "      <td>Carlos</td>\n",
       "      <td>440</td>\n",
       "      <td>282.98</td>\n",
       "      <td>8.79</td>\n",
       "      <td>291.76</td>\n",
       "      <td>2019</td>\n",
       "    </tr>\n",
       "    <tr>\n",
       "      <th>295</th>\n",
       "      <td>Prensagem</td>\n",
       "      <td>Flávia</td>\n",
       "      <td>440</td>\n",
       "      <td>289.15</td>\n",
       "      <td>12.43</td>\n",
       "      <td>301.58</td>\n",
       "      <td>2019</td>\n",
       "    </tr>\n",
       "    <tr>\n",
       "      <th>296</th>\n",
       "      <td>Retífica</td>\n",
       "      <td>Elisabeth</td>\n",
       "      <td>440</td>\n",
       "      <td>390.43</td>\n",
       "      <td>43.95</td>\n",
       "      <td>434.38</td>\n",
       "      <td>2019</td>\n",
       "    </tr>\n",
       "    <tr>\n",
       "      <th>297</th>\n",
       "      <td>Mistura</td>\n",
       "      <td>Daniel</td>\n",
       "      <td>440</td>\n",
       "      <td>409.76</td>\n",
       "      <td>9.09</td>\n",
       "      <td>418.85</td>\n",
       "      <td>2019</td>\n",
       "    </tr>\n",
       "  </tbody>\n",
       "</table>\n",
       "<p>298 rows × 7 columns</p>\n",
       "</div>"
      ],
      "text/plain": [
       "       Setores       Nome  VolumePadrão  VolumeLíquido  VolumeRefugo  \\\n",
       "0     Extrusão     Miriam           440         356.51         13.75   \n",
       "1      Mistura     Daniel           440         327.49         17.91   \n",
       "2    Modelagem     Carlos           440         277.82         21.38   \n",
       "3    Prensagem     Flávia           440         404.12         25.52   \n",
       "4     Retífica  Elisabeth           440         271.12         11.60   \n",
       "..         ...        ...           ...            ...           ...   \n",
       "293    Mistura     Isabel           440         412.12          2.35   \n",
       "294  Modelagem     Carlos           440         282.98          8.79   \n",
       "295  Prensagem     Flávia           440         289.15         12.43   \n",
       "296   Retífica  Elisabeth           440         390.43         43.95   \n",
       "297    Mistura     Daniel           440         409.76          9.09   \n",
       "\n",
       "     VolumeBruto   Ano  \n",
       "0         370.26  2018  \n",
       "1         345.40  2018  \n",
       "2         299.19  2018  \n",
       "3         429.63  2018  \n",
       "4         282.71  2018  \n",
       "..           ...   ...  \n",
       "293       414.47  2019  \n",
       "294       291.76  2019  \n",
       "295       301.58  2019  \n",
       "296       434.38  2019  \n",
       "297       418.85  2019  \n",
       "\n",
       "[298 rows x 7 columns]"
      ]
     },
     "execution_count": 555,
     "metadata": {},
     "output_type": "execute_result"
    }
   ],
   "source": [
    "## Separação das colunas para Dim_Volume_Pessoas  \n",
    "\n",
    "vars = ['Setores', 'Nome', 'VolumePadrão', 'VolumeLíquido', 'VolumeRefugo', 'VolumeBruto', 'Ano']\n",
    "\n",
    "Dim_Volume_Pessoas = dados[vars]\n",
    "\n",
    "Dim_Volume_Pessoas"
   ]
  },
  {
   "cell_type": "code",
   "execution_count": 556,
   "id": "758b1568",
   "metadata": {},
   "outputs": [
    {
     "data": {
      "text/plain": [
       "4"
      ]
     },
     "execution_count": 556,
     "metadata": {},
     "output_type": "execute_result"
    }
   ],
   "source": [
    "Dim_Volume_Pessoas.duplicated().sum()"
   ]
  },
  {
   "cell_type": "code",
   "execution_count": 557,
   "id": "7af188c3",
   "metadata": {},
   "outputs": [
    {
     "data": {
      "text/plain": [
       "294"
      ]
     },
     "execution_count": 557,
     "metadata": {},
     "output_type": "execute_result"
    }
   ],
   "source": [
    "Dim_Volume_Pessoas = Dim_Volume_Pessoas.drop_duplicates()\n",
    "Dim_Volume_Pessoas_count = Dim_Volume_Pessoas.count()[0]\n",
    "\n",
    "Dim_Volume_Pessoas_count"
   ]
  },
  {
   "cell_type": "code",
   "execution_count": 558,
   "id": "94bd7611",
   "metadata": {},
   "outputs": [
    {
     "data": {
      "text/html": [
       "<div>\n",
       "<style scoped>\n",
       "    .dataframe tbody tr th:only-of-type {\n",
       "        vertical-align: middle;\n",
       "    }\n",
       "\n",
       "    .dataframe tbody tr th {\n",
       "        vertical-align: top;\n",
       "    }\n",
       "\n",
       "    .dataframe thead th {\n",
       "        text-align: right;\n",
       "    }\n",
       "</style>\n",
       "<table border=\"1\" class=\"dataframe\">\n",
       "  <thead>\n",
       "    <tr style=\"text-align: right;\">\n",
       "      <th></th>\n",
       "      <th>Setores</th>\n",
       "      <th>Nome</th>\n",
       "      <th>VolumePadrão</th>\n",
       "      <th>VolumeLíquido</th>\n",
       "      <th>VolumeRefugo</th>\n",
       "      <th>VolumeBruto</th>\n",
       "      <th>Ano</th>\n",
       "    </tr>\n",
       "  </thead>\n",
       "  <tbody>\n",
       "    <tr>\n",
       "      <th>0</th>\n",
       "      <td>Extrusão</td>\n",
       "      <td>Miriam</td>\n",
       "      <td>440</td>\n",
       "      <td>356.51</td>\n",
       "      <td>13.75</td>\n",
       "      <td>370.26</td>\n",
       "      <td>2018</td>\n",
       "    </tr>\n",
       "    <tr>\n",
       "      <th>1</th>\n",
       "      <td>Mistura</td>\n",
       "      <td>Daniel</td>\n",
       "      <td>440</td>\n",
       "      <td>327.49</td>\n",
       "      <td>17.91</td>\n",
       "      <td>345.40</td>\n",
       "      <td>2018</td>\n",
       "    </tr>\n",
       "    <tr>\n",
       "      <th>2</th>\n",
       "      <td>Modelagem</td>\n",
       "      <td>Carlos</td>\n",
       "      <td>440</td>\n",
       "      <td>277.82</td>\n",
       "      <td>21.38</td>\n",
       "      <td>299.19</td>\n",
       "      <td>2018</td>\n",
       "    </tr>\n",
       "    <tr>\n",
       "      <th>3</th>\n",
       "      <td>Prensagem</td>\n",
       "      <td>Flávia</td>\n",
       "      <td>440</td>\n",
       "      <td>404.12</td>\n",
       "      <td>25.52</td>\n",
       "      <td>429.63</td>\n",
       "      <td>2018</td>\n",
       "    </tr>\n",
       "    <tr>\n",
       "      <th>4</th>\n",
       "      <td>Retífica</td>\n",
       "      <td>Elisabeth</td>\n",
       "      <td>440</td>\n",
       "      <td>271.12</td>\n",
       "      <td>11.60</td>\n",
       "      <td>282.71</td>\n",
       "      <td>2018</td>\n",
       "    </tr>\n",
       "    <tr>\n",
       "      <th>...</th>\n",
       "      <td>...</td>\n",
       "      <td>...</td>\n",
       "      <td>...</td>\n",
       "      <td>...</td>\n",
       "      <td>...</td>\n",
       "      <td>...</td>\n",
       "      <td>...</td>\n",
       "    </tr>\n",
       "    <tr>\n",
       "      <th>293</th>\n",
       "      <td>Mistura</td>\n",
       "      <td>Isabel</td>\n",
       "      <td>440</td>\n",
       "      <td>412.12</td>\n",
       "      <td>2.35</td>\n",
       "      <td>414.47</td>\n",
       "      <td>2019</td>\n",
       "    </tr>\n",
       "    <tr>\n",
       "      <th>294</th>\n",
       "      <td>Modelagem</td>\n",
       "      <td>Carlos</td>\n",
       "      <td>440</td>\n",
       "      <td>282.98</td>\n",
       "      <td>8.79</td>\n",
       "      <td>291.76</td>\n",
       "      <td>2019</td>\n",
       "    </tr>\n",
       "    <tr>\n",
       "      <th>295</th>\n",
       "      <td>Prensagem</td>\n",
       "      <td>Flávia</td>\n",
       "      <td>440</td>\n",
       "      <td>289.15</td>\n",
       "      <td>12.43</td>\n",
       "      <td>301.58</td>\n",
       "      <td>2019</td>\n",
       "    </tr>\n",
       "    <tr>\n",
       "      <th>296</th>\n",
       "      <td>Retífica</td>\n",
       "      <td>Elisabeth</td>\n",
       "      <td>440</td>\n",
       "      <td>390.43</td>\n",
       "      <td>43.95</td>\n",
       "      <td>434.38</td>\n",
       "      <td>2019</td>\n",
       "    </tr>\n",
       "    <tr>\n",
       "      <th>297</th>\n",
       "      <td>Mistura</td>\n",
       "      <td>Daniel</td>\n",
       "      <td>440</td>\n",
       "      <td>409.76</td>\n",
       "      <td>9.09</td>\n",
       "      <td>418.85</td>\n",
       "      <td>2019</td>\n",
       "    </tr>\n",
       "  </tbody>\n",
       "</table>\n",
       "<p>294 rows × 7 columns</p>\n",
       "</div>"
      ],
      "text/plain": [
       "       Setores       Nome  VolumePadrão  VolumeLíquido  VolumeRefugo  \\\n",
       "0     Extrusão     Miriam           440         356.51         13.75   \n",
       "1      Mistura     Daniel           440         327.49         17.91   \n",
       "2    Modelagem     Carlos           440         277.82         21.38   \n",
       "3    Prensagem     Flávia           440         404.12         25.52   \n",
       "4     Retífica  Elisabeth           440         271.12         11.60   \n",
       "..         ...        ...           ...            ...           ...   \n",
       "293    Mistura     Isabel           440         412.12          2.35   \n",
       "294  Modelagem     Carlos           440         282.98          8.79   \n",
       "295  Prensagem     Flávia           440         289.15         12.43   \n",
       "296   Retífica  Elisabeth           440         390.43         43.95   \n",
       "297    Mistura     Daniel           440         409.76          9.09   \n",
       "\n",
       "     VolumeBruto   Ano  \n",
       "0         370.26  2018  \n",
       "1         345.40  2018  \n",
       "2         299.19  2018  \n",
       "3         429.63  2018  \n",
       "4         282.71  2018  \n",
       "..           ...   ...  \n",
       "293       414.47  2019  \n",
       "294       291.76  2019  \n",
       "295       301.58  2019  \n",
       "296       434.38  2019  \n",
       "297       418.85  2019  \n",
       "\n",
       "[294 rows x 7 columns]"
      ]
     },
     "execution_count": 558,
     "metadata": {},
     "output_type": "execute_result"
    }
   ],
   "source": [
    "Dim_Volume_Pessoas"
   ]
  },
  {
   "cell_type": "code",
   "execution_count": 559,
   "id": "3f6a76b3",
   "metadata": {},
   "outputs": [
    {
     "data": {
      "text/html": [
       "<div>\n",
       "<style scoped>\n",
       "    .dataframe tbody tr th:only-of-type {\n",
       "        vertical-align: middle;\n",
       "    }\n",
       "\n",
       "    .dataframe tbody tr th {\n",
       "        vertical-align: top;\n",
       "    }\n",
       "\n",
       "    .dataframe thead th {\n",
       "        text-align: right;\n",
       "    }\n",
       "</style>\n",
       "<table border=\"1\" class=\"dataframe\">\n",
       "  <thead>\n",
       "    <tr style=\"text-align: right;\">\n",
       "      <th></th>\n",
       "      <th>VolumeLíquido</th>\n",
       "      <th>VolumeRefugo</th>\n",
       "      <th>VolumeBruto</th>\n",
       "    </tr>\n",
       "  </thead>\n",
       "  <tbody>\n",
       "    <tr>\n",
       "      <th>count</th>\n",
       "      <td>294.00</td>\n",
       "      <td>294.00</td>\n",
       "      <td>294.00</td>\n",
       "    </tr>\n",
       "    <tr>\n",
       "      <th>mean</th>\n",
       "      <td>348.19</td>\n",
       "      <td>13.01</td>\n",
       "      <td>361.20</td>\n",
       "    </tr>\n",
       "    <tr>\n",
       "      <th>std</th>\n",
       "      <td>47.96</td>\n",
       "      <td>11.89</td>\n",
       "      <td>46.51</td>\n",
       "    </tr>\n",
       "    <tr>\n",
       "      <th>min</th>\n",
       "      <td>232.40</td>\n",
       "      <td>1.23</td>\n",
       "      <td>239.16</td>\n",
       "    </tr>\n",
       "    <tr>\n",
       "      <th>25%</th>\n",
       "      <td>305.45</td>\n",
       "      <td>4.81</td>\n",
       "      <td>322.52</td>\n",
       "    </tr>\n",
       "    <tr>\n",
       "      <th>50%</th>\n",
       "      <td>352.32</td>\n",
       "      <td>9.09</td>\n",
       "      <td>371.00</td>\n",
       "    </tr>\n",
       "    <tr>\n",
       "      <th>75%</th>\n",
       "      <td>387.97</td>\n",
       "      <td>17.88</td>\n",
       "      <td>398.90</td>\n",
       "    </tr>\n",
       "    <tr>\n",
       "      <th>max</th>\n",
       "      <td>448.90</td>\n",
       "      <td>65.40</td>\n",
       "      <td>451.30</td>\n",
       "    </tr>\n",
       "  </tbody>\n",
       "</table>\n",
       "</div>"
      ],
      "text/plain": [
       "       VolumeLíquido  VolumeRefugo  VolumeBruto\n",
       "count         294.00        294.00       294.00\n",
       "mean          348.19         13.01       361.20\n",
       "std            47.96         11.89        46.51\n",
       "min           232.40          1.23       239.16\n",
       "25%           305.45          4.81       322.52\n",
       "50%           352.32          9.09       371.00\n",
       "75%           387.97         17.88       398.90\n",
       "max           448.90         65.40       451.30"
      ]
     },
     "execution_count": 559,
     "metadata": {},
     "output_type": "execute_result"
    }
   ],
   "source": [
    "## Estatistica de Volumes \n",
    "Dim_Volume_Pessoas[['VolumeLíquido', 'VolumeRefugo', 'VolumeBruto']].describe().round(2)"
   ]
  },
  {
   "cell_type": "code",
   "execution_count": 560,
   "id": "c538ae5d",
   "metadata": {},
   "outputs": [
    {
     "data": {
      "application/vnd.plotly.v1+json": {
       "config": {
        "plotlyServerURL": "https://plot.ly"
       },
       "data": [
        {
         "marker": {
          "color": "#00008B"
         },
         "name": "VolumeLíquido",
         "type": "box",
         "xaxis": "x",
         "y": [
          356.51,
          327.49,
          277.82,
          404.12,
          271.12,
          370.79,
          260.08,
          373.4,
          400.99,
          355.32,
          356.48,
          317.12,
          287.82,
          394.12,
          273.12,
          373.79,
          266.08,
          383.4,
          402.99,
          357.32,
          289.19,
          371.4,
          298.9,
          319.12,
          389.46,
          242.46,
          350.32,
          398.13,
          347.99,
          365.12,
          278.33,
          408.19,
          309.8,
          270.4,
          362.87,
          282.4,
          369.78,
          290.45,
          302.3,
          404.65,
          349.12,
          377.34,
          350,
          415.34,
          278.85,
          347.89,
          380.1,
          277.4,
          369.87,
          232.4,
          389.78,
          270.45,
          299.3,
          404.65,
          369.12,
          370.34,
          323.5,
          390.47,
          402.04,
          296.7,
          350.4,
          302.5,
          399.88,
          374.23,
          405.68,
          400.56,
          317.9,
          375.9,
          375.12,
          413.5,
          299.8,
          350.2,
          380.3,
          401.6,
          425.45,
          380.7,
          390.8,
          395.6,
          407.9,
          378.4,
          401.55,
          248.9,
          349.67,
          410.3,
          430.5,
          402.04,
          296.7,
          350.4,
          302.5,
          399.88,
          324.23,
          385.68,
          400.56,
          317.9,
          375.9,
          355.12,
          374.56,
          402.8,
          287.77,
          320,
          390.21,
          270.76,
          421.03,
          319.45,
          380.5,
          435.6,
          242.46,
          350.32,
          365.12,
          278.33,
          408.19,
          309.8,
          350,
          415.34,
          278.85,
          347.89,
          413.5,
          299.8,
          350.2,
          380.3,
          425.45,
          380.7,
          390.8,
          395.6,
          309.8,
          350,
          415.34,
          278.85,
          347.89,
          380.1,
          277.4,
          369.87,
          232.4,
          389.78,
          270.45,
          299.3,
          404.65,
          369.12,
          370.34,
          323.5,
          390.47,
          275.76,
          411.03,
          321.45,
          379.5,
          430.6,
          248.46,
          352.32,
          395.13,
          349.99,
          369.12,
          288.33,
          380.7,
          370.8,
          385.6,
          407.9,
          378.4,
          401.55,
          248.9,
          349.67,
          410.3,
          370.5,
          402.04,
          296.7,
          350.4,
          346.51,
          324.49,
          287.82,
          402.12,
          279.12,
          377.79,
          265.08,
          378.4,
          367.99,
          395.32,
          348.46,
          352.32,
          390.13,
          344.99,
          389.12,
          288.33,
          340.7,
          369.8,
          382.6,
          403.9,
          358.4,
          301.55,
          448.9,
          330.47,
          375.76,
          361.03,
          341.45,
          339.5,
          410.6,
          348.46,
          362.32,
          345.13,
          343.98,
          379.12,
          388.33,
          391.15,
          310.17,
          295.65,
          404.16,
          333,
          366,
          358,
          407,
          412,
          406,
          315.99,
          313.46,
          269.45,
          412.19,
          322.87,
          346.55,
          346,
          265,
          337,
          403,
          303.54,
          339.19,
          331.66,
          279.89,
          302,
          410,
          298,
          362,
          316,
          335,
          325,
          262,
          251,
          396,
          297.77,
          344.33,
          294.79,
          403,
          322,
          302,
          294,
          296,
          304,
          356,
          343,
          352,
          387.89,
          384.41,
          283.62,
          366.45,
          370,
          374,
          379,
          380,
          363,
          287,
          314,
          384,
          279,
          351,
          280,
          329.78,
          320.16,
          348.65,
          354.04,
          387.85,
          279,
          281,
          302,
          388,
          372,
          342,
          283.74,
          315.96,
          364.12,
          345,
          285,
          368,
          324,
          391,
          316,
          332,
          368,
          417,
          337,
          283.74,
          381.15,
          415.26,
          290.46,
          412.12,
          282.98,
          289.15,
          390.43,
          409.76
         ],
         "yaxis": "y"
        },
        {
         "marker": {
          "color": "#006400"
         },
         "name": "VolumeRefugo",
         "type": "box",
         "xaxis": "x2",
         "y": [
          13.75,
          17.91,
          21.38,
          25.52,
          11.6,
          48.18,
          15.32,
          21.54,
          24.74,
          30.09,
          15.75,
          12.91,
          19.38,
          27.52,
          14.6,
          43.18,
          17.32,
          24.54,
          21.74,
          33.09,
          9.88,
          17.75,
          13.33,
          18.32,
          5.57,
          23.4,
          2.35,
          8.79,
          12.43,
          43.95,
          9.09,
          1.25,
          4.5,
          8.3,
          12.34,
          16.76,
          2.79,
          17.34,
          5.21,
          5.35,
          10.8,
          17.8,
          3.4,
          8.9,
          45.7,
          12.44,
          5.77,
          12.3,
          7.9,
          6.76,
          8.79,
          17.34,
          3.65,
          2.35,
          8.8,
          7.8,
          34.12,
          10.89,
          3.1,
          54.57,
          6.78,
          19.32,
          2.88,
          5.32,
          1.79,
          3.15,
          4.79,
          6.88,
          15.32,
          2.67,
          19.78,
          7.88,
          8.34,
          1.89,
          1.87,
          3.3,
          4.89,
          5.6,
          6.7,
          9.2,
          4.32,
          65.4,
          28.67,
          2.45,
          1.23,
          4.18,
          15.32,
          21.54,
          24.74,
          30.09,
          18.32,
          5.57,
          23.4,
          2.35,
          8.79,
          12.43,
          10.43,
          5.43,
          34.7,
          9.21,
          6.86,
          23.09,
          3.2,
          7.87,
          12.3,
          1.8,
          23.4,
          2.35,
          43.95,
          9.09,
          1.25,
          4.5,
          3.4,
          8.9,
          45.7,
          12.44,
          2.67,
          19.78,
          7.88,
          8.34,
          1.87,
          3.3,
          4.89,
          5.6,
          4.5,
          3.4,
          8.9,
          45.7,
          12.44,
          5.77,
          12.3,
          7.9,
          6.76,
          8.79,
          17.34,
          3.65,
          2.35,
          8.8,
          7.8,
          34.12,
          10.89,
          23.09,
          3.2,
          7.87,
          12.3,
          1.8,
          23.4,
          2.35,
          8.79,
          12.43,
          43.95,
          9.09,
          3.3,
          4.89,
          5.6,
          6.7,
          9.2,
          4.32,
          65.4,
          28.67,
          2.45,
          1.23,
          4.18,
          15.32,
          21.54,
          13.75,
          17.91,
          21.38,
          25.52,
          11.6,
          48.18,
          15.32,
          21.54,
          24.74,
          30.09,
          23.4,
          2.35,
          8.79,
          12.43,
          13.95,
          9.09,
          3.3,
          4.89,
          5.6,
          6.7,
          9.2,
          4.32,
          2.4,
          10.89,
          23.09,
          3.2,
          7.87,
          5.3,
          1.8,
          23.4,
          2.35,
          8.79,
          12.43,
          11.23,
          9.09,
          13.75,
          17.91,
          21.38,
          25.52,
          11.6,
          48.18,
          15.32,
          21.54,
          24.74,
          30.09,
          18.32,
          5.57,
          23.4,
          2.35,
          8.79,
          12.43,
          43.95,
          9.09,
          1.25,
          4.5,
          23.4,
          2.35,
          8.79,
          12.43,
          13.95,
          9.09,
          3.3,
          4.89,
          5.6,
          6.7,
          9.2,
          4.32,
          2.4,
          10.89,
          23.09,
          3.2,
          7.87,
          5.3,
          1.8,
          23.4,
          2.35,
          8.79,
          12.43,
          11.23,
          9.09,
          23.4,
          2.35,
          8.79,
          12.43,
          13.95,
          9.09,
          3.3,
          4.89,
          5.6,
          6.7,
          9.2,
          4.32,
          2.4,
          10.89,
          23.09,
          3.2,
          7.87,
          5.3,
          1.8,
          23.4,
          2.35,
          8.79,
          12.43,
          11.23,
          9.09,
          3.3,
          4.89,
          5.6,
          6.7,
          9.2,
          4.32,
          65.4,
          28.67,
          2.45,
          1.23,
          4.18,
          15.32,
          21.54,
          23.09,
          3.2,
          7.87,
          12.3,
          1.8,
          23.4,
          2.35,
          8.79,
          12.43,
          43.95,
          9.09
         ],
         "yaxis": "y2"
        },
        {
         "marker": {
          "color": "#4B0082"
         },
         "name": "VolumeBruto",
         "type": "box",
         "xaxis": "x3",
         "y": [
          370.26,
          345.4,
          299.19,
          429.63,
          282.71,
          418.97,
          275.41,
          394.95,
          425.73,
          385.41,
          372.23,
          330.04,
          307.19,
          421.63,
          287.71,
          416.97,
          283.41,
          407.95,
          424.73,
          390.41,
          299.07,
          389.15,
          312.23,
          337.44,
          395.02,
          265.86,
          352.67,
          406.92,
          360.42,
          409.07,
          287.42,
          409.44,
          314.3,
          278.7,
          375.21,
          299.17,
          372.57,
          307.79,
          307.51,
          410,
          359.92,
          395.14,
          353.4,
          424.24,
          324.55,
          360.33,
          385.87,
          289.7,
          377.77,
          239.16,
          398.57,
          287.79,
          302.95,
          407,
          377.92,
          378.14,
          357.62,
          401.36,
          405.14,
          351.27,
          357.18,
          321.82,
          402.75,
          379.55,
          407.47,
          403.71,
          322.69,
          382.78,
          390.44,
          416.17,
          319.58,
          358.08,
          388.64,
          403.49,
          427.32,
          384,
          395.69,
          401.2,
          414.6,
          387.6,
          405.87,
          314.3,
          378.34,
          412.75,
          431.73,
          406.22,
          312.02,
          371.94,
          327.24,
          429.96,
          342.55,
          391.24,
          423.96,
          320.24,
          384.69,
          367.56,
          384.99,
          408.23,
          322.47,
          329.21,
          397.07,
          293.85,
          424.23,
          327.32,
          392.8,
          437.4,
          265.86,
          352.67,
          409.07,
          287.42,
          409.44,
          314.3,
          353.4,
          424.24,
          324.55,
          360.33,
          416.17,
          319.58,
          358.08,
          388.64,
          427.32,
          384,
          395.69,
          401.2,
          314.3,
          353.4,
          424.24,
          324.55,
          360.33,
          385.87,
          289.7,
          377.77,
          239.16,
          398.57,
          287.79,
          302.95,
          407,
          377.92,
          378.14,
          357.62,
          401.36,
          298.85,
          414.23,
          329.32,
          391.8,
          432.4,
          271.86,
          354.67,
          403.92,
          362.42,
          413.07,
          297.42,
          384,
          375.69,
          391.2,
          414.6,
          387.6,
          405.87,
          314.3,
          378.34,
          412.75,
          371.73,
          406.22,
          312.02,
          371.94,
          360.26,
          342.4,
          309.19,
          427.63,
          290.71,
          425.97,
          280.41,
          399.95,
          392.73,
          425.41,
          371.86,
          354.67,
          398.92,
          357.42,
          403.07,
          297.42,
          344,
          374.69,
          388.2,
          410.6,
          367.6,
          305.87,
          451.3,
          341.36,
          398.85,
          364.23,
          349.32,
          344.8,
          412.4,
          371.86,
          364.67,
          353.92,
          356.41,
          390.35,
          397.42,
          404.9,
          328.09,
          317.03,
          429.68,
          344.6,
          414.18,
          373.32,
          428.54,
          436.74,
          436.09,
          334.31,
          319.02,
          292.85,
          414.54,
          331.66,
          358.98,
          389.95,
          274.08,
          338.24,
          407.5,
          326.94,
          341.53,
          340.45,
          292.32,
          315.95,
          419.08,
          301.3,
          366.89,
          321.6,
          341.7,
          334.2,
          266.32,
          253.4,
          406.89,
          320.86,
          347.53,
          302.66,
          408.3,
          323.8,
          325.4,
          296.35,
          304.79,
          316.43,
          367.23,
          352.08,
          375.4,
          390.24,
          393.2,
          296.05,
          380.4,
          379.08,
          377.3,
          383.89,
          385.6,
          369.7,
          296.2,
          318.32,
          386.4,
          289.89,
          374.09,
          283.2,
          337.65,
          325.46,
          350.45,
          377.44,
          390.2,
          287.79,
          293.43,
          313.23,
          397.08,
          375.3,
          346.89,
          289.34,
          322.66,
          373.32,
          349.32,
          350.4,
          396.67,
          326.45,
          392.23,
          320.18,
          347.32,
          389.54,
          440.09,
          340.2,
          291.61,
          393.45,
          417.06,
          313.86,
          414.47,
          291.76,
          301.58,
          434.38,
          418.85
         ],
         "yaxis": "y3"
        }
       ],
       "layout": {
        "height": 600,
        "template": {
         "data": {
          "bar": [
           {
            "error_x": {
             "color": "#2a3f5f"
            },
            "error_y": {
             "color": "#2a3f5f"
            },
            "marker": {
             "line": {
              "color": "#E5ECF6",
              "width": 0.5
             },
             "pattern": {
              "fillmode": "overlay",
              "size": 10,
              "solidity": 0.2
             }
            },
            "type": "bar"
           }
          ],
          "barpolar": [
           {
            "marker": {
             "line": {
              "color": "#E5ECF6",
              "width": 0.5
             },
             "pattern": {
              "fillmode": "overlay",
              "size": 10,
              "solidity": 0.2
             }
            },
            "type": "barpolar"
           }
          ],
          "carpet": [
           {
            "aaxis": {
             "endlinecolor": "#2a3f5f",
             "gridcolor": "white",
             "linecolor": "white",
             "minorgridcolor": "white",
             "startlinecolor": "#2a3f5f"
            },
            "baxis": {
             "endlinecolor": "#2a3f5f",
             "gridcolor": "white",
             "linecolor": "white",
             "minorgridcolor": "white",
             "startlinecolor": "#2a3f5f"
            },
            "type": "carpet"
           }
          ],
          "choropleth": [
           {
            "colorbar": {
             "outlinewidth": 0,
             "ticks": ""
            },
            "type": "choropleth"
           }
          ],
          "contour": [
           {
            "colorbar": {
             "outlinewidth": 0,
             "ticks": ""
            },
            "colorscale": [
             [
              0,
              "#0d0887"
             ],
             [
              0.1111111111111111,
              "#46039f"
             ],
             [
              0.2222222222222222,
              "#7201a8"
             ],
             [
              0.3333333333333333,
              "#9c179e"
             ],
             [
              0.4444444444444444,
              "#bd3786"
             ],
             [
              0.5555555555555556,
              "#d8576b"
             ],
             [
              0.6666666666666666,
              "#ed7953"
             ],
             [
              0.7777777777777778,
              "#fb9f3a"
             ],
             [
              0.8888888888888888,
              "#fdca26"
             ],
             [
              1,
              "#f0f921"
             ]
            ],
            "type": "contour"
           }
          ],
          "contourcarpet": [
           {
            "colorbar": {
             "outlinewidth": 0,
             "ticks": ""
            },
            "type": "contourcarpet"
           }
          ],
          "heatmap": [
           {
            "colorbar": {
             "outlinewidth": 0,
             "ticks": ""
            },
            "colorscale": [
             [
              0,
              "#0d0887"
             ],
             [
              0.1111111111111111,
              "#46039f"
             ],
             [
              0.2222222222222222,
              "#7201a8"
             ],
             [
              0.3333333333333333,
              "#9c179e"
             ],
             [
              0.4444444444444444,
              "#bd3786"
             ],
             [
              0.5555555555555556,
              "#d8576b"
             ],
             [
              0.6666666666666666,
              "#ed7953"
             ],
             [
              0.7777777777777778,
              "#fb9f3a"
             ],
             [
              0.8888888888888888,
              "#fdca26"
             ],
             [
              1,
              "#f0f921"
             ]
            ],
            "type": "heatmap"
           }
          ],
          "heatmapgl": [
           {
            "colorbar": {
             "outlinewidth": 0,
             "ticks": ""
            },
            "colorscale": [
             [
              0,
              "#0d0887"
             ],
             [
              0.1111111111111111,
              "#46039f"
             ],
             [
              0.2222222222222222,
              "#7201a8"
             ],
             [
              0.3333333333333333,
              "#9c179e"
             ],
             [
              0.4444444444444444,
              "#bd3786"
             ],
             [
              0.5555555555555556,
              "#d8576b"
             ],
             [
              0.6666666666666666,
              "#ed7953"
             ],
             [
              0.7777777777777778,
              "#fb9f3a"
             ],
             [
              0.8888888888888888,
              "#fdca26"
             ],
             [
              1,
              "#f0f921"
             ]
            ],
            "type": "heatmapgl"
           }
          ],
          "histogram": [
           {
            "marker": {
             "pattern": {
              "fillmode": "overlay",
              "size": 10,
              "solidity": 0.2
             }
            },
            "type": "histogram"
           }
          ],
          "histogram2d": [
           {
            "colorbar": {
             "outlinewidth": 0,
             "ticks": ""
            },
            "colorscale": [
             [
              0,
              "#0d0887"
             ],
             [
              0.1111111111111111,
              "#46039f"
             ],
             [
              0.2222222222222222,
              "#7201a8"
             ],
             [
              0.3333333333333333,
              "#9c179e"
             ],
             [
              0.4444444444444444,
              "#bd3786"
             ],
             [
              0.5555555555555556,
              "#d8576b"
             ],
             [
              0.6666666666666666,
              "#ed7953"
             ],
             [
              0.7777777777777778,
              "#fb9f3a"
             ],
             [
              0.8888888888888888,
              "#fdca26"
             ],
             [
              1,
              "#f0f921"
             ]
            ],
            "type": "histogram2d"
           }
          ],
          "histogram2dcontour": [
           {
            "colorbar": {
             "outlinewidth": 0,
             "ticks": ""
            },
            "colorscale": [
             [
              0,
              "#0d0887"
             ],
             [
              0.1111111111111111,
              "#46039f"
             ],
             [
              0.2222222222222222,
              "#7201a8"
             ],
             [
              0.3333333333333333,
              "#9c179e"
             ],
             [
              0.4444444444444444,
              "#bd3786"
             ],
             [
              0.5555555555555556,
              "#d8576b"
             ],
             [
              0.6666666666666666,
              "#ed7953"
             ],
             [
              0.7777777777777778,
              "#fb9f3a"
             ],
             [
              0.8888888888888888,
              "#fdca26"
             ],
             [
              1,
              "#f0f921"
             ]
            ],
            "type": "histogram2dcontour"
           }
          ],
          "mesh3d": [
           {
            "colorbar": {
             "outlinewidth": 0,
             "ticks": ""
            },
            "type": "mesh3d"
           }
          ],
          "parcoords": [
           {
            "line": {
             "colorbar": {
              "outlinewidth": 0,
              "ticks": ""
             }
            },
            "type": "parcoords"
           }
          ],
          "pie": [
           {
            "automargin": true,
            "type": "pie"
           }
          ],
          "scatter": [
           {
            "marker": {
             "colorbar": {
              "outlinewidth": 0,
              "ticks": ""
             }
            },
            "type": "scatter"
           }
          ],
          "scatter3d": [
           {
            "line": {
             "colorbar": {
              "outlinewidth": 0,
              "ticks": ""
             }
            },
            "marker": {
             "colorbar": {
              "outlinewidth": 0,
              "ticks": ""
             }
            },
            "type": "scatter3d"
           }
          ],
          "scattercarpet": [
           {
            "marker": {
             "colorbar": {
              "outlinewidth": 0,
              "ticks": ""
             }
            },
            "type": "scattercarpet"
           }
          ],
          "scattergeo": [
           {
            "marker": {
             "colorbar": {
              "outlinewidth": 0,
              "ticks": ""
             }
            },
            "type": "scattergeo"
           }
          ],
          "scattergl": [
           {
            "marker": {
             "colorbar": {
              "outlinewidth": 0,
              "ticks": ""
             }
            },
            "type": "scattergl"
           }
          ],
          "scattermapbox": [
           {
            "marker": {
             "colorbar": {
              "outlinewidth": 0,
              "ticks": ""
             }
            },
            "type": "scattermapbox"
           }
          ],
          "scatterpolar": [
           {
            "marker": {
             "colorbar": {
              "outlinewidth": 0,
              "ticks": ""
             }
            },
            "type": "scatterpolar"
           }
          ],
          "scatterpolargl": [
           {
            "marker": {
             "colorbar": {
              "outlinewidth": 0,
              "ticks": ""
             }
            },
            "type": "scatterpolargl"
           }
          ],
          "scatterternary": [
           {
            "marker": {
             "colorbar": {
              "outlinewidth": 0,
              "ticks": ""
             }
            },
            "type": "scatterternary"
           }
          ],
          "surface": [
           {
            "colorbar": {
             "outlinewidth": 0,
             "ticks": ""
            },
            "colorscale": [
             [
              0,
              "#0d0887"
             ],
             [
              0.1111111111111111,
              "#46039f"
             ],
             [
              0.2222222222222222,
              "#7201a8"
             ],
             [
              0.3333333333333333,
              "#9c179e"
             ],
             [
              0.4444444444444444,
              "#bd3786"
             ],
             [
              0.5555555555555556,
              "#d8576b"
             ],
             [
              0.6666666666666666,
              "#ed7953"
             ],
             [
              0.7777777777777778,
              "#fb9f3a"
             ],
             [
              0.8888888888888888,
              "#fdca26"
             ],
             [
              1,
              "#f0f921"
             ]
            ],
            "type": "surface"
           }
          ],
          "table": [
           {
            "cells": {
             "fill": {
              "color": "#EBF0F8"
             },
             "line": {
              "color": "white"
             }
            },
            "header": {
             "fill": {
              "color": "#C8D4E3"
             },
             "line": {
              "color": "white"
             }
            },
            "type": "table"
           }
          ]
         },
         "layout": {
          "annotationdefaults": {
           "arrowcolor": "#2a3f5f",
           "arrowhead": 0,
           "arrowwidth": 1
          },
          "autotypenumbers": "strict",
          "coloraxis": {
           "colorbar": {
            "outlinewidth": 0,
            "ticks": ""
           }
          },
          "colorscale": {
           "diverging": [
            [
             0,
             "#8e0152"
            ],
            [
             0.1,
             "#c51b7d"
            ],
            [
             0.2,
             "#de77ae"
            ],
            [
             0.3,
             "#f1b6da"
            ],
            [
             0.4,
             "#fde0ef"
            ],
            [
             0.5,
             "#f7f7f7"
            ],
            [
             0.6,
             "#e6f5d0"
            ],
            [
             0.7,
             "#b8e186"
            ],
            [
             0.8,
             "#7fbc41"
            ],
            [
             0.9,
             "#4d9221"
            ],
            [
             1,
             "#276419"
            ]
           ],
           "sequential": [
            [
             0,
             "#0d0887"
            ],
            [
             0.1111111111111111,
             "#46039f"
            ],
            [
             0.2222222222222222,
             "#7201a8"
            ],
            [
             0.3333333333333333,
             "#9c179e"
            ],
            [
             0.4444444444444444,
             "#bd3786"
            ],
            [
             0.5555555555555556,
             "#d8576b"
            ],
            [
             0.6666666666666666,
             "#ed7953"
            ],
            [
             0.7777777777777778,
             "#fb9f3a"
            ],
            [
             0.8888888888888888,
             "#fdca26"
            ],
            [
             1,
             "#f0f921"
            ]
           ],
           "sequentialminus": [
            [
             0,
             "#0d0887"
            ],
            [
             0.1111111111111111,
             "#46039f"
            ],
            [
             0.2222222222222222,
             "#7201a8"
            ],
            [
             0.3333333333333333,
             "#9c179e"
            ],
            [
             0.4444444444444444,
             "#bd3786"
            ],
            [
             0.5555555555555556,
             "#d8576b"
            ],
            [
             0.6666666666666666,
             "#ed7953"
            ],
            [
             0.7777777777777778,
             "#fb9f3a"
            ],
            [
             0.8888888888888888,
             "#fdca26"
            ],
            [
             1,
             "#f0f921"
            ]
           ]
          },
          "colorway": [
           "#636efa",
           "#EF553B",
           "#00cc96",
           "#ab63fa",
           "#FFA15A",
           "#19d3f3",
           "#FF6692",
           "#B6E880",
           "#FF97FF",
           "#FECB52"
          ],
          "font": {
           "color": "#2a3f5f"
          },
          "geo": {
           "bgcolor": "white",
           "lakecolor": "white",
           "landcolor": "#E5ECF6",
           "showlakes": true,
           "showland": true,
           "subunitcolor": "white"
          },
          "hoverlabel": {
           "align": "left"
          },
          "hovermode": "closest",
          "mapbox": {
           "style": "light"
          },
          "paper_bgcolor": "white",
          "plot_bgcolor": "#E5ECF6",
          "polar": {
           "angularaxis": {
            "gridcolor": "white",
            "linecolor": "white",
            "ticks": ""
           },
           "bgcolor": "#E5ECF6",
           "radialaxis": {
            "gridcolor": "white",
            "linecolor": "white",
            "ticks": ""
           }
          },
          "scene": {
           "xaxis": {
            "backgroundcolor": "#E5ECF6",
            "gridcolor": "white",
            "gridwidth": 2,
            "linecolor": "white",
            "showbackground": true,
            "ticks": "",
            "zerolinecolor": "white"
           },
           "yaxis": {
            "backgroundcolor": "#E5ECF6",
            "gridcolor": "white",
            "gridwidth": 2,
            "linecolor": "white",
            "showbackground": true,
            "ticks": "",
            "zerolinecolor": "white"
           },
           "zaxis": {
            "backgroundcolor": "#E5ECF6",
            "gridcolor": "white",
            "gridwidth": 2,
            "linecolor": "white",
            "showbackground": true,
            "ticks": "",
            "zerolinecolor": "white"
           }
          },
          "shapedefaults": {
           "line": {
            "color": "#2a3f5f"
           }
          },
          "ternary": {
           "aaxis": {
            "gridcolor": "white",
            "linecolor": "white",
            "ticks": ""
           },
           "baxis": {
            "gridcolor": "white",
            "linecolor": "white",
            "ticks": ""
           },
           "bgcolor": "#E5ECF6",
           "caxis": {
            "gridcolor": "white",
            "linecolor": "white",
            "ticks": ""
           }
          },
          "title": {
           "x": 0.05
          },
          "xaxis": {
           "automargin": true,
           "gridcolor": "white",
           "linecolor": "white",
           "ticks": "",
           "title": {
            "standoff": 15
           },
           "zerolinecolor": "white",
           "zerolinewidth": 2
          },
          "yaxis": {
           "automargin": true,
           "gridcolor": "white",
           "linecolor": "white",
           "ticks": "",
           "title": {
            "standoff": 15
           },
           "zerolinecolor": "white",
           "zerolinewidth": 2
          }
         }
        },
        "title": {
         "text": "<b style='color:#000000'>Estatística de Volumes da Reciclagem Várzea Grande </b>"
        },
        "width": 800,
        "xaxis": {
         "anchor": "y",
         "domain": [
          0,
          0.2888888888888889
         ]
        },
        "xaxis2": {
         "anchor": "y2",
         "domain": [
          0.35555555555555557,
          0.6444444444444445
         ]
        },
        "xaxis3": {
         "anchor": "y3",
         "domain": [
          0.7111111111111111,
          1
         ]
        },
        "yaxis": {
         "anchor": "x",
         "domain": [
          0,
          1
         ]
        },
        "yaxis2": {
         "anchor": "x2",
         "domain": [
          0,
          1
         ]
        },
        "yaxis3": {
         "anchor": "x3",
         "domain": [
          0,
          1
         ]
        }
       }
      },
      "text/html": [
       "<div>                            <div id=\"5787b5c2-8eef-4bb8-8cc8-b0aca6cf0d15\" class=\"plotly-graph-div\" style=\"height:600px; width:800px;\"></div>            <script type=\"text/javascript\">                require([\"plotly\"], function(Plotly) {                    window.PLOTLYENV=window.PLOTLYENV || {};                                    if (document.getElementById(\"5787b5c2-8eef-4bb8-8cc8-b0aca6cf0d15\")) {                    Plotly.newPlot(                        \"5787b5c2-8eef-4bb8-8cc8-b0aca6cf0d15\",                        [{\"marker\":{\"color\":\"#00008B\"},\"name\":\"VolumeL\\u00edquido\",\"y\":[356.51,327.49,277.82,404.12,271.12,370.79,260.08,373.4,400.99,355.32,356.48,317.12,287.82,394.12,273.12,373.79,266.08,383.4,402.99,357.32,289.19,371.4,298.9,319.12,389.46,242.46,350.32,398.13,347.99,365.12,278.33,408.19,309.8,270.4,362.87,282.4,369.78,290.45,302.3,404.65,349.12,377.34,350.0,415.34,278.85,347.89,380.1,277.4,369.87,232.4,389.78,270.45,299.3,404.65,369.12,370.34,323.5,390.47,402.04,296.7,350.4,302.5,399.88,374.23,405.68,400.56,317.9,375.9,375.12,413.5,299.8,350.2,380.3,401.6,425.45,380.7,390.8,395.6,407.9,378.4,401.55,248.9,349.67,410.3,430.5,402.04,296.7,350.4,302.5,399.88,324.23,385.68,400.56,317.9,375.9,355.12,374.56,402.8,287.77,320.0,390.21,270.76,421.03,319.45,380.5,435.6,242.46,350.32,365.12,278.33,408.19,309.8,350.0,415.34,278.85,347.89,413.5,299.8,350.2,380.3,425.45,380.7,390.8,395.6,309.8,350.0,415.34,278.85,347.89,380.1,277.4,369.87,232.4,389.78,270.45,299.3,404.65,369.12,370.34,323.5,390.47,275.76,411.03,321.45,379.5,430.6,248.46,352.32,395.13,349.99,369.12,288.33,380.7,370.8,385.6,407.9,378.4,401.55,248.9,349.67,410.3,370.5,402.04,296.7,350.4,346.51,324.49,287.82,402.12,279.12,377.79,265.08,378.4,367.99,395.32,348.46,352.32,390.13,344.99,389.12,288.33,340.7,369.8,382.6,403.9,358.4,301.55,448.9,330.47,375.76,361.03,341.45,339.5,410.6,348.46,362.32,345.13,343.98,379.12,388.33,391.15,310.17,295.65,404.16,333.0,366.0,358.0,407.0,412.0,406.0,315.99,313.46,269.45,412.19,322.87,346.55,346.0,265.0,337.0,403.0,303.54,339.19,331.66,279.89,302.0,410.0,298.0,362.0,316.0,335.0,325.0,262.0,251.0,396.0,297.77,344.33,294.79,403.0,322.0,302.0,294.0,296.0,304.0,356.0,343.0,352.0,387.89,384.41,283.62,366.45,370.0,374.0,379.0,380.0,363.0,287.0,314.0,384.0,279.0,351.0,280.0,329.78,320.16,348.65,354.04,387.85,279.0,281.0,302.0,388.0,372.0,342.0,283.74,315.96,364.12,345.0,285.0,368.0,324.0,391.0,316.0,332.0,368.0,417.0,337.0,283.74,381.15,415.26,290.46,412.12,282.98,289.15,390.43,409.76],\"type\":\"box\",\"xaxis\":\"x\",\"yaxis\":\"y\"},{\"marker\":{\"color\":\"#006400\"},\"name\":\"VolumeRefugo\",\"y\":[13.75,17.91,21.38,25.52,11.6,48.18,15.32,21.54,24.74,30.09,15.75,12.91,19.38,27.52,14.6,43.18,17.32,24.54,21.74,33.09,9.88,17.75,13.33,18.32,5.57,23.4,2.35,8.79,12.43,43.95,9.09,1.25,4.5,8.3,12.34,16.76,2.79,17.34,5.21,5.35,10.8,17.8,3.4,8.9,45.7,12.44,5.77,12.3,7.9,6.76,8.79,17.34,3.65,2.35,8.8,7.8,34.12,10.89,3.1,54.57,6.78,19.32,2.88,5.32,1.79,3.15,4.79,6.88,15.32,2.67,19.78,7.88,8.34,1.89,1.87,3.3,4.89,5.6,6.7,9.2,4.32,65.4,28.67,2.45,1.23,4.18,15.32,21.54,24.74,30.09,18.32,5.57,23.4,2.35,8.79,12.43,10.43,5.43,34.7,9.21,6.86,23.09,3.2,7.87,12.3,1.8,23.4,2.35,43.95,9.09,1.25,4.5,3.4,8.9,45.7,12.44,2.67,19.78,7.88,8.34,1.87,3.3,4.89,5.6,4.5,3.4,8.9,45.7,12.44,5.77,12.3,7.9,6.76,8.79,17.34,3.65,2.35,8.8,7.8,34.12,10.89,23.09,3.2,7.87,12.3,1.8,23.4,2.35,8.79,12.43,43.95,9.09,3.3,4.89,5.6,6.7,9.2,4.32,65.4,28.67,2.45,1.23,4.18,15.32,21.54,13.75,17.91,21.38,25.52,11.6,48.18,15.32,21.54,24.74,30.09,23.4,2.35,8.79,12.43,13.95,9.09,3.3,4.89,5.6,6.7,9.2,4.32,2.4,10.89,23.09,3.2,7.87,5.3,1.8,23.4,2.35,8.79,12.43,11.23,9.09,13.75,17.91,21.38,25.52,11.6,48.18,15.32,21.54,24.74,30.09,18.32,5.57,23.4,2.35,8.79,12.43,43.95,9.09,1.25,4.5,23.4,2.35,8.79,12.43,13.95,9.09,3.3,4.89,5.6,6.7,9.2,4.32,2.4,10.89,23.09,3.2,7.87,5.3,1.8,23.4,2.35,8.79,12.43,11.23,9.09,23.4,2.35,8.79,12.43,13.95,9.09,3.3,4.89,5.6,6.7,9.2,4.32,2.4,10.89,23.09,3.2,7.87,5.3,1.8,23.4,2.35,8.79,12.43,11.23,9.09,3.3,4.89,5.6,6.7,9.2,4.32,65.4,28.67,2.45,1.23,4.18,15.32,21.54,23.09,3.2,7.87,12.3,1.8,23.4,2.35,8.79,12.43,43.95,9.09],\"type\":\"box\",\"xaxis\":\"x2\",\"yaxis\":\"y2\"},{\"marker\":{\"color\":\"#4B0082\"},\"name\":\"VolumeBruto\",\"y\":[370.26,345.4,299.19,429.63,282.71,418.97,275.41,394.95,425.73,385.41,372.23,330.04,307.19,421.63,287.71,416.97,283.41,407.95,424.73,390.41,299.07,389.15,312.23,337.44,395.02,265.86,352.67,406.92,360.42,409.07,287.42,409.44,314.3,278.7,375.21,299.17,372.57,307.79,307.51,410.0,359.92,395.14,353.4,424.24,324.55,360.33,385.87,289.7,377.77,239.16,398.57,287.79,302.95,407.0,377.92,378.14,357.62,401.36,405.14,351.27,357.18,321.82,402.75,379.55,407.47,403.71,322.69,382.78,390.44,416.17,319.58,358.08,388.64,403.49,427.32,384.0,395.69,401.2,414.6,387.6,405.87,314.3,378.34,412.75,431.73,406.22,312.02,371.94,327.24,429.96,342.55,391.24,423.96,320.24,384.69,367.56,384.99,408.23,322.47,329.21,397.07,293.85,424.23,327.32,392.8,437.4,265.86,352.67,409.07,287.42,409.44,314.3,353.4,424.24,324.55,360.33,416.17,319.58,358.08,388.64,427.32,384.0,395.69,401.2,314.3,353.4,424.24,324.55,360.33,385.87,289.7,377.77,239.16,398.57,287.79,302.95,407.0,377.92,378.14,357.62,401.36,298.85,414.23,329.32,391.8,432.4,271.86,354.67,403.92,362.42,413.07,297.42,384.0,375.69,391.2,414.6,387.6,405.87,314.3,378.34,412.75,371.73,406.22,312.02,371.94,360.26,342.4,309.19,427.63,290.71,425.97,280.41,399.95,392.73,425.41,371.86,354.67,398.92,357.42,403.07,297.42,344.0,374.69,388.2,410.6,367.6,305.87,451.3,341.36,398.85,364.23,349.32,344.8,412.4,371.86,364.67,353.92,356.41,390.35,397.42,404.9,328.09,317.03,429.68,344.6,414.18,373.32,428.54,436.74,436.09,334.31,319.02,292.85,414.54,331.66,358.98,389.95,274.08,338.24,407.5,326.94,341.53,340.45,292.32,315.95,419.08,301.3,366.89,321.6,341.7,334.2,266.32,253.4,406.89,320.86,347.53,302.66,408.3,323.8,325.4,296.35,304.79,316.43,367.23,352.08,375.4,390.24,393.2,296.05,380.4,379.08,377.3,383.89,385.6,369.7,296.2,318.32,386.4,289.89,374.09,283.2,337.65,325.46,350.45,377.44,390.2,287.79,293.43,313.23,397.08,375.3,346.89,289.34,322.66,373.32,349.32,350.4,396.67,326.45,392.23,320.18,347.32,389.54,440.09,340.2,291.61,393.45,417.06,313.86,414.47,291.76,301.58,434.38,418.85],\"type\":\"box\",\"xaxis\":\"x3\",\"yaxis\":\"y3\"}],                        {\"template\":{\"data\":{\"bar\":[{\"error_x\":{\"color\":\"#2a3f5f\"},\"error_y\":{\"color\":\"#2a3f5f\"},\"marker\":{\"line\":{\"color\":\"#E5ECF6\",\"width\":0.5},\"pattern\":{\"fillmode\":\"overlay\",\"size\":10,\"solidity\":0.2}},\"type\":\"bar\"}],\"barpolar\":[{\"marker\":{\"line\":{\"color\":\"#E5ECF6\",\"width\":0.5},\"pattern\":{\"fillmode\":\"overlay\",\"size\":10,\"solidity\":0.2}},\"type\":\"barpolar\"}],\"carpet\":[{\"aaxis\":{\"endlinecolor\":\"#2a3f5f\",\"gridcolor\":\"white\",\"linecolor\":\"white\",\"minorgridcolor\":\"white\",\"startlinecolor\":\"#2a3f5f\"},\"baxis\":{\"endlinecolor\":\"#2a3f5f\",\"gridcolor\":\"white\",\"linecolor\":\"white\",\"minorgridcolor\":\"white\",\"startlinecolor\":\"#2a3f5f\"},\"type\":\"carpet\"}],\"choropleth\":[{\"colorbar\":{\"outlinewidth\":0,\"ticks\":\"\"},\"type\":\"choropleth\"}],\"contour\":[{\"colorbar\":{\"outlinewidth\":0,\"ticks\":\"\"},\"colorscale\":[[0.0,\"#0d0887\"],[0.1111111111111111,\"#46039f\"],[0.2222222222222222,\"#7201a8\"],[0.3333333333333333,\"#9c179e\"],[0.4444444444444444,\"#bd3786\"],[0.5555555555555556,\"#d8576b\"],[0.6666666666666666,\"#ed7953\"],[0.7777777777777778,\"#fb9f3a\"],[0.8888888888888888,\"#fdca26\"],[1.0,\"#f0f921\"]],\"type\":\"contour\"}],\"contourcarpet\":[{\"colorbar\":{\"outlinewidth\":0,\"ticks\":\"\"},\"type\":\"contourcarpet\"}],\"heatmap\":[{\"colorbar\":{\"outlinewidth\":0,\"ticks\":\"\"},\"colorscale\":[[0.0,\"#0d0887\"],[0.1111111111111111,\"#46039f\"],[0.2222222222222222,\"#7201a8\"],[0.3333333333333333,\"#9c179e\"],[0.4444444444444444,\"#bd3786\"],[0.5555555555555556,\"#d8576b\"],[0.6666666666666666,\"#ed7953\"],[0.7777777777777778,\"#fb9f3a\"],[0.8888888888888888,\"#fdca26\"],[1.0,\"#f0f921\"]],\"type\":\"heatmap\"}],\"heatmapgl\":[{\"colorbar\":{\"outlinewidth\":0,\"ticks\":\"\"},\"colorscale\":[[0.0,\"#0d0887\"],[0.1111111111111111,\"#46039f\"],[0.2222222222222222,\"#7201a8\"],[0.3333333333333333,\"#9c179e\"],[0.4444444444444444,\"#bd3786\"],[0.5555555555555556,\"#d8576b\"],[0.6666666666666666,\"#ed7953\"],[0.7777777777777778,\"#fb9f3a\"],[0.8888888888888888,\"#fdca26\"],[1.0,\"#f0f921\"]],\"type\":\"heatmapgl\"}],\"histogram\":[{\"marker\":{\"pattern\":{\"fillmode\":\"overlay\",\"size\":10,\"solidity\":0.2}},\"type\":\"histogram\"}],\"histogram2d\":[{\"colorbar\":{\"outlinewidth\":0,\"ticks\":\"\"},\"colorscale\":[[0.0,\"#0d0887\"],[0.1111111111111111,\"#46039f\"],[0.2222222222222222,\"#7201a8\"],[0.3333333333333333,\"#9c179e\"],[0.4444444444444444,\"#bd3786\"],[0.5555555555555556,\"#d8576b\"],[0.6666666666666666,\"#ed7953\"],[0.7777777777777778,\"#fb9f3a\"],[0.8888888888888888,\"#fdca26\"],[1.0,\"#f0f921\"]],\"type\":\"histogram2d\"}],\"histogram2dcontour\":[{\"colorbar\":{\"outlinewidth\":0,\"ticks\":\"\"},\"colorscale\":[[0.0,\"#0d0887\"],[0.1111111111111111,\"#46039f\"],[0.2222222222222222,\"#7201a8\"],[0.3333333333333333,\"#9c179e\"],[0.4444444444444444,\"#bd3786\"],[0.5555555555555556,\"#d8576b\"],[0.6666666666666666,\"#ed7953\"],[0.7777777777777778,\"#fb9f3a\"],[0.8888888888888888,\"#fdca26\"],[1.0,\"#f0f921\"]],\"type\":\"histogram2dcontour\"}],\"mesh3d\":[{\"colorbar\":{\"outlinewidth\":0,\"ticks\":\"\"},\"type\":\"mesh3d\"}],\"parcoords\":[{\"line\":{\"colorbar\":{\"outlinewidth\":0,\"ticks\":\"\"}},\"type\":\"parcoords\"}],\"pie\":[{\"automargin\":true,\"type\":\"pie\"}],\"scatter\":[{\"marker\":{\"colorbar\":{\"outlinewidth\":0,\"ticks\":\"\"}},\"type\":\"scatter\"}],\"scatter3d\":[{\"line\":{\"colorbar\":{\"outlinewidth\":0,\"ticks\":\"\"}},\"marker\":{\"colorbar\":{\"outlinewidth\":0,\"ticks\":\"\"}},\"type\":\"scatter3d\"}],\"scattercarpet\":[{\"marker\":{\"colorbar\":{\"outlinewidth\":0,\"ticks\":\"\"}},\"type\":\"scattercarpet\"}],\"scattergeo\":[{\"marker\":{\"colorbar\":{\"outlinewidth\":0,\"ticks\":\"\"}},\"type\":\"scattergeo\"}],\"scattergl\":[{\"marker\":{\"colorbar\":{\"outlinewidth\":0,\"ticks\":\"\"}},\"type\":\"scattergl\"}],\"scattermapbox\":[{\"marker\":{\"colorbar\":{\"outlinewidth\":0,\"ticks\":\"\"}},\"type\":\"scattermapbox\"}],\"scatterpolar\":[{\"marker\":{\"colorbar\":{\"outlinewidth\":0,\"ticks\":\"\"}},\"type\":\"scatterpolar\"}],\"scatterpolargl\":[{\"marker\":{\"colorbar\":{\"outlinewidth\":0,\"ticks\":\"\"}},\"type\":\"scatterpolargl\"}],\"scatterternary\":[{\"marker\":{\"colorbar\":{\"outlinewidth\":0,\"ticks\":\"\"}},\"type\":\"scatterternary\"}],\"surface\":[{\"colorbar\":{\"outlinewidth\":0,\"ticks\":\"\"},\"colorscale\":[[0.0,\"#0d0887\"],[0.1111111111111111,\"#46039f\"],[0.2222222222222222,\"#7201a8\"],[0.3333333333333333,\"#9c179e\"],[0.4444444444444444,\"#bd3786\"],[0.5555555555555556,\"#d8576b\"],[0.6666666666666666,\"#ed7953\"],[0.7777777777777778,\"#fb9f3a\"],[0.8888888888888888,\"#fdca26\"],[1.0,\"#f0f921\"]],\"type\":\"surface\"}],\"table\":[{\"cells\":{\"fill\":{\"color\":\"#EBF0F8\"},\"line\":{\"color\":\"white\"}},\"header\":{\"fill\":{\"color\":\"#C8D4E3\"},\"line\":{\"color\":\"white\"}},\"type\":\"table\"}]},\"layout\":{\"annotationdefaults\":{\"arrowcolor\":\"#2a3f5f\",\"arrowhead\":0,\"arrowwidth\":1},\"autotypenumbers\":\"strict\",\"coloraxis\":{\"colorbar\":{\"outlinewidth\":0,\"ticks\":\"\"}},\"colorscale\":{\"diverging\":[[0,\"#8e0152\"],[0.1,\"#c51b7d\"],[0.2,\"#de77ae\"],[0.3,\"#f1b6da\"],[0.4,\"#fde0ef\"],[0.5,\"#f7f7f7\"],[0.6,\"#e6f5d0\"],[0.7,\"#b8e186\"],[0.8,\"#7fbc41\"],[0.9,\"#4d9221\"],[1,\"#276419\"]],\"sequential\":[[0.0,\"#0d0887\"],[0.1111111111111111,\"#46039f\"],[0.2222222222222222,\"#7201a8\"],[0.3333333333333333,\"#9c179e\"],[0.4444444444444444,\"#bd3786\"],[0.5555555555555556,\"#d8576b\"],[0.6666666666666666,\"#ed7953\"],[0.7777777777777778,\"#fb9f3a\"],[0.8888888888888888,\"#fdca26\"],[1.0,\"#f0f921\"]],\"sequentialminus\":[[0.0,\"#0d0887\"],[0.1111111111111111,\"#46039f\"],[0.2222222222222222,\"#7201a8\"],[0.3333333333333333,\"#9c179e\"],[0.4444444444444444,\"#bd3786\"],[0.5555555555555556,\"#d8576b\"],[0.6666666666666666,\"#ed7953\"],[0.7777777777777778,\"#fb9f3a\"],[0.8888888888888888,\"#fdca26\"],[1.0,\"#f0f921\"]]},\"colorway\":[\"#636efa\",\"#EF553B\",\"#00cc96\",\"#ab63fa\",\"#FFA15A\",\"#19d3f3\",\"#FF6692\",\"#B6E880\",\"#FF97FF\",\"#FECB52\"],\"font\":{\"color\":\"#2a3f5f\"},\"geo\":{\"bgcolor\":\"white\",\"lakecolor\":\"white\",\"landcolor\":\"#E5ECF6\",\"showlakes\":true,\"showland\":true,\"subunitcolor\":\"white\"},\"hoverlabel\":{\"align\":\"left\"},\"hovermode\":\"closest\",\"mapbox\":{\"style\":\"light\"},\"paper_bgcolor\":\"white\",\"plot_bgcolor\":\"#E5ECF6\",\"polar\":{\"angularaxis\":{\"gridcolor\":\"white\",\"linecolor\":\"white\",\"ticks\":\"\"},\"bgcolor\":\"#E5ECF6\",\"radialaxis\":{\"gridcolor\":\"white\",\"linecolor\":\"white\",\"ticks\":\"\"}},\"scene\":{\"xaxis\":{\"backgroundcolor\":\"#E5ECF6\",\"gridcolor\":\"white\",\"gridwidth\":2,\"linecolor\":\"white\",\"showbackground\":true,\"ticks\":\"\",\"zerolinecolor\":\"white\"},\"yaxis\":{\"backgroundcolor\":\"#E5ECF6\",\"gridcolor\":\"white\",\"gridwidth\":2,\"linecolor\":\"white\",\"showbackground\":true,\"ticks\":\"\",\"zerolinecolor\":\"white\"},\"zaxis\":{\"backgroundcolor\":\"#E5ECF6\",\"gridcolor\":\"white\",\"gridwidth\":2,\"linecolor\":\"white\",\"showbackground\":true,\"ticks\":\"\",\"zerolinecolor\":\"white\"}},\"shapedefaults\":{\"line\":{\"color\":\"#2a3f5f\"}},\"ternary\":{\"aaxis\":{\"gridcolor\":\"white\",\"linecolor\":\"white\",\"ticks\":\"\"},\"baxis\":{\"gridcolor\":\"white\",\"linecolor\":\"white\",\"ticks\":\"\"},\"bgcolor\":\"#E5ECF6\",\"caxis\":{\"gridcolor\":\"white\",\"linecolor\":\"white\",\"ticks\":\"\"}},\"title\":{\"x\":0.05},\"xaxis\":{\"automargin\":true,\"gridcolor\":\"white\",\"linecolor\":\"white\",\"ticks\":\"\",\"title\":{\"standoff\":15},\"zerolinecolor\":\"white\",\"zerolinewidth\":2},\"yaxis\":{\"automargin\":true,\"gridcolor\":\"white\",\"linecolor\":\"white\",\"ticks\":\"\",\"title\":{\"standoff\":15},\"zerolinecolor\":\"white\",\"zerolinewidth\":2}}},\"xaxis\":{\"anchor\":\"y\",\"domain\":[0.0,0.2888888888888889]},\"yaxis\":{\"anchor\":\"x\",\"domain\":[0.0,1.0]},\"xaxis2\":{\"anchor\":\"y2\",\"domain\":[0.35555555555555557,0.6444444444444445]},\"yaxis2\":{\"anchor\":\"x2\",\"domain\":[0.0,1.0]},\"xaxis3\":{\"anchor\":\"y3\",\"domain\":[0.7111111111111111,1.0]},\"yaxis3\":{\"anchor\":\"x3\",\"domain\":[0.0,1.0]},\"title\":{\"text\":\"<b style='color:#000000'>Estat\\u00edstica de Volumes da Reciclagem V\\u00e1rzea Grande </b>\"},\"height\":600,\"width\":800},                        {\"responsive\": true}                    ).then(function(){\n",
       "                            \n",
       "var gd = document.getElementById('5787b5c2-8eef-4bb8-8cc8-b0aca6cf0d15');\n",
       "var x = new MutationObserver(function (mutations, observer) {{\n",
       "        var display = window.getComputedStyle(gd).display;\n",
       "        if (!display || display === 'none') {{\n",
       "            console.log([gd, 'removed!']);\n",
       "            Plotly.purge(gd);\n",
       "            observer.disconnect();\n",
       "        }}\n",
       "}});\n",
       "\n",
       "// Listen for the removal of the full notebook cells\n",
       "var notebookContainer = gd.closest('#notebook-container');\n",
       "if (notebookContainer) {{\n",
       "    x.observe(notebookContainer, {childList: true});\n",
       "}}\n",
       "\n",
       "// Listen for the clearing of the current output cell\n",
       "var outputEl = gd.closest('.output');\n",
       "if (outputEl) {{\n",
       "    x.observe(outputEl, {childList: true});\n",
       "}}\n",
       "\n",
       "                        })                };                });            </script>        </div>"
      ]
     },
     "metadata": {},
     "output_type": "display_data"
    }
   ],
   "source": [
    "from plotly.subplots import make_subplots\n",
    "\n",
    "color_discrete_sequence=['#00008B', '#006400', '#4B0082']\n",
    "\n",
    "fig = make_subplots(rows=1, cols=3)\n",
    "fig.add_trace(go.Box(y=Dim_Volume_Pessoas['VolumeLíquido'], name='VolumeLíquido', marker={'color' : color_discrete_sequence[0]}), row=1, col=1)\n",
    "fig.add_trace(go.Box(y=Dim_Volume_Pessoas['VolumeRefugo'], name='VolumeRefugo', marker={'color' : color_discrete_sequence[1]}), row=1, col=2)\n",
    "fig.add_trace(go.Box(y=Dim_Volume_Pessoas['VolumeBruto'], name='VolumeBruto', marker={'color' : color_discrete_sequence[2]}), row=1, col=3)\n",
    "fig.update_layout(height=600, width=800, title_text = \"<b style='color:#000000'>Estatística de Volumes da Reciclagem Várzea Grande </b>\")\n",
    "fig.show()"
   ]
  },
  {
   "cell_type": "code",
   "execution_count": 589,
   "id": "720051d5",
   "metadata": {},
   "outputs": [
    {
     "data": {
      "text/html": [
       "<div>\n",
       "<style scoped>\n",
       "    .dataframe tbody tr th:only-of-type {\n",
       "        vertical-align: middle;\n",
       "    }\n",
       "\n",
       "    .dataframe tbody tr th {\n",
       "        vertical-align: top;\n",
       "    }\n",
       "\n",
       "    .dataframe thead th {\n",
       "        text-align: right;\n",
       "    }\n",
       "</style>\n",
       "<table border=\"1\" class=\"dataframe\">\n",
       "  <thead>\n",
       "    <tr style=\"text-align: right;\">\n",
       "      <th></th>\n",
       "      <th></th>\n",
       "      <th></th>\n",
       "      <th>Total de Volumes Líquidos</th>\n",
       "      <th>Média de Volumes Líquidos</th>\n",
       "    </tr>\n",
       "    <tr>\n",
       "      <th>Nome</th>\n",
       "      <th>Setores</th>\n",
       "      <th>Ano</th>\n",
       "      <th></th>\n",
       "      <th></th>\n",
       "    </tr>\n",
       "  </thead>\n",
       "  <tbody>\n",
       "    <tr>\n",
       "      <th rowspan=\"2\" valign=\"top\">Anderson</th>\n",
       "      <th rowspan=\"2\" valign=\"top\">Prensagem</th>\n",
       "      <th>2019</th>\n",
       "      <td>7154.36</td>\n",
       "      <td>357.72</td>\n",
       "    </tr>\n",
       "    <tr>\n",
       "      <th>2018</th>\n",
       "      <td>6357.60</td>\n",
       "      <td>353.20</td>\n",
       "    </tr>\n",
       "    <tr>\n",
       "      <th rowspan=\"2\" valign=\"top\">Adriana</th>\n",
       "      <th rowspan=\"2\" valign=\"top\">Modelagem</th>\n",
       "      <th>2018</th>\n",
       "      <td>5894.76</td>\n",
       "      <td>346.75</td>\n",
       "    </tr>\n",
       "    <tr>\n",
       "      <th>2019</th>\n",
       "      <td>5848.76</td>\n",
       "      <td>344.04</td>\n",
       "    </tr>\n",
       "    <tr>\n",
       "      <th rowspan=\"2\" valign=\"top\">Daniel</th>\n",
       "      <th rowspan=\"2\" valign=\"top\">Mistura</th>\n",
       "      <th>2018</th>\n",
       "      <td>5833.37</td>\n",
       "      <td>364.59</td>\n",
       "    </tr>\n",
       "    <tr>\n",
       "      <th>2019</th>\n",
       "      <td>5493.80</td>\n",
       "      <td>343.36</td>\n",
       "    </tr>\n",
       "    <tr>\n",
       "      <th>Flávia</th>\n",
       "      <th>Prensagem</th>\n",
       "      <th>2018</th>\n",
       "      <td>5486.76</td>\n",
       "      <td>365.78</td>\n",
       "    </tr>\n",
       "    <tr>\n",
       "      <th>Miriam</th>\n",
       "      <th>Extrusão</th>\n",
       "      <th>2018</th>\n",
       "      <td>5366.92</td>\n",
       "      <td>357.79</td>\n",
       "    </tr>\n",
       "    <tr>\n",
       "      <th>Cleber</th>\n",
       "      <th>Retífica</th>\n",
       "      <th>2018</th>\n",
       "      <td>5271.72</td>\n",
       "      <td>351.45</td>\n",
       "    </tr>\n",
       "    <tr>\n",
       "      <th>Elisabeth</th>\n",
       "      <th>Retífica</th>\n",
       "      <th>2018</th>\n",
       "      <td>5257.99</td>\n",
       "      <td>350.53</td>\n",
       "    </tr>\n",
       "    <tr>\n",
       "      <th>Isabel</th>\n",
       "      <th>Mistura</th>\n",
       "      <th>2019</th>\n",
       "      <td>4984.88</td>\n",
       "      <td>332.33</td>\n",
       "    </tr>\n",
       "    <tr>\n",
       "      <th>Flávia</th>\n",
       "      <th>Prensagem</th>\n",
       "      <th>2019</th>\n",
       "      <td>4637.72</td>\n",
       "      <td>331.27</td>\n",
       "    </tr>\n",
       "    <tr>\n",
       "      <th>Solange</th>\n",
       "      <th>Extrusão</th>\n",
       "      <th>2018</th>\n",
       "      <td>4623.59</td>\n",
       "      <td>330.26</td>\n",
       "    </tr>\n",
       "    <tr>\n",
       "      <th>Carlos</th>\n",
       "      <th>Modelagem</th>\n",
       "      <th>2018</th>\n",
       "      <td>4604.64</td>\n",
       "      <td>328.90</td>\n",
       "    </tr>\n",
       "    <tr>\n",
       "      <th>Isabel</th>\n",
       "      <th>Mistura</th>\n",
       "      <th>2018</th>\n",
       "      <td>4522.98</td>\n",
       "      <td>347.92</td>\n",
       "    </tr>\n",
       "    <tr>\n",
       "      <th>Elisabeth</th>\n",
       "      <th>Retífica</th>\n",
       "      <th>2019</th>\n",
       "      <td>4320.02</td>\n",
       "      <td>360.00</td>\n",
       "    </tr>\n",
       "    <tr>\n",
       "      <th>Miriam</th>\n",
       "      <th>Extrusão</th>\n",
       "      <th>2019</th>\n",
       "      <td>4306.77</td>\n",
       "      <td>358.90</td>\n",
       "    </tr>\n",
       "    <tr>\n",
       "      <th>Solange</th>\n",
       "      <th>Extrusão</th>\n",
       "      <th>2019</th>\n",
       "      <td>4289.35</td>\n",
       "      <td>357.45</td>\n",
       "    </tr>\n",
       "    <tr>\n",
       "      <th>Cleber</th>\n",
       "      <th>Retífica</th>\n",
       "      <th>2019</th>\n",
       "      <td>4093.56</td>\n",
       "      <td>341.13</td>\n",
       "    </tr>\n",
       "    <tr>\n",
       "      <th>Carlos</th>\n",
       "      <th>Modelagem</th>\n",
       "      <th>2019</th>\n",
       "      <td>4018.76</td>\n",
       "      <td>334.90</td>\n",
       "    </tr>\n",
       "  </tbody>\n",
       "</table>\n",
       "</div>"
      ],
      "text/plain": [
       "                          Total de Volumes Líquidos Média de Volumes Líquidos\n",
       "Nome      Setores   Ano                                                      \n",
       "Anderson  Prensagem 2019                    7154.36                    357.72\n",
       "                    2018                    6357.60                    353.20\n",
       "Adriana   Modelagem 2018                    5894.76                    346.75\n",
       "                    2019                    5848.76                    344.04\n",
       "Daniel    Mistura   2018                    5833.37                    364.59\n",
       "                    2019                    5493.80                    343.36\n",
       "Flávia    Prensagem 2018                    5486.76                    365.78\n",
       "Miriam    Extrusão  2018                    5366.92                    357.79\n",
       "Cleber    Retífica  2018                    5271.72                    351.45\n",
       "Elisabeth Retífica  2018                    5257.99                    350.53\n",
       "Isabel    Mistura   2019                    4984.88                    332.33\n",
       "Flávia    Prensagem 2019                    4637.72                    331.27\n",
       "Solange   Extrusão  2018                    4623.59                    330.26\n",
       "Carlos    Modelagem 2018                    4604.64                    328.90\n",
       "Isabel    Mistura   2018                    4522.98                    347.92\n",
       "Elisabeth Retífica  2019                    4320.02                    360.00\n",
       "Miriam    Extrusão  2019                    4306.77                    358.90\n",
       "Solange   Extrusão  2019                    4289.35                    357.45\n",
       "Cleber    Retífica  2019                    4093.56                    341.13\n",
       "Carlos    Modelagem 2019                    4018.76                    334.90"
      ]
     },
     "metadata": {},
     "output_type": "display_data"
    }
   ],
   "source": [
    "total_vl_nome_setor_ano = Dim_Volume_Pessoas.groupby([\"Nome\", \"Setores\", \"Ano\"]).sum()[\"VolumeLíquido\"].rename(\"Total de Volumes Líquidos\")\n",
    "media_vl_nome_setor_ano = Dim_Volume_Pessoas.groupby([\"Nome\", \"Setores\", \"Ano\"]).mean()[\"VolumeLíquido\"].rename(\"Média de Volumes Líquidos\")\n",
    "\n",
    "analise = pd.DataFrame({\"Total de Volumes Líquidos\" : total_vl_nome_setor_ano, \n",
    "                        \"Média de Volumes Líquidos\" : media_vl_nome_setor_ano})\n",
    "\n",
    "analise[\"Média de Volumes Líquidos\"] = analise[\"Média de Volumes Líquidos\"].map(\"{:.2f}\".format)\n",
    "analise\n",
    "\n",
    "display(analise.sort_values(\"Total de Volumes Líquidos\", ascending=False).head(24)[ \\\n",
    "    ['Total de Volumes Líquidos', 'Média de Volumes Líquidos']])"
   ]
  },
  {
   "cell_type": "code",
   "execution_count": 592,
   "id": "6de1e241",
   "metadata": {},
   "outputs": [
    {
     "data": {
      "text/html": [
       "<div>\n",
       "<style scoped>\n",
       "    .dataframe tbody tr th:only-of-type {\n",
       "        vertical-align: middle;\n",
       "    }\n",
       "\n",
       "    .dataframe tbody tr th {\n",
       "        vertical-align: top;\n",
       "    }\n",
       "\n",
       "    .dataframe thead th {\n",
       "        text-align: right;\n",
       "    }\n",
       "</style>\n",
       "<table border=\"1\" class=\"dataframe\">\n",
       "  <thead>\n",
       "    <tr style=\"text-align: right;\">\n",
       "      <th></th>\n",
       "      <th></th>\n",
       "      <th></th>\n",
       "      <th>Total de Volumes de Refugos</th>\n",
       "      <th>Média de Volumes de Refugos</th>\n",
       "    </tr>\n",
       "    <tr>\n",
       "      <th>Nome</th>\n",
       "      <th>Setores</th>\n",
       "      <th>Ano</th>\n",
       "      <th></th>\n",
       "      <th></th>\n",
       "    </tr>\n",
       "  </thead>\n",
       "  <tbody>\n",
       "    <tr>\n",
       "      <th>Adriana</th>\n",
       "      <th>Modelagem</th>\n",
       "      <th>2018</th>\n",
       "      <td>291.89</td>\n",
       "      <td>17.17</td>\n",
       "    </tr>\n",
       "    <tr>\n",
       "      <th>Flávia</th>\n",
       "      <th>Prensagem</th>\n",
       "      <th>2019</th>\n",
       "      <td>263.66</td>\n",
       "      <td>18.83</td>\n",
       "    </tr>\n",
       "    <tr>\n",
       "      <th rowspan=\"2\" valign=\"top\">Daniel</th>\n",
       "      <th rowspan=\"2\" valign=\"top\">Mistura</th>\n",
       "      <th>2018</th>\n",
       "      <td>261.16</td>\n",
       "      <td>16.32</td>\n",
       "    </tr>\n",
       "    <tr>\n",
       "      <th>2019</th>\n",
       "      <td>243.46</td>\n",
       "      <td>15.22</td>\n",
       "    </tr>\n",
       "    <tr>\n",
       "      <th>Carlos</th>\n",
       "      <th>Modelagem</th>\n",
       "      <th>2018</th>\n",
       "      <td>224.35</td>\n",
       "      <td>16.02</td>\n",
       "    </tr>\n",
       "    <tr>\n",
       "      <th>Solange</th>\n",
       "      <th>Extrusão</th>\n",
       "      <th>2018</th>\n",
       "      <td>220.85</td>\n",
       "      <td>15.78</td>\n",
       "    </tr>\n",
       "    <tr>\n",
       "      <th>Cleber</th>\n",
       "      <th>Retífica</th>\n",
       "      <th>2018</th>\n",
       "      <td>216.10</td>\n",
       "      <td>14.41</td>\n",
       "    </tr>\n",
       "    <tr>\n",
       "      <th rowspan=\"2\" valign=\"top\">Anderson</th>\n",
       "      <th rowspan=\"2\" valign=\"top\">Prensagem</th>\n",
       "      <th>2018</th>\n",
       "      <td>211.68</td>\n",
       "      <td>11.76</td>\n",
       "    </tr>\n",
       "    <tr>\n",
       "      <th>2019</th>\n",
       "      <td>190.66</td>\n",
       "      <td>9.53</td>\n",
       "    </tr>\n",
       "    <tr>\n",
       "      <th>Flávia</th>\n",
       "      <th>Prensagem</th>\n",
       "      <th>2018</th>\n",
       "      <td>187.27</td>\n",
       "      <td>12.48</td>\n",
       "    </tr>\n",
       "    <tr>\n",
       "      <th>Elisabeth</th>\n",
       "      <th>Retífica</th>\n",
       "      <th>2018</th>\n",
       "      <td>181.63</td>\n",
       "      <td>12.11</td>\n",
       "    </tr>\n",
       "    <tr>\n",
       "      <th>Carlos</th>\n",
       "      <th>Modelagem</th>\n",
       "      <th>2019</th>\n",
       "      <td>172.50</td>\n",
       "      <td>14.37</td>\n",
       "    </tr>\n",
       "    <tr>\n",
       "      <th>Adriana</th>\n",
       "      <th>Modelagem</th>\n",
       "      <th>2019</th>\n",
       "      <td>171.33</td>\n",
       "      <td>10.08</td>\n",
       "    </tr>\n",
       "    <tr>\n",
       "      <th>Miriam</th>\n",
       "      <th>Extrusão</th>\n",
       "      <th>2018</th>\n",
       "      <td>161.99</td>\n",
       "      <td>10.80</td>\n",
       "    </tr>\n",
       "    <tr>\n",
       "      <th>Isabel</th>\n",
       "      <th>Mistura</th>\n",
       "      <th>2019</th>\n",
       "      <td>157.41</td>\n",
       "      <td>10.49</td>\n",
       "    </tr>\n",
       "    <tr>\n",
       "      <th>Miriam</th>\n",
       "      <th>Extrusão</th>\n",
       "      <th>2019</th>\n",
       "      <td>155.94</td>\n",
       "      <td>12.99</td>\n",
       "    </tr>\n",
       "    <tr>\n",
       "      <th>Solange</th>\n",
       "      <th>Extrusão</th>\n",
       "      <th>2019</th>\n",
       "      <td>144.48</td>\n",
       "      <td>12.04</td>\n",
       "    </tr>\n",
       "    <tr>\n",
       "      <th>Elisabeth</th>\n",
       "      <th>Retífica</th>\n",
       "      <th>2019</th>\n",
       "      <td>132.55</td>\n",
       "      <td>11.05</td>\n",
       "    </tr>\n",
       "    <tr>\n",
       "      <th>Cleber</th>\n",
       "      <th>Retífica</th>\n",
       "      <th>2019</th>\n",
       "      <td>129.17</td>\n",
       "      <td>10.76</td>\n",
       "    </tr>\n",
       "    <tr>\n",
       "      <th>Isabel</th>\n",
       "      <th>Mistura</th>\n",
       "      <th>2018</th>\n",
       "      <td>106.05</td>\n",
       "      <td>8.16</td>\n",
       "    </tr>\n",
       "  </tbody>\n",
       "</table>\n",
       "</div>"
      ],
      "text/plain": [
       "                          Total de Volumes de Refugos  \\\n",
       "Nome      Setores   Ano                                 \n",
       "Adriana   Modelagem 2018                       291.89   \n",
       "Flávia    Prensagem 2019                       263.66   \n",
       "Daniel    Mistura   2018                       261.16   \n",
       "                    2019                       243.46   \n",
       "Carlos    Modelagem 2018                       224.35   \n",
       "Solange   Extrusão  2018                       220.85   \n",
       "Cleber    Retífica  2018                       216.10   \n",
       "Anderson  Prensagem 2018                       211.68   \n",
       "                    2019                       190.66   \n",
       "Flávia    Prensagem 2018                       187.27   \n",
       "Elisabeth Retífica  2018                       181.63   \n",
       "Carlos    Modelagem 2019                       172.50   \n",
       "Adriana   Modelagem 2019                       171.33   \n",
       "Miriam    Extrusão  2018                       161.99   \n",
       "Isabel    Mistura   2019                       157.41   \n",
       "Miriam    Extrusão  2019                       155.94   \n",
       "Solange   Extrusão  2019                       144.48   \n",
       "Elisabeth Retífica  2019                       132.55   \n",
       "Cleber    Retífica  2019                       129.17   \n",
       "Isabel    Mistura   2018                       106.05   \n",
       "\n",
       "                         Média de Volumes de Refugos  \n",
       "Nome      Setores   Ano                               \n",
       "Adriana   Modelagem 2018                       17.17  \n",
       "Flávia    Prensagem 2019                       18.83  \n",
       "Daniel    Mistura   2018                       16.32  \n",
       "                    2019                       15.22  \n",
       "Carlos    Modelagem 2018                       16.02  \n",
       "Solange   Extrusão  2018                       15.78  \n",
       "Cleber    Retífica  2018                       14.41  \n",
       "Anderson  Prensagem 2018                       11.76  \n",
       "                    2019                        9.53  \n",
       "Flávia    Prensagem 2018                       12.48  \n",
       "Elisabeth Retífica  2018                       12.11  \n",
       "Carlos    Modelagem 2019                       14.37  \n",
       "Adriana   Modelagem 2019                       10.08  \n",
       "Miriam    Extrusão  2018                       10.80  \n",
       "Isabel    Mistura   2019                       10.49  \n",
       "Miriam    Extrusão  2019                       12.99  \n",
       "Solange   Extrusão  2019                       12.04  \n",
       "Elisabeth Retífica  2019                       11.05  \n",
       "Cleber    Retífica  2019                       10.76  \n",
       "Isabel    Mistura   2018                        8.16  "
      ]
     },
     "metadata": {},
     "output_type": "display_data"
    }
   ],
   "source": [
    "total_vr_nome_setor_ano = Dim_Volume_Pessoas.groupby([\"Nome\", \"Setores\", \"Ano\"]).sum()[\"VolumeRefugo\"].rename(\"Total de Volumes de Refugos\")\n",
    "media_vr_nome_setor_ano = Dim_Volume_Pessoas.groupby([\"Nome\", \"Setores\", \"Ano\"]).mean()[\"VolumeRefugo\"].rename(\"Média de Volumes de Refugos\")\n",
    "\n",
    "analise1 = pd.DataFrame({\"Total de Volumes de Refugos\" : total_vr_nome_setor_ano, \n",
    "                         \"Média de Volumes de Refugos\" : media_vr_nome_setor_ano})\n",
    "\n",
    "analise1[\"Média de Volumes de Refugos\"] = analise1[\"Média de Volumes de Refugos\"].map(\"{:.2f}\".format)\n",
    "analise1\n",
    "\n",
    "display(analise1.sort_values(\"Total de Volumes de Refugos\", ascending=False).head(24)[ \\\n",
    "    ['Total de Volumes de Refugos', 'Média de Volumes de Refugos']])"
   ]
  },
  {
   "cell_type": "code",
   "execution_count": 593,
   "id": "1c49dadb",
   "metadata": {},
   "outputs": [
    {
     "data": {
      "text/html": [
       "<div>\n",
       "<style scoped>\n",
       "    .dataframe tbody tr th:only-of-type {\n",
       "        vertical-align: middle;\n",
       "    }\n",
       "\n",
       "    .dataframe tbody tr th {\n",
       "        vertical-align: top;\n",
       "    }\n",
       "\n",
       "    .dataframe thead th {\n",
       "        text-align: right;\n",
       "    }\n",
       "</style>\n",
       "<table border=\"1\" class=\"dataframe\">\n",
       "  <thead>\n",
       "    <tr style=\"text-align: right;\">\n",
       "      <th></th>\n",
       "      <th></th>\n",
       "      <th></th>\n",
       "      <th>Total de Volumes de Brutos</th>\n",
       "      <th>Média de Volumes de Brutos</th>\n",
       "    </tr>\n",
       "    <tr>\n",
       "      <th>Nome</th>\n",
       "      <th>Setores</th>\n",
       "      <th>Ano</th>\n",
       "      <th></th>\n",
       "      <th></th>\n",
       "    </tr>\n",
       "  </thead>\n",
       "  <tbody>\n",
       "    <tr>\n",
       "      <th rowspan=\"2\" valign=\"top\">Anderson</th>\n",
       "      <th rowspan=\"2\" valign=\"top\">Prensagem</th>\n",
       "      <th>2019</th>\n",
       "      <td>7344.99</td>\n",
       "      <td>367.25</td>\n",
       "    </tr>\n",
       "    <tr>\n",
       "      <th>2018</th>\n",
       "      <td>6569.29</td>\n",
       "      <td>364.96</td>\n",
       "    </tr>\n",
       "    <tr>\n",
       "      <th>Adriana</th>\n",
       "      <th>Modelagem</th>\n",
       "      <th>2018</th>\n",
       "      <td>6186.65</td>\n",
       "      <td>363.92</td>\n",
       "    </tr>\n",
       "    <tr>\n",
       "      <th>Daniel</th>\n",
       "      <th>Mistura</th>\n",
       "      <th>2018</th>\n",
       "      <td>6094.52</td>\n",
       "      <td>380.91</td>\n",
       "    </tr>\n",
       "    <tr>\n",
       "      <th>Adriana</th>\n",
       "      <th>Modelagem</th>\n",
       "      <th>2019</th>\n",
       "      <td>6020.07</td>\n",
       "      <td>354.12</td>\n",
       "    </tr>\n",
       "    <tr>\n",
       "      <th>Daniel</th>\n",
       "      <th>Mistura</th>\n",
       "      <th>2019</th>\n",
       "      <td>5737.27</td>\n",
       "      <td>358.58</td>\n",
       "    </tr>\n",
       "    <tr>\n",
       "      <th>Flávia</th>\n",
       "      <th>Prensagem</th>\n",
       "      <th>2018</th>\n",
       "      <td>5674.00</td>\n",
       "      <td>378.27</td>\n",
       "    </tr>\n",
       "    <tr>\n",
       "      <th>Miriam</th>\n",
       "      <th>Extrusão</th>\n",
       "      <th>2018</th>\n",
       "      <td>5528.91</td>\n",
       "      <td>368.59</td>\n",
       "    </tr>\n",
       "    <tr>\n",
       "      <th>Cleber</th>\n",
       "      <th>Retífica</th>\n",
       "      <th>2018</th>\n",
       "      <td>5487.83</td>\n",
       "      <td>365.86</td>\n",
       "    </tr>\n",
       "    <tr>\n",
       "      <th>Elisabeth</th>\n",
       "      <th>Retífica</th>\n",
       "      <th>2018</th>\n",
       "      <td>5439.59</td>\n",
       "      <td>362.64</td>\n",
       "    </tr>\n",
       "    <tr>\n",
       "      <th>Isabel</th>\n",
       "      <th>Mistura</th>\n",
       "      <th>2019</th>\n",
       "      <td>5142.27</td>\n",
       "      <td>342.82</td>\n",
       "    </tr>\n",
       "    <tr>\n",
       "      <th>Flávia</th>\n",
       "      <th>Prensagem</th>\n",
       "      <th>2019</th>\n",
       "      <td>4901.37</td>\n",
       "      <td>350.10</td>\n",
       "    </tr>\n",
       "    <tr>\n",
       "      <th>Solange</th>\n",
       "      <th>Extrusão</th>\n",
       "      <th>2018</th>\n",
       "      <td>4844.44</td>\n",
       "      <td>346.03</td>\n",
       "    </tr>\n",
       "    <tr>\n",
       "      <th>Carlos</th>\n",
       "      <th>Modelagem</th>\n",
       "      <th>2018</th>\n",
       "      <td>4829.00</td>\n",
       "      <td>344.93</td>\n",
       "    </tr>\n",
       "    <tr>\n",
       "      <th>Isabel</th>\n",
       "      <th>Mistura</th>\n",
       "      <th>2018</th>\n",
       "      <td>4629.03</td>\n",
       "      <td>356.08</td>\n",
       "    </tr>\n",
       "    <tr>\n",
       "      <th>Miriam</th>\n",
       "      <th>Extrusão</th>\n",
       "      <th>2019</th>\n",
       "      <td>4462.71</td>\n",
       "      <td>371.89</td>\n",
       "    </tr>\n",
       "    <tr>\n",
       "      <th>Elisabeth</th>\n",
       "      <th>Retífica</th>\n",
       "      <th>2019</th>\n",
       "      <td>4452.56</td>\n",
       "      <td>371.05</td>\n",
       "    </tr>\n",
       "    <tr>\n",
       "      <th>Solange</th>\n",
       "      <th>Extrusão</th>\n",
       "      <th>2019</th>\n",
       "      <td>4433.83</td>\n",
       "      <td>369.49</td>\n",
       "    </tr>\n",
       "    <tr>\n",
       "      <th>Cleber</th>\n",
       "      <th>Retífica</th>\n",
       "      <th>2019</th>\n",
       "      <td>4222.72</td>\n",
       "      <td>351.89</td>\n",
       "    </tr>\n",
       "    <tr>\n",
       "      <th>Carlos</th>\n",
       "      <th>Modelagem</th>\n",
       "      <th>2019</th>\n",
       "      <td>4191.26</td>\n",
       "      <td>349.27</td>\n",
       "    </tr>\n",
       "  </tbody>\n",
       "</table>\n",
       "</div>"
      ],
      "text/plain": [
       "                          Total de Volumes de Brutos  \\\n",
       "Nome      Setores   Ano                                \n",
       "Anderson  Prensagem 2019                     7344.99   \n",
       "                    2018                     6569.29   \n",
       "Adriana   Modelagem 2018                     6186.65   \n",
       "Daniel    Mistura   2018                     6094.52   \n",
       "Adriana   Modelagem 2019                     6020.07   \n",
       "Daniel    Mistura   2019                     5737.27   \n",
       "Flávia    Prensagem 2018                     5674.00   \n",
       "Miriam    Extrusão  2018                     5528.91   \n",
       "Cleber    Retífica  2018                     5487.83   \n",
       "Elisabeth Retífica  2018                     5439.59   \n",
       "Isabel    Mistura   2019                     5142.27   \n",
       "Flávia    Prensagem 2019                     4901.37   \n",
       "Solange   Extrusão  2018                     4844.44   \n",
       "Carlos    Modelagem 2018                     4829.00   \n",
       "Isabel    Mistura   2018                     4629.03   \n",
       "Miriam    Extrusão  2019                     4462.71   \n",
       "Elisabeth Retífica  2019                     4452.56   \n",
       "Solange   Extrusão  2019                     4433.83   \n",
       "Cleber    Retífica  2019                     4222.72   \n",
       "Carlos    Modelagem 2019                     4191.26   \n",
       "\n",
       "                         Média de Volumes de Brutos  \n",
       "Nome      Setores   Ano                              \n",
       "Anderson  Prensagem 2019                     367.25  \n",
       "                    2018                     364.96  \n",
       "Adriana   Modelagem 2018                     363.92  \n",
       "Daniel    Mistura   2018                     380.91  \n",
       "Adriana   Modelagem 2019                     354.12  \n",
       "Daniel    Mistura   2019                     358.58  \n",
       "Flávia    Prensagem 2018                     378.27  \n",
       "Miriam    Extrusão  2018                     368.59  \n",
       "Cleber    Retífica  2018                     365.86  \n",
       "Elisabeth Retífica  2018                     362.64  \n",
       "Isabel    Mistura   2019                     342.82  \n",
       "Flávia    Prensagem 2019                     350.10  \n",
       "Solange   Extrusão  2018                     346.03  \n",
       "Carlos    Modelagem 2018                     344.93  \n",
       "Isabel    Mistura   2018                     356.08  \n",
       "Miriam    Extrusão  2019                     371.89  \n",
       "Elisabeth Retífica  2019                     371.05  \n",
       "Solange   Extrusão  2019                     369.49  \n",
       "Cleber    Retífica  2019                     351.89  \n",
       "Carlos    Modelagem 2019                     349.27  "
      ]
     },
     "metadata": {},
     "output_type": "display_data"
    }
   ],
   "source": [
    "total_vb_nome_setor_ano = Dim_Volume_Pessoas.groupby([\"Nome\", \"Setores\", \"Ano\"]).sum()[\"VolumeBruto\"].rename(\"Total de Volumes de Brutos\")\n",
    "media_vb_nome_setor_ano = Dim_Volume_Pessoas.groupby([\"Nome\", \"Setores\", \"Ano\"]).mean()[\"VolumeBruto\"].rename(\"Média de Volumes de Brutos\")\n",
    "\n",
    "analise2 = pd.DataFrame({\"Total de Volumes de Brutos\" : total_vb_nome_setor_ano, \n",
    "                         \"Média de Volumes de Brutos\" : media_vb_nome_setor_ano})\n",
    "\n",
    "analise2[\"Média de Volumes de Brutos\"] = analise2[\"Média de Volumes de Brutos\"].map(\"{:.2f}\".format)\n",
    "analise2\n",
    "\n",
    "display(analise2.sort_values(\"Total de Volumes de Brutos\", ascending=False).head(24)[ \\\n",
    "    ['Total de Volumes de Brutos', 'Média de Volumes de Brutos']])"
   ]
  },
  {
   "cell_type": "code",
   "execution_count": null,
   "id": "41083a96",
   "metadata": {},
   "outputs": [],
   "source": [
    "## Separação das colunas para Dim_Meta\n",
    "\n",
    "vars = ['Setores', 'Nome', 'Meta Produção', 'Meta Real']\n",
    "\n",
    "Dim_Meta = dados[vars]\n",
    "\n",
    "Dim_Meta.round(0)"
   ]
  },
  {
   "cell_type": "code",
   "execution_count": 410,
   "id": "0f47c0a1",
   "metadata": {},
   "outputs": [
    {
     "data": {
      "text/html": [
       "<div>\n",
       "<style scoped>\n",
       "    .dataframe tbody tr th:only-of-type {\n",
       "        vertical-align: middle;\n",
       "    }\n",
       "\n",
       "    .dataframe tbody tr th {\n",
       "        vertical-align: top;\n",
       "    }\n",
       "\n",
       "    .dataframe thead th {\n",
       "        text-align: right;\n",
       "    }\n",
       "</style>\n",
       "<table border=\"1\" class=\"dataframe\">\n",
       "  <thead>\n",
       "    <tr style=\"text-align: right;\">\n",
       "      <th></th>\n",
       "      <th>Meta Produção</th>\n",
       "      <th>Meta Real</th>\n",
       "    </tr>\n",
       "  </thead>\n",
       "  <tbody>\n",
       "    <tr>\n",
       "      <th>count</th>\n",
       "      <td>298.0</td>\n",
       "      <td>298.00</td>\n",
       "    </tr>\n",
       "    <tr>\n",
       "      <th>mean</th>\n",
       "      <td>55.0</td>\n",
       "      <td>48.62</td>\n",
       "    </tr>\n",
       "    <tr>\n",
       "      <th>std</th>\n",
       "      <td>0.0</td>\n",
       "      <td>6.02</td>\n",
       "    </tr>\n",
       "    <tr>\n",
       "      <th>min</th>\n",
       "      <td>55.0</td>\n",
       "      <td>33.93</td>\n",
       "    </tr>\n",
       "    <tr>\n",
       "      <th>25%</th>\n",
       "      <td>55.0</td>\n",
       "      <td>43.52</td>\n",
       "    </tr>\n",
       "    <tr>\n",
       "      <th>50%</th>\n",
       "      <td>55.0</td>\n",
       "      <td>50.07</td>\n",
       "    </tr>\n",
       "    <tr>\n",
       "      <th>75%</th>\n",
       "      <td>55.0</td>\n",
       "      <td>53.14</td>\n",
       "    </tr>\n",
       "    <tr>\n",
       "      <th>max</th>\n",
       "      <td>55.0</td>\n",
       "      <td>61.57</td>\n",
       "    </tr>\n",
       "  </tbody>\n",
       "</table>\n",
       "</div>"
      ],
      "text/plain": [
       "       Meta Produção  Meta Real\n",
       "count          298.0     298.00\n",
       "mean            55.0      48.62\n",
       "std              0.0       6.02\n",
       "min             55.0      33.93\n",
       "25%             55.0      43.52\n",
       "50%             55.0      50.07\n",
       "75%             55.0      53.14\n",
       "max             55.0      61.57"
      ]
     },
     "execution_count": 410,
     "metadata": {},
     "output_type": "execute_result"
    }
   ],
   "source": [
    "## Estatistica do Dim_Meta \n",
    "Dim_Meta.describe().round(2)"
   ]
  },
  {
   "cell_type": "markdown",
   "id": "56b33c67",
   "metadata": {},
   "source": [
    "## Histograma de Metas Reais "
   ]
  },
  {
   "cell_type": "code",
   "execution_count": 417,
   "id": "41d469e1",
   "metadata": {},
   "outputs": [
    {
     "data": {
      "text/plain": [
       "<AxesSubplot:xlabel='Meta Real', ylabel='Density'>"
      ]
     },
     "execution_count": 417,
     "metadata": {},
     "output_type": "execute_result"
    },
    {
     "data": {
      "image/png": "[encoded data removed]",
      "text/plain": [
       "<Figure size 432x288 with 1 Axes>"
      ]
     },
     "metadata": {
      "needs_background": "light"
     },
     "output_type": "display_data"
    }
   ],
   "source": [
    "sns.distplot(Dim_Meta['Meta Real'])"
   ]
  },
  {
   "cell_type": "markdown",
   "id": "d50f4f2d",
   "metadata": {},
   "source": [
    "## Densidade de Metas de Produção"
   ]
  },
  {
   "cell_type": "code",
   "execution_count": 619,
   "id": "fcf54c87",
   "metadata": {},
   "outputs": [
    {
     "data": {
      "text/plain": [
       "<AxesSubplot:xlabel='Meta Produção', ylabel='Density'>"
      ]
     },
     "execution_count": 619,
     "metadata": {},
     "output_type": "execute_result"
    },
    {
     "data": {
      "image/png": "[encoded data removed]",
      "text/plain": [
       "<Figure size 432x288 with 1 Axes>"
      ]
     },
     "metadata": {
      "needs_background": "light"
     },
     "output_type": "display_data"
    }
   ],
   "source": [
    "sns.distplot(Dim_Meta['Meta Produção'])"
   ]
  },
  {
   "cell_type": "markdown",
   "id": "f00eb313",
   "metadata": {},
   "source": [
    "## Meta Real por Setores"
   ]
  },
  {
   "cell_type": "code",
   "execution_count": 632,
   "id": "4e02500e",
   "metadata": {},
   "outputs": [
    {
     "data": {
      "image/png": "[encoded data removed]",
      "text/plain": [
       "<Figure size 720x360 with 1 Axes>"
      ]
     },
     "metadata": {
      "needs_background": "light"
     },
     "output_type": "display_data"
    }
   ],
   "source": [
    "data = Dim_Meta.sort_values(by = \"Meta Real\")\n",
    "\n",
    "sns.catplot(x=\"Meta Real\", y = \"Setores\", data=data, aspect=2)\n",
    "plt.xticks(rotation = 360) \n",
    "plt.show()"
   ]
  },
  {
   "cell_type": "markdown",
   "id": "6b75ee6b",
   "metadata": {},
   "source": [
    "## Meta Real por Nome"
   ]
  },
  {
   "cell_type": "code",
   "execution_count": 707,
   "id": "c9211c0b",
   "metadata": {},
   "outputs": [
    {
     "data": {
      "image/png": "[encoded data removed]",
      "text/plain": [
       "<Figure size 720x360 with 1 Axes>"
      ]
     },
     "metadata": {
      "needs_background": "light"
     },
     "output_type": "display_data"
    }
   ],
   "source": [
    "data = Dim_Meta.sort_values(by = \"Meta Real\")\n",
    "\n",
    "sns.catplot(x=\"Meta Real\", y = \"Nome\", kind=\"bar\", data=data, aspect=2)\n",
    "plt.xticks(rotation = 360) \n",
    "plt.show()"
   ]
  },
  {
   "cell_type": "code",
   "execution_count": 665,
   "id": "dc6015d7",
   "metadata": {},
   "outputs": [
    {
     "data": {
      "text/html": [
       "<div>\n",
       "<style scoped>\n",
       "    .dataframe tbody tr th:only-of-type {\n",
       "        vertical-align: middle;\n",
       "    }\n",
       "\n",
       "    .dataframe tbody tr th {\n",
       "        vertical-align: top;\n",
       "    }\n",
       "\n",
       "    .dataframe thead th {\n",
       "        text-align: right;\n",
       "    }\n",
       "</style>\n",
       "<table border=\"1\" class=\"dataframe\">\n",
       "  <thead>\n",
       "    <tr style=\"text-align: right;\">\n",
       "      <th></th>\n",
       "      <th>Setores</th>\n",
       "      <th>Nome</th>\n",
       "      <th>Produtividade</th>\n",
       "      <th>Eficiência</th>\n",
       "      <th>Qualidade</th>\n",
       "      <th>Desempenho</th>\n",
       "    </tr>\n",
       "  </thead>\n",
       "  <tbody>\n",
       "    <tr>\n",
       "      <th>0</th>\n",
       "      <td>Extrusão</td>\n",
       "      <td>Miriam</td>\n",
       "      <td>0.81</td>\n",
       "      <td>0.85</td>\n",
       "      <td>0.96</td>\n",
       "      <td>0.84</td>\n",
       "    </tr>\n",
       "    <tr>\n",
       "      <th>1</th>\n",
       "      <td>Mistura</td>\n",
       "      <td>Daniel</td>\n",
       "      <td>0.74</td>\n",
       "      <td>0.79</td>\n",
       "      <td>0.95</td>\n",
       "      <td>0.79</td>\n",
       "    </tr>\n",
       "    <tr>\n",
       "      <th>2</th>\n",
       "      <td>Modelagem</td>\n",
       "      <td>Carlos</td>\n",
       "      <td>0.63</td>\n",
       "      <td>0.67</td>\n",
       "      <td>0.93</td>\n",
       "      <td>0.68</td>\n",
       "    </tr>\n",
       "    <tr>\n",
       "      <th>3</th>\n",
       "      <td>Prensagem</td>\n",
       "      <td>Flávia</td>\n",
       "      <td>0.92</td>\n",
       "      <td>0.95</td>\n",
       "      <td>0.94</td>\n",
       "      <td>0.98</td>\n",
       "    </tr>\n",
       "    <tr>\n",
       "      <th>4</th>\n",
       "      <td>Retífica</td>\n",
       "      <td>Elisabeth</td>\n",
       "      <td>0.62</td>\n",
       "      <td>0.69</td>\n",
       "      <td>0.96</td>\n",
       "      <td>0.64</td>\n",
       "    </tr>\n",
       "    <tr>\n",
       "      <th>...</th>\n",
       "      <td>...</td>\n",
       "      <td>...</td>\n",
       "      <td>...</td>\n",
       "      <td>...</td>\n",
       "      <td>...</td>\n",
       "      <td>...</td>\n",
       "    </tr>\n",
       "    <tr>\n",
       "      <th>293</th>\n",
       "      <td>Mistura</td>\n",
       "      <td>Isabel</td>\n",
       "      <td>0.94</td>\n",
       "      <td>1.00</td>\n",
       "      <td>0.99</td>\n",
       "      <td>0.94</td>\n",
       "    </tr>\n",
       "    <tr>\n",
       "      <th>294</th>\n",
       "      <td>Modelagem</td>\n",
       "      <td>Carlos</td>\n",
       "      <td>0.64</td>\n",
       "      <td>0.66</td>\n",
       "      <td>0.97</td>\n",
       "      <td>0.66</td>\n",
       "    </tr>\n",
       "    <tr>\n",
       "      <th>295</th>\n",
       "      <td>Prensagem</td>\n",
       "      <td>Flávia</td>\n",
       "      <td>0.66</td>\n",
       "      <td>0.68</td>\n",
       "      <td>0.96</td>\n",
       "      <td>0.69</td>\n",
       "    </tr>\n",
       "    <tr>\n",
       "      <th>296</th>\n",
       "      <td>Retífica</td>\n",
       "      <td>Elisabeth</td>\n",
       "      <td>0.89</td>\n",
       "      <td>0.89</td>\n",
       "      <td>0.90</td>\n",
       "      <td>0.99</td>\n",
       "    </tr>\n",
       "    <tr>\n",
       "      <th>297</th>\n",
       "      <td>Mistura</td>\n",
       "      <td>Daniel</td>\n",
       "      <td>0.93</td>\n",
       "      <td>1.00</td>\n",
       "      <td>0.98</td>\n",
       "      <td>0.95</td>\n",
       "    </tr>\n",
       "  </tbody>\n",
       "</table>\n",
       "<p>298 rows × 6 columns</p>\n",
       "</div>"
      ],
      "text/plain": [
       "       Setores       Nome  Produtividade  Eficiência  Qualidade  Desempenho\n",
       "0     Extrusão     Miriam           0.81        0.85       0.96        0.84\n",
       "1      Mistura     Daniel           0.74        0.79       0.95        0.79\n",
       "2    Modelagem     Carlos           0.63        0.67       0.93        0.68\n",
       "3    Prensagem     Flávia           0.92        0.95       0.94        0.98\n",
       "4     Retífica  Elisabeth           0.62        0.69       0.96        0.64\n",
       "..         ...        ...            ...         ...        ...         ...\n",
       "293    Mistura     Isabel           0.94        1.00       0.99        0.94\n",
       "294  Modelagem     Carlos           0.64        0.66       0.97        0.66\n",
       "295  Prensagem     Flávia           0.66        0.68       0.96        0.69\n",
       "296   Retífica  Elisabeth           0.89        0.89       0.90        0.99\n",
       "297    Mistura     Daniel           0.93        1.00       0.98        0.95\n",
       "\n",
       "[298 rows x 6 columns]"
      ]
     },
     "execution_count": 665,
     "metadata": {},
     "output_type": "execute_result"
    }
   ],
   "source": [
    "## Separação das Colunas para Dim_Pessoa_Plano \n",
    "vars = ['Setores', 'Nome', 'Produtividade', 'Eficiência', 'Qualidade', 'Desempenho']\n",
    "\n",
    "Dim_Pessoa_Plano = dados[vars]\n",
    "\n",
    "Dim_Pessoa_Plano"
   ]
  },
  {
   "cell_type": "code",
   "execution_count": 666,
   "id": "489e3a8f",
   "metadata": {},
   "outputs": [
    {
     "data": {
      "text/html": [
       "<div>\n",
       "<style scoped>\n",
       "    .dataframe tbody tr th:only-of-type {\n",
       "        vertical-align: middle;\n",
       "    }\n",
       "\n",
       "    .dataframe tbody tr th {\n",
       "        vertical-align: top;\n",
       "    }\n",
       "\n",
       "    .dataframe thead th {\n",
       "        text-align: right;\n",
       "    }\n",
       "</style>\n",
       "<table border=\"1\" class=\"dataframe\">\n",
       "  <thead>\n",
       "    <tr style=\"text-align: right;\">\n",
       "      <th></th>\n",
       "      <th>Produtividade</th>\n",
       "      <th>Eficiência</th>\n",
       "      <th>Qualidade</th>\n",
       "      <th>Desempenho</th>\n",
       "    </tr>\n",
       "  </thead>\n",
       "  <tbody>\n",
       "    <tr>\n",
       "      <th>count</th>\n",
       "      <td>298.00</td>\n",
       "      <td>298.00</td>\n",
       "      <td>298.00</td>\n",
       "      <td>298.00</td>\n",
       "    </tr>\n",
       "    <tr>\n",
       "      <th>mean</th>\n",
       "      <td>0.79</td>\n",
       "      <td>0.85</td>\n",
       "      <td>0.96</td>\n",
       "      <td>0.82</td>\n",
       "    </tr>\n",
       "    <tr>\n",
       "      <th>std</th>\n",
       "      <td>0.11</td>\n",
       "      <td>0.11</td>\n",
       "      <td>0.03</td>\n",
       "      <td>0.11</td>\n",
       "    </tr>\n",
       "    <tr>\n",
       "      <th>min</th>\n",
       "      <td>0.53</td>\n",
       "      <td>0.57</td>\n",
       "      <td>0.79</td>\n",
       "      <td>0.54</td>\n",
       "    </tr>\n",
       "    <tr>\n",
       "      <th>25%</th>\n",
       "      <td>0.70</td>\n",
       "      <td>0.76</td>\n",
       "      <td>0.95</td>\n",
       "      <td>0.73</td>\n",
       "    </tr>\n",
       "    <tr>\n",
       "      <th>50%</th>\n",
       "      <td>0.80</td>\n",
       "      <td>0.88</td>\n",
       "      <td>0.97</td>\n",
       "      <td>0.84</td>\n",
       "    </tr>\n",
       "    <tr>\n",
       "      <th>75%</th>\n",
       "      <td>0.88</td>\n",
       "      <td>0.95</td>\n",
       "      <td>0.99</td>\n",
       "      <td>0.91</td>\n",
       "    </tr>\n",
       "    <tr>\n",
       "      <th>max</th>\n",
       "      <td>1.02</td>\n",
       "      <td>1.11</td>\n",
       "      <td>1.00</td>\n",
       "      <td>1.03</td>\n",
       "    </tr>\n",
       "  </tbody>\n",
       "</table>\n",
       "</div>"
      ],
      "text/plain": [
       "       Produtividade  Eficiência  Qualidade  Desempenho\n",
       "count         298.00      298.00     298.00      298.00\n",
       "mean            0.79        0.85       0.96        0.82\n",
       "std             0.11        0.11       0.03        0.11\n",
       "min             0.53        0.57       0.79        0.54\n",
       "25%             0.70        0.76       0.95        0.73\n",
       "50%             0.80        0.88       0.97        0.84\n",
       "75%             0.88        0.95       0.99        0.91\n",
       "max             1.02        1.11       1.00        1.03"
      ]
     },
     "execution_count": 666,
     "metadata": {},
     "output_type": "execute_result"
    }
   ],
   "source": [
    "## Estatistica do Dim_Pessoa_Plano \n",
    "Dim_Pessoa_Plano.describe().round(2)"
   ]
  },
  {
   "cell_type": "code",
   "execution_count": 667,
   "id": "aaab2d3f",
   "metadata": {},
   "outputs": [
    {
     "data": {
      "text/html": [
       "<div>\n",
       "<style scoped>\n",
       "    .dataframe tbody tr th:only-of-type {\n",
       "        vertical-align: middle;\n",
       "    }\n",
       "\n",
       "    .dataframe tbody tr th {\n",
       "        vertical-align: top;\n",
       "    }\n",
       "\n",
       "    .dataframe thead th {\n",
       "        text-align: right;\n",
       "    }\n",
       "</style>\n",
       "<table border=\"1\" class=\"dataframe\">\n",
       "  <thead>\n",
       "    <tr style=\"text-align: right;\">\n",
       "      <th></th>\n",
       "      <th>Produtividade</th>\n",
       "      <th>Eficiência</th>\n",
       "      <th>Qualidade</th>\n",
       "      <th>Desempenho</th>\n",
       "    </tr>\n",
       "  </thead>\n",
       "  <tbody>\n",
       "    <tr>\n",
       "      <th>count</th>\n",
       "      <td>298.00</td>\n",
       "      <td>298.00</td>\n",
       "      <td>298.00</td>\n",
       "      <td>298.00</td>\n",
       "    </tr>\n",
       "    <tr>\n",
       "      <th>mean</th>\n",
       "      <td>0.79</td>\n",
       "      <td>0.85</td>\n",
       "      <td>0.96</td>\n",
       "      <td>0.82</td>\n",
       "    </tr>\n",
       "    <tr>\n",
       "      <th>std</th>\n",
       "      <td>0.11</td>\n",
       "      <td>0.11</td>\n",
       "      <td>0.03</td>\n",
       "      <td>0.11</td>\n",
       "    </tr>\n",
       "    <tr>\n",
       "      <th>min</th>\n",
       "      <td>0.53</td>\n",
       "      <td>0.57</td>\n",
       "      <td>0.79</td>\n",
       "      <td>0.54</td>\n",
       "    </tr>\n",
       "    <tr>\n",
       "      <th>25%</th>\n",
       "      <td>0.70</td>\n",
       "      <td>0.76</td>\n",
       "      <td>0.95</td>\n",
       "      <td>0.73</td>\n",
       "    </tr>\n",
       "    <tr>\n",
       "      <th>50%</th>\n",
       "      <td>0.80</td>\n",
       "      <td>0.88</td>\n",
       "      <td>0.97</td>\n",
       "      <td>0.84</td>\n",
       "    </tr>\n",
       "    <tr>\n",
       "      <th>75%</th>\n",
       "      <td>0.88</td>\n",
       "      <td>0.95</td>\n",
       "      <td>0.99</td>\n",
       "      <td>0.91</td>\n",
       "    </tr>\n",
       "    <tr>\n",
       "      <th>max</th>\n",
       "      <td>1.02</td>\n",
       "      <td>1.11</td>\n",
       "      <td>1.00</td>\n",
       "      <td>1.03</td>\n",
       "    </tr>\n",
       "  </tbody>\n",
       "</table>\n",
       "</div>"
      ],
      "text/plain": [
       "       Produtividade  Eficiência  Qualidade  Desempenho\n",
       "count         298.00      298.00     298.00      298.00\n",
       "mean            0.79        0.85       0.96        0.82\n",
       "std             0.11        0.11       0.03        0.11\n",
       "min             0.53        0.57       0.79        0.54\n",
       "25%             0.70        0.76       0.95        0.73\n",
       "50%             0.80        0.88       0.97        0.84\n",
       "75%             0.88        0.95       0.99        0.91\n",
       "max             1.02        1.11       1.00        1.03"
      ]
     },
     "execution_count": 667,
     "metadata": {},
     "output_type": "execute_result"
    }
   ],
   "source": [
    "## Estatistica do Dim_Plano \n",
    "Dim_Pessoa_Plano.describe().round(2)"
   ]
  },
  {
   "cell_type": "code",
   "execution_count": 668,
   "id": "1a79c21c",
   "metadata": {},
   "outputs": [],
   "source": [
    "import statsmodels.api as sm\n",
    "from patsy import dmatrices"
   ]
  },
  {
   "cell_type": "code",
   "execution_count": 669,
   "id": "900618cd",
   "metadata": {},
   "outputs": [],
   "source": [
    "## Função dmatrices de patsy para criar matrizes de design\n",
    "y, X = dmatrices('Eficiência ~ Produtividade + Qualidade + Desempenho', data=Dim_Pessoa_Plano, return_type='dataframe')"
   ]
  },
  {
   "cell_type": "code",
   "execution_count": 670,
   "id": "ae36f8af",
   "metadata": {},
   "outputs": [
    {
     "data": {
      "text/html": [
       "<div>\n",
       "<style scoped>\n",
       "    .dataframe tbody tr th:only-of-type {\n",
       "        vertical-align: middle;\n",
       "    }\n",
       "\n",
       "    .dataframe tbody tr th {\n",
       "        vertical-align: top;\n",
       "    }\n",
       "\n",
       "    .dataframe thead th {\n",
       "        text-align: right;\n",
       "    }\n",
       "</style>\n",
       "<table border=\"1\" class=\"dataframe\">\n",
       "  <thead>\n",
       "    <tr style=\"text-align: right;\">\n",
       "      <th></th>\n",
       "      <th>Eficiência</th>\n",
       "    </tr>\n",
       "  </thead>\n",
       "  <tbody>\n",
       "    <tr>\n",
       "      <th>0</th>\n",
       "      <td>0.85</td>\n",
       "    </tr>\n",
       "    <tr>\n",
       "      <th>1</th>\n",
       "      <td>0.79</td>\n",
       "    </tr>\n",
       "    <tr>\n",
       "      <th>2</th>\n",
       "      <td>0.67</td>\n",
       "    </tr>\n",
       "  </tbody>\n",
       "</table>\n",
       "</div>"
      ],
      "text/plain": [
       "   Eficiência\n",
       "0        0.85\n",
       "1        0.79\n",
       "2        0.67"
      ]
     },
     "execution_count": 670,
     "metadata": {},
     "output_type": "execute_result"
    }
   ],
   "source": [
    "## Matrizes / quadros de dados resultantes \n",
    "y[:3]"
   ]
  },
  {
   "cell_type": "code",
   "execution_count": 671,
   "id": "bb7e6b39",
   "metadata": {},
   "outputs": [
    {
     "name": "stdout",
     "output_type": "stream",
     "text": [
      "                                 OLS Regression Results                                \n",
      "=======================================================================================\n",
      "Dep. Variable:             Eficiência   R-squared (uncentered):                   0.997\n",
      "Model:                            OLS   Adj. R-squared (uncentered):              0.997\n",
      "Method:                 Least Squares   F-statistic:                          9.820e+04\n",
      "Date:                Tue, 02 Aug 2022   Prob (F-statistic):                        0.00\n",
      "Time:                        19:25:22   Log-Likelihood:                          487.09\n",
      "No. Observations:                 298   AIC:                                     -972.2\n",
      "Df Residuals:                     297   BIC:                                     -968.5\n",
      "Df Model:                           1                                                  \n",
      "Covariance Type:            nonrobust                                                  \n",
      "================================================================================\n",
      "                   coef    std err          t      P>|t|      [0.025      0.975]\n",
      "--------------------------------------------------------------------------------\n",
      "Volume Bruto     0.0024   7.51e-06    313.366      0.000       0.002       0.002\n",
      "==============================================================================\n",
      "Omnibus:                       26.245   Durbin-Watson:                   2.090\n",
      "Prob(Omnibus):                  0.000   Jarque-Bera (JB):               47.606\n",
      "Skew:                           0.509   Prob(JB):                     4.60e-11\n",
      "Kurtosis:                       4.672   Cond. No.                         1.00\n",
      "==============================================================================\n",
      "\n",
      "Notes:\n",
      "[1] R² is computed without centering (uncentered) since the model does not contain a constant.\n",
      "[2] Standard Errors assume that the covariance matrix of the errors is correctly specified.\n"
     ]
    }
   ],
   "source": [
    "# Descrevendo o modelo \n",
    "mod1 = sm.OLS(y,x) \n",
    "\n",
    "# Modelo de Ajuste \n",
    "res = mod1.fit()\n",
    "\n",
    "# Modelo de Resumo \n",
    "print(res.summary())"
   ]
  },
  {
   "cell_type": "code",
   "execution_count": 672,
   "id": "2e241a30",
   "metadata": {},
   "outputs": [
    {
     "data": {
      "text/plain": [
       "Volume Bruto    0.002354\n",
       "dtype: float64"
      ]
     },
     "execution_count": 672,
     "metadata": {},
     "output_type": "execute_result"
    }
   ],
   "source": [
    "# Paramêtros de estímativas do Volume Bruto\n",
    "res.params"
   ]
  },
  {
   "cell_type": "code",
   "execution_count": 673,
   "id": "b7b5af24",
   "metadata": {},
   "outputs": [
    {
     "data": {
      "text/plain": [
       "0.9969846265778791"
      ]
     },
     "execution_count": 673,
     "metadata": {},
     "output_type": "execute_result"
    }
   ],
   "source": [
    "# R esquadro para os paramêtros\n",
    "res.rsquared"
   ]
  },
  {
   "cell_type": "code",
   "execution_count": 674,
   "id": "4c8d1459",
   "metadata": {},
   "outputs": [
    {
     "data": {
      "text/plain": [
       "(0.894453174758212, 0.7512844705450608)"
      ]
     },
     "execution_count": 674,
     "metadata": {},
     "output_type": "execute_result"
    }
   ],
   "source": [
    "## Teste de Diagnóstico e especificação \n",
    "sm.stats.linear_rainbow(res)"
   ]
  },
  {
   "cell_type": "markdown",
   "id": "b432f462",
   "metadata": {},
   "source": [
    "## Gráfico de regressão parcial para um conjuntos de Planos "
   ]
  },
  {
   "cell_type": "code",
   "execution_count": 675,
   "id": "0991aace",
   "metadata": {},
   "outputs": [
    {
     "data": {
      "image/png": "[encoded data removed]",
      "text/plain": [
       "<Figure size 432x288 with 1 Axes>"
      ]
     },
     "execution_count": 675,
     "metadata": {},
     "output_type": "execute_result"
    },
    {
     "data": {
      "image/png": "[encoded data removed]",
      "text/plain": [
       "<Figure size 432x288 with 1 Axes>"
      ]
     },
     "metadata": {
      "needs_background": "light"
     },
     "output_type": "display_data"
    }
   ],
   "source": [
    "sm.graphics.plot_partregress('Eficiência', 'Produtividade', ['Qualidade', 'Desempenho'], data=Dim_Pessoa_Plano, \n",
    "                            obs_labels = False)"
   ]
  },
  {
   "cell_type": "markdown",
   "id": "cd897d27",
   "metadata": {},
   "source": [
    "## Produtividade e Eficiência por Nome "
   ]
  },
  {
   "cell_type": "code",
   "execution_count": 741,
   "id": "2d973594",
   "metadata": {},
   "outputs": [
    {
     "data": {
      "application/vnd.plotly.v1+json": {
       "config": {
        "plotlyServerURL": "https://plot.ly"
       },
       "data": [
        {
         "hovertemplate": "Nome=Miriam<br>Produtividade=%{x}<br>Eficiência=%{y}<extra></extra>",
         "legendgroup": "Miriam",
         "marker": {
          "color": "#636efa",
          "symbol": "circle"
         },
         "mode": "markers",
         "name": "Miriam",
         "orientation": "v",
         "showlegend": true,
         "type": "scatter",
         "x": [
          0.81,
          0.81,
          0.79,
          0.8,
          0.84,
          0.92,
          0.94,
          0.87,
          0.69,
          0.62,
          0.79,
          0.79,
          0.9,
          0.89,
          0.92,
          0.63,
          0.86,
          0.79,
          0.88,
          0.75,
          0.89,
          0.79,
          0.69,
          0.9,
          0.83,
          0.63,
          0.83,
          0.95
         ],
         "xaxis": "x",
         "y": [
          0.85,
          0.84,
          0.94,
          0.91,
          0.88,
          0.97,
          0.96,
          0.9,
          0.73,
          0.75,
          0.94,
          0.89,
          0.95,
          0.91,
          0.99,
          0.77,
          0.92,
          0.82,
          0.99,
          0.78,
          0.91,
          0.86,
          0.74,
          0.92,
          0.87,
          0.67,
          0.91,
          1
         ],
         "yaxis": "y"
        },
        {
         "hovertemplate": "Nome=Daniel<br>Produtividade=%{x}<br>Eficiência=%{y}<extra></extra>",
         "legendgroup": "Daniel",
         "marker": {
          "color": "#EF553B",
          "symbol": "circle"
         },
         "mode": "markers",
         "name": "Daniel",
         "orientation": "v",
         "showlegend": true,
         "type": "scatter",
         "x": [
          0.74,
          0.85,
          0.84,
          0.9,
          0.82,
          0.94,
          0.84,
          0.85,
          0.89,
          0.57,
          0.91,
          0.96,
          0.9,
          0.85,
          0.7,
          0.84,
          0.93,
          0.66,
          0.93,
          0.74,
          0.79,
          0.85,
          0.86,
          0.7,
          0.73,
          0.69,
          0.68,
          0.81,
          0.8,
          0.8,
          0.69,
          0.72,
          0.77,
          0.93
         ],
         "xaxis": "x",
         "y": [
          0.79,
          0.87,
          0.96,
          0.9,
          0.88,
          1.01,
          0.97,
          0.88,
          0.95,
          0.68,
          0.91,
          0.98,
          0.9,
          0.88,
          0.77,
          0.88,
          0.96,
          0.67,
          0.98,
          0.79,
          0.83,
          0.9,
          0.93,
          0.74,
          0.74,
          0.7,
          0.69,
          0.92,
          0.89,
          0.83,
          0.77,
          0.77,
          0.87,
          1
         ],
         "yaxis": "y"
        },
        {
         "hovertemplate": "Nome=Carlos<br>Produtividade=%{x}<br>Eficiência=%{y}<extra></extra>",
         "legendgroup": "Carlos",
         "marker": {
          "color": "#00cc96",
          "symbol": "circle"
         },
         "mode": "markers",
         "name": "Carlos",
         "orientation": "v",
         "showlegend": true,
         "type": "scatter",
         "x": [
          0.63,
          0.72,
          0.83,
          0.64,
          0.53,
          0.69,
          0.86,
          0.9,
          0.74,
          0.8,
          0.63,
          0.97,
          0.63,
          0.9,
          0.79,
          0.86,
          0.77,
          0.82,
          0.67,
          0.79,
          0.68,
          0.78,
          0.85,
          0.64,
          0.84,
          0.64
         ],
         "xaxis": "x",
         "y": [
          0.67,
          0.74,
          0.89,
          0.69,
          0.77,
          0.82,
          0.95,
          0.95,
          0.87,
          0.84,
          0.71,
          1.05,
          0.78,
          0.9,
          0.97,
          0.94,
          0.93,
          0.88,
          0.71,
          0.79,
          0.72,
          0.83,
          0.92,
          0.71,
          0.93,
          0.66
         ],
         "yaxis": "y"
        },
        {
         "hovertemplate": "Nome=Flávia<br>Produtividade=%{x}<br>Eficiência=%{y}<extra></extra>",
         "legendgroup": "Flávia",
         "marker": {
          "color": "#ab63fa",
          "symbol": "circle"
         },
         "mode": "markers",
         "name": "Flávia",
         "orientation": "v",
         "showlegend": true,
         "type": "scatter",
         "x": [
          0.92,
          0.9,
          0.93,
          0.84,
          0.89,
          0.89,
          0.8,
          0.93,
          0.88,
          0.73,
          0.55,
          0.87,
          0.84,
          0.74,
          0.8,
          0.57,
          0.67,
          0.84,
          0.84,
          0.78,
          0.92,
          0.77,
          0.82,
          0.67,
          0.86,
          0.75,
          0.65,
          0.75,
          0.66
         ],
         "xaxis": "x",
         "y": [
          0.95,
          0.96,
          0.95,
          0.95,
          0.91,
          1,
          0.89,
          0.96,
          0.94,
          0.76,
          0.57,
          0.9,
          0.93,
          0.8,
          0.94,
          0.62,
          0.69,
          0.87,
          0.89,
          0.82,
          1.02,
          0.83,
          0.86,
          0.74,
          0.89,
          0.81,
          0.73,
          0.86,
          0.68
         ],
         "yaxis": "y"
        },
        {
         "hovertemplate": "Nome=Elisabeth<br>Produtividade=%{x}<br>Eficiência=%{y}<extra></extra>",
         "legendgroup": "Elisabeth",
         "marker": {
          "color": "#FFA15A",
          "symbol": "circle"
         },
         "mode": "markers",
         "name": "Elisabeth",
         "orientation": "v",
         "showlegend": true,
         "type": "scatter",
         "x": [
          0.62,
          0.62,
          0.89,
          0.92,
          0.61,
          0.91,
          0.68,
          0.86,
          0.91,
          0.99,
          0.8,
          0.89,
          0.53,
          0.89,
          0.84,
          0.91,
          0.9,
          0.87,
          0.77,
          0.76,
          0.71,
          0.72,
          0.92,
          0.86,
          0.73,
          0.78,
          0.89
         ],
         "xaxis": "x",
         "y": [
          0.69,
          0.65,
          0.95,
          0.97,
          0.64,
          0.95,
          0.72,
          0.96,
          0.93,
          1.01,
          0.91,
          0.95,
          0.77,
          1,
          0.9,
          0.95,
          0.97,
          0.91,
          0.8,
          0.82,
          0.81,
          0.78,
          1.03,
          0.88,
          0.78,
          0.85,
          0.89
         ],
         "yaxis": "y"
        },
        {
         "hovertemplate": "Nome=Adriana<br>Produtividade=%{x}<br>Eficiência=%{y}<extra></extra>",
         "legendgroup": "Adriana",
         "marker": {
          "color": "#19d3f3",
          "symbol": "circle"
         },
         "mode": "markers",
         "name": "Adriana",
         "orientation": "v",
         "showlegend": true,
         "type": "scatter",
         "x": [
          0.84,
          0.92,
          0.68,
          0.73,
          0.69,
          0.63,
          0.74,
          0.85,
          0.79,
          0.91,
          0.65,
          0.73,
          0.93,
          0.94,
          0.8,
          0.84,
          0.73,
          0.88,
          0.8,
          0.65,
          0.8,
          1.02,
          0.82,
          0.83,
          0.72,
          0.77,
          0.57,
          0.67,
          0.88,
          0.87,
          0.88,
          0.64,
          0.84,
          0.64
         ],
         "xaxis": "x",
         "y": [
          0.92,
          0.97,
          0.7,
          0.75,
          0.71,
          0.71,
          0.8,
          0.93,
          0.87,
          0.94,
          0.7,
          0.82,
          0.95,
          0.96,
          0.91,
          0.97,
          0.82,
          0.99,
          0.83,
          0.69,
          0.92,
          1.11,
          0.96,
          0.93,
          0.75,
          0.82,
          0.65,
          0.75,
          0.9,
          0.94,
          0.93,
          0.68,
          0.89,
          0.7
         ],
         "yaxis": "y"
        },
        {
         "hovertemplate": "Nome=Isabel<br>Produtividade=%{x}<br>Eficiência=%{y}<extra></extra>",
         "legendgroup": "Isabel",
         "marker": {
          "color": "#FF6692",
          "symbol": "circle"
         },
         "mode": "markers",
         "name": "Isabel",
         "orientation": "v",
         "showlegend": true,
         "type": "scatter",
         "x": [
          0.59,
          0.65,
          0.63,
          0.79,
          0.84,
          0.68,
          0.8,
          0.91,
          0.85,
          0.92,
          0.94,
          0.91,
          0.86,
          0.8,
          0.93,
          0.6,
          0.66,
          0.69,
          0.79,
          0.81,
          0.6,
          0.93,
          0.6,
          0.69,
          0.84,
          0.71,
          0.8,
          0.74,
          0.94
         ],
         "xaxis": "x",
         "y": [
          0.71,
          0.69,
          0.65,
          0.84,
          0.93,
          0.73,
          0.82,
          0.95,
          0.93,
          0.97,
          1.01,
          0.95,
          0.91,
          0.85,
          0.96,
          0.72,
          0.74,
          0.76,
          0.86,
          0.84,
          0.62,
          0.93,
          0.61,
          0.75,
          0.91,
          0.78,
          0.84,
          0.79,
          1
         ],
         "yaxis": "y"
        },
        {
         "hovertemplate": "Nome=Solange<br>Produtividade=%{x}<br>Eficiência=%{y}<extra></extra>",
         "legendgroup": "Solange",
         "marker": {
          "color": "#B6E880",
          "symbol": "circle"
         },
         "mode": "markers",
         "name": "Solange",
         "orientation": "v",
         "showlegend": true,
         "type": "scatter",
         "x": [
          0.85,
          0.81,
          0.55,
          0.61,
          0.63,
          0.67,
          0.97,
          0.91,
          0.72,
          0.85,
          0.7,
          0.86,
          0.79,
          0.56,
          0.84,
          0.86,
          0.92,
          0.93,
          0.92,
          0.61,
          0.76,
          0.73,
          0.82,
          0.79,
          0.89,
          0.66
         ],
         "xaxis": "x",
         "y": [
          0.93,
          0.9,
          0.57,
          0.69,
          0.78,
          0.72,
          1.05,
          1,
          0.74,
          0.96,
          0.77,
          0.95,
          0.89,
          0.59,
          0.95,
          0.94,
          0.99,
          0.95,
          1.04,
          0.69,
          0.79,
          0.73,
          0.84,
          0.87,
          0.91,
          0.69
         ],
         "yaxis": "y"
        },
        {
         "hovertemplate": "Nome=Anderson<br>Produtividade=%{x}<br>Eficiência=%{y}<extra></extra>",
         "legendgroup": "Anderson",
         "marker": {
          "color": "#FF97FF",
          "symbol": "circle"
         },
         "mode": "markers",
         "name": "Anderson",
         "orientation": "v",
         "showlegend": true,
         "type": "scatter",
         "x": [
          0.91,
          0.87,
          0.66,
          0.8,
          0.86,
          0.79,
          0.92,
          0.91,
          0.72,
          0.93,
          0.67,
          0.81,
          0.86,
          0.63,
          0.68,
          0.94,
          0.61,
          0.86,
          0.84,
          0.91,
          0.91,
          0.89,
          0.81,
          0.78,
          0.88,
          0.94,
          0.94,
          0.75,
          0.74,
          0.67,
          0.78,
          0.87,
          0.65,
          0.63,
          0.88,
          0.78,
          0.72,
          0.87
         ],
         "xaxis": "x",
         "y": [
          0.95,
          0.95,
          0.73,
          0.84,
          0.87,
          0.89,
          0.99,
          0.96,
          0.83,
          0.97,
          0.73,
          0.92,
          0.89,
          0.65,
          0.72,
          1.01,
          0.64,
          0.89,
          0.96,
          0.94,
          0.94,
          0.95,
          0.91,
          0.82,
          0.96,
          0.99,
          1.01,
          0.76,
          0.8,
          0.68,
          0.89,
          0.88,
          0.72,
          0.64,
          0.91,
          0.88,
          0.73,
          0.89
         ],
         "yaxis": "y"
        },
        {
         "hovertemplate": "Nome=Cleber<br>Produtividade=%{x}<br>Eficiência=%{y}<extra></extra>",
         "legendgroup": "Cleber",
         "marker": {
          "color": "#FECB52",
          "symbol": "circle"
         },
         "mode": "markers",
         "name": "Cleber",
         "orientation": "v",
         "showlegend": true,
         "type": "scatter",
         "x": [
          0.81,
          0.6,
          0.7,
          0.66,
          0.86,
          0.85,
          0.91,
          0.98,
          0.8,
          0.89,
          0.83,
          0.8,
          0.63,
          0.68,
          0.98,
          0.87,
          0.63,
          0.78,
          0.78,
          0.92,
          0.92,
          0.64,
          0.69,
          0.64,
          0.64,
          0.85,
          0.94
         ],
         "xaxis": "x",
         "y": [
          0.87,
          0.65,
          0.77,
          0.69,
          0.91,
          0.95,
          0.91,
          1.05,
          0.83,
          0.97,
          0.89,
          0.89,
          0.71,
          0.73,
          1,
          0.94,
          0.71,
          0.81,
          0.82,
          1.02,
          0.96,
          0.65,
          0.73,
          0.68,
          0.68,
          0.95,
          1.06
         ],
         "yaxis": "y"
        }
       ],
       "layout": {
        "legend": {
         "title": {
          "text": "Nome"
         },
         "tracegroupgap": 0
        },
        "margin": {
         "t": 60
        },
        "template": {
         "data": {
          "bar": [
           {
            "error_x": {
             "color": "#2a3f5f"
            },
            "error_y": {
             "color": "#2a3f5f"
            },
            "marker": {
             "line": {
              "color": "#E5ECF6",
              "width": 0.5
             },
             "pattern": {
              "fillmode": "overlay",
              "size": 10,
              "solidity": 0.2
             }
            },
            "type": "bar"
           }
          ],
          "barpolar": [
           {
            "marker": {
             "line": {
              "color": "#E5ECF6",
              "width": 0.5
             },
             "pattern": {
              "fillmode": "overlay",
              "size": 10,
              "solidity": 0.2
             }
            },
            "type": "barpolar"
           }
          ],
          "carpet": [
           {
            "aaxis": {
             "endlinecolor": "#2a3f5f",
             "gridcolor": "white",
             "linecolor": "white",
             "minorgridcolor": "white",
             "startlinecolor": "#2a3f5f"
            },
            "baxis": {
             "endlinecolor": "#2a3f5f",
             "gridcolor": "white",
             "linecolor": "white",
             "minorgridcolor": "white",
             "startlinecolor": "#2a3f5f"
            },
            "type": "carpet"
           }
          ],
          "choropleth": [
           {
            "colorbar": {
             "outlinewidth": 0,
             "ticks": ""
            },
            "type": "choropleth"
           }
          ],
          "contour": [
           {
            "colorbar": {
             "outlinewidth": 0,
             "ticks": ""
            },
            "colorscale": [
             [
              0,
              "#0d0887"
             ],
             [
              0.1111111111111111,
              "#46039f"
             ],
             [
              0.2222222222222222,
              "#7201a8"
             ],
             [
              0.3333333333333333,
              "#9c179e"
             ],
             [
              0.4444444444444444,
              "#bd3786"
             ],
             [
              0.5555555555555556,
              "#d8576b"
             ],
             [
              0.6666666666666666,
              "#ed7953"
             ],
             [
              0.7777777777777778,
              "#fb9f3a"
             ],
             [
              0.8888888888888888,
              "#fdca26"
             ],
             [
              1,
              "#f0f921"
             ]
            ],
            "type": "contour"
           }
          ],
          "contourcarpet": [
           {
            "colorbar": {
             "outlinewidth": 0,
             "ticks": ""
            },
            "type": "contourcarpet"
           }
          ],
          "heatmap": [
           {
            "colorbar": {
             "outlinewidth": 0,
             "ticks": ""
            },
            "colorscale": [
             [
              0,
              "#0d0887"
             ],
             [
              0.1111111111111111,
              "#46039f"
             ],
             [
              0.2222222222222222,
              "#7201a8"
             ],
             [
              0.3333333333333333,
              "#9c179e"
             ],
             [
              0.4444444444444444,
              "#bd3786"
             ],
             [
              0.5555555555555556,
              "#d8576b"
             ],
             [
              0.6666666666666666,
              "#ed7953"
             ],
             [
              0.7777777777777778,
              "#fb9f3a"
             ],
             [
              0.8888888888888888,
              "#fdca26"
             ],
             [
              1,
              "#f0f921"
             ]
            ],
            "type": "heatmap"
           }
          ],
          "heatmapgl": [
           {
            "colorbar": {
             "outlinewidth": 0,
             "ticks": ""
            },
            "colorscale": [
             [
              0,
              "#0d0887"
             ],
             [
              0.1111111111111111,
              "#46039f"
             ],
             [
              0.2222222222222222,
              "#7201a8"
             ],
             [
              0.3333333333333333,
              "#9c179e"
             ],
             [
              0.4444444444444444,
              "#bd3786"
             ],
             [
              0.5555555555555556,
              "#d8576b"
             ],
             [
              0.6666666666666666,
              "#ed7953"
             ],
             [
              0.7777777777777778,
              "#fb9f3a"
             ],
             [
              0.8888888888888888,
              "#fdca26"
             ],
             [
              1,
              "#f0f921"
             ]
            ],
            "type": "heatmapgl"
           }
          ],
          "histogram": [
           {
            "marker": {
             "pattern": {
              "fillmode": "overlay",
              "size": 10,
              "solidity": 0.2
             }
            },
            "type": "histogram"
           }
          ],
          "histogram2d": [
           {
            "colorbar": {
             "outlinewidth": 0,
             "ticks": ""
            },
            "colorscale": [
             [
              0,
              "#0d0887"
             ],
             [
              0.1111111111111111,
              "#46039f"
             ],
             [
              0.2222222222222222,
              "#7201a8"
             ],
             [
              0.3333333333333333,
              "#9c179e"
             ],
             [
              0.4444444444444444,
              "#bd3786"
             ],
             [
              0.5555555555555556,
              "#d8576b"
             ],
             [
              0.6666666666666666,
              "#ed7953"
             ],
             [
              0.7777777777777778,
              "#fb9f3a"
             ],
             [
              0.8888888888888888,
              "#fdca26"
             ],
             [
              1,
              "#f0f921"
             ]
            ],
            "type": "histogram2d"
           }
          ],
          "histogram2dcontour": [
           {
            "colorbar": {
             "outlinewidth": 0,
             "ticks": ""
            },
            "colorscale": [
             [
              0,
              "#0d0887"
             ],
             [
              0.1111111111111111,
              "#46039f"
             ],
             [
              0.2222222222222222,
              "#7201a8"
             ],
             [
              0.3333333333333333,
              "#9c179e"
             ],
             [
              0.4444444444444444,
              "#bd3786"
             ],
             [
              0.5555555555555556,
              "#d8576b"
             ],
             [
              0.6666666666666666,
              "#ed7953"
             ],
             [
              0.7777777777777778,
              "#fb9f3a"
             ],
             [
              0.8888888888888888,
              "#fdca26"
             ],
             [
              1,
              "#f0f921"
             ]
            ],
            "type": "histogram2dcontour"
           }
          ],
          "mesh3d": [
           {
            "colorbar": {
             "outlinewidth": 0,
             "ticks": ""
            },
            "type": "mesh3d"
           }
          ],
          "parcoords": [
           {
            "line": {
             "colorbar": {
              "outlinewidth": 0,
              "ticks": ""
             }
            },
            "type": "parcoords"
           }
          ],
          "pie": [
           {
            "automargin": true,
            "type": "pie"
           }
          ],
          "scatter": [
           {
            "marker": {
             "colorbar": {
              "outlinewidth": 0,
              "ticks": ""
             }
            },
            "type": "scatter"
           }
          ],
          "scatter3d": [
           {
            "line": {
             "colorbar": {
              "outlinewidth": 0,
              "ticks": ""
             }
            },
            "marker": {
             "colorbar": {
              "outlinewidth": 0,
              "ticks": ""
             }
            },
            "type": "scatter3d"
           }
          ],
          "scattercarpet": [
           {
            "marker": {
             "colorbar": {
              "outlinewidth": 0,
              "ticks": ""
             }
            },
            "type": "scattercarpet"
           }
          ],
          "scattergeo": [
           {
            "marker": {
             "colorbar": {
              "outlinewidth": 0,
              "ticks": ""
             }
            },
            "type": "scattergeo"
           }
          ],
          "scattergl": [
           {
            "marker": {
             "colorbar": {
              "outlinewidth": 0,
              "ticks": ""
             }
            },
            "type": "scattergl"
           }
          ],
          "scattermapbox": [
           {
            "marker": {
             "colorbar": {
              "outlinewidth": 0,
              "ticks": ""
             }
            },
            "type": "scattermapbox"
           }
          ],
          "scatterpolar": [
           {
            "marker": {
             "colorbar": {
              "outlinewidth": 0,
              "ticks": ""
             }
            },
            "type": "scatterpolar"
           }
          ],
          "scatterpolargl": [
           {
            "marker": {
             "colorbar": {
              "outlinewidth": 0,
              "ticks": ""
             }
            },
            "type": "scatterpolargl"
           }
          ],
          "scatterternary": [
           {
            "marker": {
             "colorbar": {
              "outlinewidth": 0,
              "ticks": ""
             }
            },
            "type": "scatterternary"
           }
          ],
          "surface": [
           {
            "colorbar": {
             "outlinewidth": 0,
             "ticks": ""
            },
            "colorscale": [
             [
              0,
              "#0d0887"
             ],
             [
              0.1111111111111111,
              "#46039f"
             ],
             [
              0.2222222222222222,
              "#7201a8"
             ],
             [
              0.3333333333333333,
              "#9c179e"
             ],
             [
              0.4444444444444444,
              "#bd3786"
             ],
             [
              0.5555555555555556,
              "#d8576b"
             ],
             [
              0.6666666666666666,
              "#ed7953"
             ],
             [
              0.7777777777777778,
              "#fb9f3a"
             ],
             [
              0.8888888888888888,
              "#fdca26"
             ],
             [
              1,
              "#f0f921"
             ]
            ],
            "type": "surface"
           }
          ],
          "table": [
           {
            "cells": {
             "fill": {
              "color": "#EBF0F8"
             },
             "line": {
              "color": "white"
             }
            },
            "header": {
             "fill": {
              "color": "#C8D4E3"
             },
             "line": {
              "color": "white"
             }
            },
            "type": "table"
           }
          ]
         },
         "layout": {
          "annotationdefaults": {
           "arrowcolor": "#2a3f5f",
           "arrowhead": 0,
           "arrowwidth": 1
          },
          "autotypenumbers": "strict",
          "coloraxis": {
           "colorbar": {
            "outlinewidth": 0,
            "ticks": ""
           }
          },
          "colorscale": {
           "diverging": [
            [
             0,
             "#8e0152"
            ],
            [
             0.1,
             "#c51b7d"
            ],
            [
             0.2,
             "#de77ae"
            ],
            [
             0.3,
             "#f1b6da"
            ],
            [
             0.4,
             "#fde0ef"
            ],
            [
             0.5,
             "#f7f7f7"
            ],
            [
             0.6,
             "#e6f5d0"
            ],
            [
             0.7,
             "#b8e186"
            ],
            [
             0.8,
             "#7fbc41"
            ],
            [
             0.9,
             "#4d9221"
            ],
            [
             1,
             "#276419"
            ]
           ],
           "sequential": [
            [
             0,
             "#0d0887"
            ],
            [
             0.1111111111111111,
             "#46039f"
            ],
            [
             0.2222222222222222,
             "#7201a8"
            ],
            [
             0.3333333333333333,
             "#9c179e"
            ],
            [
             0.4444444444444444,
             "#bd3786"
            ],
            [
             0.5555555555555556,
             "#d8576b"
            ],
            [
             0.6666666666666666,
             "#ed7953"
            ],
            [
             0.7777777777777778,
             "#fb9f3a"
            ],
            [
             0.8888888888888888,
             "#fdca26"
            ],
            [
             1,
             "#f0f921"
            ]
           ],
           "sequentialminus": [
            [
             0,
             "#0d0887"
            ],
            [
             0.1111111111111111,
             "#46039f"
            ],
            [
             0.2222222222222222,
             "#7201a8"
            ],
            [
             0.3333333333333333,
             "#9c179e"
            ],
            [
             0.4444444444444444,
             "#bd3786"
            ],
            [
             0.5555555555555556,
             "#d8576b"
            ],
            [
             0.6666666666666666,
             "#ed7953"
            ],
            [
             0.7777777777777778,
             "#fb9f3a"
            ],
            [
             0.8888888888888888,
             "#fdca26"
            ],
            [
             1,
             "#f0f921"
            ]
           ]
          },
          "colorway": [
           "#636efa",
           "#EF553B",
           "#00cc96",
           "#ab63fa",
           "#FFA15A",
           "#19d3f3",
           "#FF6692",
           "#B6E880",
           "#FF97FF",
           "#FECB52"
          ],
          "font": {
           "color": "#2a3f5f"
          },
          "geo": {
           "bgcolor": "white",
           "lakecolor": "white",
           "landcolor": "#E5ECF6",
           "showlakes": true,
           "showland": true,
           "subunitcolor": "white"
          },
          "hoverlabel": {
           "align": "left"
          },
          "hovermode": "closest",
          "mapbox": {
           "style": "light"
          },
          "paper_bgcolor": "white",
          "plot_bgcolor": "#E5ECF6",
          "polar": {
           "angularaxis": {
            "gridcolor": "white",
            "linecolor": "white",
            "ticks": ""
           },
           "bgcolor": "#E5ECF6",
           "radialaxis": {
            "gridcolor": "white",
            "linecolor": "white",
            "ticks": ""
           }
          },
          "scene": {
           "xaxis": {
            "backgroundcolor": "#E5ECF6",
            "gridcolor": "white",
            "gridwidth": 2,
            "linecolor": "white",
            "showbackground": true,
            "ticks": "",
            "zerolinecolor": "white"
           },
           "yaxis": {
            "backgroundcolor": "#E5ECF6",
            "gridcolor": "white",
            "gridwidth": 2,
            "linecolor": "white",
            "showbackground": true,
            "ticks": "",
            "zerolinecolor": "white"
           },
           "zaxis": {
            "backgroundcolor": "#E5ECF6",
            "gridcolor": "white",
            "gridwidth": 2,
            "linecolor": "white",
            "showbackground": true,
            "ticks": "",
            "zerolinecolor": "white"
           }
          },
          "shapedefaults": {
           "line": {
            "color": "#2a3f5f"
           }
          },
          "ternary": {
           "aaxis": {
            "gridcolor": "white",
            "linecolor": "white",
            "ticks": ""
           },
           "baxis": {
            "gridcolor": "white",
            "linecolor": "white",
            "ticks": ""
           },
           "bgcolor": "#E5ECF6",
           "caxis": {
            "gridcolor": "white",
            "linecolor": "white",
            "ticks": ""
           }
          },
          "title": {
           "x": 0.05
          },
          "xaxis": {
           "automargin": true,
           "gridcolor": "white",
           "linecolor": "white",
           "ticks": "",
           "title": {
            "standoff": 15
           },
           "zerolinecolor": "white",
           "zerolinewidth": 2
          },
          "yaxis": {
           "automargin": true,
           "gridcolor": "white",
           "linecolor": "white",
           "ticks": "",
           "title": {
            "standoff": 15
           },
           "zerolinecolor": "white",
           "zerolinewidth": 2
          }
         }
        },
        "xaxis": {
         "anchor": "y",
         "domain": [
          0,
          1
         ],
         "title": {
          "text": "Produtividade"
         }
        },
        "yaxis": {
         "anchor": "x",
         "domain": [
          0,
          1
         ],
         "title": {
          "text": "Eficiência"
         }
        }
       }
      },
      "text/html": [
       "<div>                            <div id=\"1c098019-54c5-4e04-bc63-d01483c42859\" class=\"plotly-graph-div\" style=\"height:525px; width:100%;\"></div>            <script type=\"text/javascript\">                require([\"plotly\"], function(Plotly) {                    window.PLOTLYENV=window.PLOTLYENV || {};                                    if (document.getElementById(\"1c098019-54c5-4e04-bc63-d01483c42859\")) {                    Plotly.newPlot(                        \"1c098019-54c5-4e04-bc63-d01483c42859\",                        [{\"hovertemplate\":\"Nome=Miriam<br>Produtividade=%{x}<br>Efici\\u00eancia=%{y}<extra></extra>\",\"legendgroup\":\"Miriam\",\"marker\":{\"color\":\"#636efa\",\"symbol\":\"circle\"},\"mode\":\"markers\",\"name\":\"Miriam\",\"orientation\":\"v\",\"showlegend\":true,\"x\":[0.81,0.81,0.79,0.8,0.84,0.92,0.94,0.87,0.69,0.62,0.79,0.79,0.9,0.89,0.92,0.63,0.86,0.79,0.88,0.75,0.89,0.79,0.69,0.9,0.83,0.63,0.83,0.95],\"xaxis\":\"x\",\"y\":[0.85,0.84,0.94,0.91,0.88,0.97,0.96,0.9,0.73,0.75,0.94,0.89,0.95,0.91,0.99,0.77,0.92,0.82,0.99,0.78,0.91,0.86,0.74,0.92,0.87,0.67,0.91,1.0],\"yaxis\":\"y\",\"type\":\"scatter\"},{\"hovertemplate\":\"Nome=Daniel<br>Produtividade=%{x}<br>Efici\\u00eancia=%{y}<extra></extra>\",\"legendgroup\":\"Daniel\",\"marker\":{\"color\":\"#EF553B\",\"symbol\":\"circle\"},\"mode\":\"markers\",\"name\":\"Daniel\",\"orientation\":\"v\",\"showlegend\":true,\"x\":[0.74,0.85,0.84,0.9,0.82,0.94,0.84,0.85,0.89,0.57,0.91,0.96,0.9,0.85,0.7,0.84,0.93,0.66,0.93,0.74,0.79,0.85,0.86,0.7,0.73,0.69,0.68,0.81,0.8,0.8,0.69,0.72,0.77,0.93],\"xaxis\":\"x\",\"y\":[0.79,0.87,0.96,0.9,0.88,1.01,0.97,0.88,0.95,0.68,0.91,0.98,0.9,0.88,0.77,0.88,0.96,0.67,0.98,0.79,0.83,0.9,0.93,0.74,0.74,0.7,0.69,0.92,0.89,0.83,0.77,0.77,0.87,1.0],\"yaxis\":\"y\",\"type\":\"scatter\"},{\"hovertemplate\":\"Nome=Carlos<br>Produtividade=%{x}<br>Efici\\u00eancia=%{y}<extra></extra>\",\"legendgroup\":\"Carlos\",\"marker\":{\"color\":\"#00cc96\",\"symbol\":\"circle\"},\"mode\":\"markers\",\"name\":\"Carlos\",\"orientation\":\"v\",\"showlegend\":true,\"x\":[0.63,0.72,0.83,0.64,0.53,0.69,0.86,0.9,0.74,0.8,0.63,0.97,0.63,0.9,0.79,0.86,0.77,0.82,0.67,0.79,0.68,0.78,0.85,0.64,0.84,0.64],\"xaxis\":\"x\",\"y\":[0.67,0.74,0.89,0.69,0.77,0.82,0.95,0.95,0.87,0.84,0.71,1.05,0.78,0.9,0.97,0.94,0.93,0.88,0.71,0.79,0.72,0.83,0.92,0.71,0.93,0.66],\"yaxis\":\"y\",\"type\":\"scatter\"},{\"hovertemplate\":\"Nome=Fl\\u00e1via<br>Produtividade=%{x}<br>Efici\\u00eancia=%{y}<extra></extra>\",\"legendgroup\":\"Fl\\u00e1via\",\"marker\":{\"color\":\"#ab63fa\",\"symbol\":\"circle\"},\"mode\":\"markers\",\"name\":\"Fl\\u00e1via\",\"orientation\":\"v\",\"showlegend\":true,\"x\":[0.92,0.9,0.93,0.84,0.89,0.89,0.8,0.93,0.88,0.73,0.55,0.87,0.84,0.74,0.8,0.57,0.67,0.84,0.84,0.78,0.92,0.77,0.82,0.67,0.86,0.75,0.65,0.75,0.66],\"xaxis\":\"x\",\"y\":[0.95,0.96,0.95,0.95,0.91,1.0,0.89,0.96,0.94,0.76,0.57,0.9,0.93,0.8,0.94,0.62,0.69,0.87,0.89,0.82,1.02,0.83,0.86,0.74,0.89,0.81,0.73,0.86,0.68],\"yaxis\":\"y\",\"type\":\"scatter\"},{\"hovertemplate\":\"Nome=Elisabeth<br>Produtividade=%{x}<br>Efici\\u00eancia=%{y}<extra></extra>\",\"legendgroup\":\"Elisabeth\",\"marker\":{\"color\":\"#FFA15A\",\"symbol\":\"circle\"},\"mode\":\"markers\",\"name\":\"Elisabeth\",\"orientation\":\"v\",\"showlegend\":true,\"x\":[0.62,0.62,0.89,0.92,0.61,0.91,0.68,0.86,0.91,0.99,0.8,0.89,0.53,0.89,0.84,0.91,0.9,0.87,0.77,0.76,0.71,0.72,0.92,0.86,0.73,0.78,0.89],\"xaxis\":\"x\",\"y\":[0.69,0.65,0.95,0.97,0.64,0.95,0.72,0.96,0.93,1.01,0.91,0.95,0.77,1.0,0.9,0.95,0.97,0.91,0.8,0.82,0.81,0.78,1.03,0.88,0.78,0.85,0.89],\"yaxis\":\"y\",\"type\":\"scatter\"},{\"hovertemplate\":\"Nome=Adriana<br>Produtividade=%{x}<br>Efici\\u00eancia=%{y}<extra></extra>\",\"legendgroup\":\"Adriana\",\"marker\":{\"color\":\"#19d3f3\",\"symbol\":\"circle\"},\"mode\":\"markers\",\"name\":\"Adriana\",\"orientation\":\"v\",\"showlegend\":true,\"x\":[0.84,0.92,0.68,0.73,0.69,0.63,0.74,0.85,0.79,0.91,0.65,0.73,0.93,0.94,0.8,0.84,0.73,0.88,0.8,0.65,0.8,1.02,0.82,0.83,0.72,0.77,0.57,0.67,0.88,0.87,0.88,0.64,0.84,0.64],\"xaxis\":\"x\",\"y\":[0.92,0.97,0.7,0.75,0.71,0.71,0.8,0.93,0.87,0.94,0.7,0.82,0.95,0.96,0.91,0.97,0.82,0.99,0.83,0.69,0.92,1.11,0.96,0.93,0.75,0.82,0.65,0.75,0.9,0.94,0.93,0.68,0.89,0.7],\"yaxis\":\"y\",\"type\":\"scatter\"},{\"hovertemplate\":\"Nome=Isabel<br>Produtividade=%{x}<br>Efici\\u00eancia=%{y}<extra></extra>\",\"legendgroup\":\"Isabel\",\"marker\":{\"color\":\"#FF6692\",\"symbol\":\"circle\"},\"mode\":\"markers\",\"name\":\"Isabel\",\"orientation\":\"v\",\"showlegend\":true,\"x\":[0.59,0.65,0.63,0.79,0.84,0.68,0.8,0.91,0.85,0.92,0.94,0.91,0.86,0.8,0.93,0.6,0.66,0.69,0.79,0.81,0.6,0.93,0.6,0.69,0.84,0.71,0.8,0.74,0.94],\"xaxis\":\"x\",\"y\":[0.71,0.69,0.65,0.84,0.93,0.73,0.82,0.95,0.93,0.97,1.01,0.95,0.91,0.85,0.96,0.72,0.74,0.76,0.86,0.84,0.62,0.93,0.61,0.75,0.91,0.78,0.84,0.79,1.0],\"yaxis\":\"y\",\"type\":\"scatter\"},{\"hovertemplate\":\"Nome=Solange<br>Produtividade=%{x}<br>Efici\\u00eancia=%{y}<extra></extra>\",\"legendgroup\":\"Solange\",\"marker\":{\"color\":\"#B6E880\",\"symbol\":\"circle\"},\"mode\":\"markers\",\"name\":\"Solange\",\"orientation\":\"v\",\"showlegend\":true,\"x\":[0.85,0.81,0.55,0.61,0.63,0.67,0.97,0.91,0.72,0.85,0.7,0.86,0.79,0.56,0.84,0.86,0.92,0.93,0.92,0.61,0.76,0.73,0.82,0.79,0.89,0.66],\"xaxis\":\"x\",\"y\":[0.93,0.9,0.57,0.69,0.78,0.72,1.05,1.0,0.74,0.96,0.77,0.95,0.89,0.59,0.95,0.94,0.99,0.95,1.04,0.69,0.79,0.73,0.84,0.87,0.91,0.69],\"yaxis\":\"y\",\"type\":\"scatter\"},{\"hovertemplate\":\"Nome=Anderson<br>Produtividade=%{x}<br>Efici\\u00eancia=%{y}<extra></extra>\",\"legendgroup\":\"Anderson\",\"marker\":{\"color\":\"#FF97FF\",\"symbol\":\"circle\"},\"mode\":\"markers\",\"name\":\"Anderson\",\"orientation\":\"v\",\"showlegend\":true,\"x\":[0.91,0.87,0.66,0.8,0.86,0.79,0.92,0.91,0.72,0.93,0.67,0.81,0.86,0.63,0.68,0.94,0.61,0.86,0.84,0.91,0.91,0.89,0.81,0.78,0.88,0.94,0.94,0.75,0.74,0.67,0.78,0.87,0.65,0.63,0.88,0.78,0.72,0.87],\"xaxis\":\"x\",\"y\":[0.95,0.95,0.73,0.84,0.87,0.89,0.99,0.96,0.83,0.97,0.73,0.92,0.89,0.65,0.72,1.01,0.64,0.89,0.96,0.94,0.94,0.95,0.91,0.82,0.96,0.99,1.01,0.76,0.8,0.68,0.89,0.88,0.72,0.64,0.91,0.88,0.73,0.89],\"yaxis\":\"y\",\"type\":\"scatter\"},{\"hovertemplate\":\"Nome=Cleber<br>Produtividade=%{x}<br>Efici\\u00eancia=%{y}<extra></extra>\",\"legendgroup\":\"Cleber\",\"marker\":{\"color\":\"#FECB52\",\"symbol\":\"circle\"},\"mode\":\"markers\",\"name\":\"Cleber\",\"orientation\":\"v\",\"showlegend\":true,\"x\":[0.81,0.6,0.7,0.66,0.86,0.85,0.91,0.98,0.8,0.89,0.83,0.8,0.63,0.68,0.98,0.87,0.63,0.78,0.78,0.92,0.92,0.64,0.69,0.64,0.64,0.85,0.94],\"xaxis\":\"x\",\"y\":[0.87,0.65,0.77,0.69,0.91,0.95,0.91,1.05,0.83,0.97,0.89,0.89,0.71,0.73,1.0,0.94,0.71,0.81,0.82,1.02,0.96,0.65,0.73,0.68,0.68,0.95,1.06],\"yaxis\":\"y\",\"type\":\"scatter\"}],                        {\"template\":{\"data\":{\"bar\":[{\"error_x\":{\"color\":\"#2a3f5f\"},\"error_y\":{\"color\":\"#2a3f5f\"},\"marker\":{\"line\":{\"color\":\"#E5ECF6\",\"width\":0.5},\"pattern\":{\"fillmode\":\"overlay\",\"size\":10,\"solidity\":0.2}},\"type\":\"bar\"}],\"barpolar\":[{\"marker\":{\"line\":{\"color\":\"#E5ECF6\",\"width\":0.5},\"pattern\":{\"fillmode\":\"overlay\",\"size\":10,\"solidity\":0.2}},\"type\":\"barpolar\"}],\"carpet\":[{\"aaxis\":{\"endlinecolor\":\"#2a3f5f\",\"gridcolor\":\"white\",\"linecolor\":\"white\",\"minorgridcolor\":\"white\",\"startlinecolor\":\"#2a3f5f\"},\"baxis\":{\"endlinecolor\":\"#2a3f5f\",\"gridcolor\":\"white\",\"linecolor\":\"white\",\"minorgridcolor\":\"white\",\"startlinecolor\":\"#2a3f5f\"},\"type\":\"carpet\"}],\"choropleth\":[{\"colorbar\":{\"outlinewidth\":0,\"ticks\":\"\"},\"type\":\"choropleth\"}],\"contour\":[{\"colorbar\":{\"outlinewidth\":0,\"ticks\":\"\"},\"colorscale\":[[0.0,\"#0d0887\"],[0.1111111111111111,\"#46039f\"],[0.2222222222222222,\"#7201a8\"],[0.3333333333333333,\"#9c179e\"],[0.4444444444444444,\"#bd3786\"],[0.5555555555555556,\"#d8576b\"],[0.6666666666666666,\"#ed7953\"],[0.7777777777777778,\"#fb9f3a\"],[0.8888888888888888,\"#fdca26\"],[1.0,\"#f0f921\"]],\"type\":\"contour\"}],\"contourcarpet\":[{\"colorbar\":{\"outlinewidth\":0,\"ticks\":\"\"},\"type\":\"contourcarpet\"}],\"heatmap\":[{\"colorbar\":{\"outlinewidth\":0,\"ticks\":\"\"},\"colorscale\":[[0.0,\"#0d0887\"],[0.1111111111111111,\"#46039f\"],[0.2222222222222222,\"#7201a8\"],[0.3333333333333333,\"#9c179e\"],[0.4444444444444444,\"#bd3786\"],[0.5555555555555556,\"#d8576b\"],[0.6666666666666666,\"#ed7953\"],[0.7777777777777778,\"#fb9f3a\"],[0.8888888888888888,\"#fdca26\"],[1.0,\"#f0f921\"]],\"type\":\"heatmap\"}],\"heatmapgl\":[{\"colorbar\":{\"outlinewidth\":0,\"ticks\":\"\"},\"colorscale\":[[0.0,\"#0d0887\"],[0.1111111111111111,\"#46039f\"],[0.2222222222222222,\"#7201a8\"],[0.3333333333333333,\"#9c179e\"],[0.4444444444444444,\"#bd3786\"],[0.5555555555555556,\"#d8576b\"],[0.6666666666666666,\"#ed7953\"],[0.7777777777777778,\"#fb9f3a\"],[0.8888888888888888,\"#fdca26\"],[1.0,\"#f0f921\"]],\"type\":\"heatmapgl\"}],\"histogram\":[{\"marker\":{\"pattern\":{\"fillmode\":\"overlay\",\"size\":10,\"solidity\":0.2}},\"type\":\"histogram\"}],\"histogram2d\":[{\"colorbar\":{\"outlinewidth\":0,\"ticks\":\"\"},\"colorscale\":[[0.0,\"#0d0887\"],[0.1111111111111111,\"#46039f\"],[0.2222222222222222,\"#7201a8\"],[0.3333333333333333,\"#9c179e\"],[0.4444444444444444,\"#bd3786\"],[0.5555555555555556,\"#d8576b\"],[0.6666666666666666,\"#ed7953\"],[0.7777777777777778,\"#fb9f3a\"],[0.8888888888888888,\"#fdca26\"],[1.0,\"#f0f921\"]],\"type\":\"histogram2d\"}],\"histogram2dcontour\":[{\"colorbar\":{\"outlinewidth\":0,\"ticks\":\"\"},\"colorscale\":[[0.0,\"#0d0887\"],[0.1111111111111111,\"#46039f\"],[0.2222222222222222,\"#7201a8\"],[0.3333333333333333,\"#9c179e\"],[0.4444444444444444,\"#bd3786\"],[0.5555555555555556,\"#d8576b\"],[0.6666666666666666,\"#ed7953\"],[0.7777777777777778,\"#fb9f3a\"],[0.8888888888888888,\"#fdca26\"],[1.0,\"#f0f921\"]],\"type\":\"histogram2dcontour\"}],\"mesh3d\":[{\"colorbar\":{\"outlinewidth\":0,\"ticks\":\"\"},\"type\":\"mesh3d\"}],\"parcoords\":[{\"line\":{\"colorbar\":{\"outlinewidth\":0,\"ticks\":\"\"}},\"type\":\"parcoords\"}],\"pie\":[{\"automargin\":true,\"type\":\"pie\"}],\"scatter\":[{\"marker\":{\"colorbar\":{\"outlinewidth\":0,\"ticks\":\"\"}},\"type\":\"scatter\"}],\"scatter3d\":[{\"line\":{\"colorbar\":{\"outlinewidth\":0,\"ticks\":\"\"}},\"marker\":{\"colorbar\":{\"outlinewidth\":0,\"ticks\":\"\"}},\"type\":\"scatter3d\"}],\"scattercarpet\":[{\"marker\":{\"colorbar\":{\"outlinewidth\":0,\"ticks\":\"\"}},\"type\":\"scattercarpet\"}],\"scattergeo\":[{\"marker\":{\"colorbar\":{\"outlinewidth\":0,\"ticks\":\"\"}},\"type\":\"scattergeo\"}],\"scattergl\":[{\"marker\":{\"colorbar\":{\"outlinewidth\":0,\"ticks\":\"\"}},\"type\":\"scattergl\"}],\"scattermapbox\":[{\"marker\":{\"colorbar\":{\"outlinewidth\":0,\"ticks\":\"\"}},\"type\":\"scattermapbox\"}],\"scatterpolar\":[{\"marker\":{\"colorbar\":{\"outlinewidth\":0,\"ticks\":\"\"}},\"type\":\"scatterpolar\"}],\"scatterpolargl\":[{\"marker\":{\"colorbar\":{\"outlinewidth\":0,\"ticks\":\"\"}},\"type\":\"scatterpolargl\"}],\"scatterternary\":[{\"marker\":{\"colorbar\":{\"outlinewidth\":0,\"ticks\":\"\"}},\"type\":\"scatterternary\"}],\"surface\":[{\"colorbar\":{\"outlinewidth\":0,\"ticks\":\"\"},\"colorscale\":[[0.0,\"#0d0887\"],[0.1111111111111111,\"#46039f\"],[0.2222222222222222,\"#7201a8\"],[0.3333333333333333,\"#9c179e\"],[0.4444444444444444,\"#bd3786\"],[0.5555555555555556,\"#d8576b\"],[0.6666666666666666,\"#ed7953\"],[0.7777777777777778,\"#fb9f3a\"],[0.8888888888888888,\"#fdca26\"],[1.0,\"#f0f921\"]],\"type\":\"surface\"}],\"table\":[{\"cells\":{\"fill\":{\"color\":\"#EBF0F8\"},\"line\":{\"color\":\"white\"}},\"header\":{\"fill\":{\"color\":\"#C8D4E3\"},\"line\":{\"color\":\"white\"}},\"type\":\"table\"}]},\"layout\":{\"annotationdefaults\":{\"arrowcolor\":\"#2a3f5f\",\"arrowhead\":0,\"arrowwidth\":1},\"autotypenumbers\":\"strict\",\"coloraxis\":{\"colorbar\":{\"outlinewidth\":0,\"ticks\":\"\"}},\"colorscale\":{\"diverging\":[[0,\"#8e0152\"],[0.1,\"#c51b7d\"],[0.2,\"#de77ae\"],[0.3,\"#f1b6da\"],[0.4,\"#fde0ef\"],[0.5,\"#f7f7f7\"],[0.6,\"#e6f5d0\"],[0.7,\"#b8e186\"],[0.8,\"#7fbc41\"],[0.9,\"#4d9221\"],[1,\"#276419\"]],\"sequential\":[[0.0,\"#0d0887\"],[0.1111111111111111,\"#46039f\"],[0.2222222222222222,\"#7201a8\"],[0.3333333333333333,\"#9c179e\"],[0.4444444444444444,\"#bd3786\"],[0.5555555555555556,\"#d8576b\"],[0.6666666666666666,\"#ed7953\"],[0.7777777777777778,\"#fb9f3a\"],[0.8888888888888888,\"#fdca26\"],[1.0,\"#f0f921\"]],\"sequentialminus\":[[0.0,\"#0d0887\"],[0.1111111111111111,\"#46039f\"],[0.2222222222222222,\"#7201a8\"],[0.3333333333333333,\"#9c179e\"],[0.4444444444444444,\"#bd3786\"],[0.5555555555555556,\"#d8576b\"],[0.6666666666666666,\"#ed7953\"],[0.7777777777777778,\"#fb9f3a\"],[0.8888888888888888,\"#fdca26\"],[1.0,\"#f0f921\"]]},\"colorway\":[\"#636efa\",\"#EF553B\",\"#00cc96\",\"#ab63fa\",\"#FFA15A\",\"#19d3f3\",\"#FF6692\",\"#B6E880\",\"#FF97FF\",\"#FECB52\"],\"font\":{\"color\":\"#2a3f5f\"},\"geo\":{\"bgcolor\":\"white\",\"lakecolor\":\"white\",\"landcolor\":\"#E5ECF6\",\"showlakes\":true,\"showland\":true,\"subunitcolor\":\"white\"},\"hoverlabel\":{\"align\":\"left\"},\"hovermode\":\"closest\",\"mapbox\":{\"style\":\"light\"},\"paper_bgcolor\":\"white\",\"plot_bgcolor\":\"#E5ECF6\",\"polar\":{\"angularaxis\":{\"gridcolor\":\"white\",\"linecolor\":\"white\",\"ticks\":\"\"},\"bgcolor\":\"#E5ECF6\",\"radialaxis\":{\"gridcolor\":\"white\",\"linecolor\":\"white\",\"ticks\":\"\"}},\"scene\":{\"xaxis\":{\"backgroundcolor\":\"#E5ECF6\",\"gridcolor\":\"white\",\"gridwidth\":2,\"linecolor\":\"white\",\"showbackground\":true,\"ticks\":\"\",\"zerolinecolor\":\"white\"},\"yaxis\":{\"backgroundcolor\":\"#E5ECF6\",\"gridcolor\":\"white\",\"gridwidth\":2,\"linecolor\":\"white\",\"showbackground\":true,\"ticks\":\"\",\"zerolinecolor\":\"white\"},\"zaxis\":{\"backgroundcolor\":\"#E5ECF6\",\"gridcolor\":\"white\",\"gridwidth\":2,\"linecolor\":\"white\",\"showbackground\":true,\"ticks\":\"\",\"zerolinecolor\":\"white\"}},\"shapedefaults\":{\"line\":{\"color\":\"#2a3f5f\"}},\"ternary\":{\"aaxis\":{\"gridcolor\":\"white\",\"linecolor\":\"white\",\"ticks\":\"\"},\"baxis\":{\"gridcolor\":\"white\",\"linecolor\":\"white\",\"ticks\":\"\"},\"bgcolor\":\"#E5ECF6\",\"caxis\":{\"gridcolor\":\"white\",\"linecolor\":\"white\",\"ticks\":\"\"}},\"title\":{\"x\":0.05},\"xaxis\":{\"automargin\":true,\"gridcolor\":\"white\",\"linecolor\":\"white\",\"ticks\":\"\",\"title\":{\"standoff\":15},\"zerolinecolor\":\"white\",\"zerolinewidth\":2},\"yaxis\":{\"automargin\":true,\"gridcolor\":\"white\",\"linecolor\":\"white\",\"ticks\":\"\",\"title\":{\"standoff\":15},\"zerolinecolor\":\"white\",\"zerolinewidth\":2}}},\"xaxis\":{\"anchor\":\"y\",\"domain\":[0.0,1.0],\"title\":{\"text\":\"Produtividade\"}},\"yaxis\":{\"anchor\":\"x\",\"domain\":[0.0,1.0],\"title\":{\"text\":\"Efici\\u00eancia\"}},\"legend\":{\"title\":{\"text\":\"Nome\"},\"tracegroupgap\":0},\"margin\":{\"t\":60}},                        {\"responsive\": true}                    ).then(function(){\n",
       "                            \n",
       "var gd = document.getElementById('1c098019-54c5-4e04-bc63-d01483c42859');\n",
       "var x = new MutationObserver(function (mutations, observer) {{\n",
       "        var display = window.getComputedStyle(gd).display;\n",
       "        if (!display || display === 'none') {{\n",
       "            console.log([gd, 'removed!']);\n",
       "            Plotly.purge(gd);\n",
       "            observer.disconnect();\n",
       "        }}\n",
       "}});\n",
       "\n",
       "// Listen for the removal of the full notebook cells\n",
       "var notebookContainer = gd.closest('#notebook-container');\n",
       "if (notebookContainer) {{\n",
       "    x.observe(notebookContainer, {childList: true});\n",
       "}}\n",
       "\n",
       "// Listen for the clearing of the current output cell\n",
       "var outputEl = gd.closest('.output');\n",
       "if (outputEl) {{\n",
       "    x.observe(outputEl, {childList: true});\n",
       "}}\n",
       "\n",
       "                        })                };                });            </script>        </div>"
      ]
     },
     "metadata": {},
     "output_type": "display_data"
    }
   ],
   "source": [
    "import plotly.express as px \n",
    "\n",
    "data = Dim_Pessoa_Plano\n",
    "\n",
    "fig = px.scatter(data, x=\"Produtividade\", y=\"Eficiência\", color=\"Nome\")\n",
    "fig.show()"
   ]
  },
  {
   "cell_type": "markdown",
   "id": "19adac29",
   "metadata": {},
   "source": [
    "## Produtividade e Eficiência por Setores "
   ]
  },
  {
   "cell_type": "code",
   "execution_count": 689,
   "id": "c2bca5ce",
   "metadata": {},
   "outputs": [
    {
     "data": {
      "application/vnd.plotly.v1+json": {
       "config": {
        "plotlyServerURL": "https://plot.ly"
       },
       "data": [
        {
         "hovertemplate": "Setores=Extrusão<br>Produtividade=%{x}<br>Eficiência=%{y}<extra></extra>",
         "legendgroup": "Extrusão",
         "marker": {
          "color": "#636efa",
          "symbol": "circle"
         },
         "mode": "markers",
         "name": "Extrusão",
         "orientation": "v",
         "showlegend": true,
         "type": "scatter",
         "x": [
          0.81,
          0.85,
          0.81,
          0.81,
          0.55,
          0.79,
          0.61,
          0.8,
          0.63,
          0.84,
          0.67,
          0.92,
          0.94,
          0.97,
          0.87,
          0.91,
          0.69,
          0.72,
          0.85,
          0.62,
          0.79,
          0.7,
          0.79,
          0.86,
          0.9,
          0.79,
          0.89,
          0.92,
          0.63,
          0.56,
          0.86,
          0.84,
          0.79,
          0.86,
          0.88,
          0.92,
          0.75,
          0.93,
          0.89,
          0.92,
          0.61,
          0.79,
          0.69,
          0.76,
          0.9,
          0.73,
          0.83,
          0.82,
          0.63,
          0.79,
          0.83,
          0.89,
          0.95,
          0.66
         ],
         "xaxis": "x",
         "y": [
          0.85,
          0.93,
          0.84,
          0.9,
          0.57,
          0.94,
          0.69,
          0.91,
          0.78,
          0.88,
          0.72,
          0.97,
          0.96,
          1.05,
          0.9,
          1,
          0.73,
          0.74,
          0.96,
          0.75,
          0.94,
          0.77,
          0.89,
          0.95,
          0.95,
          0.89,
          0.91,
          0.99,
          0.77,
          0.59,
          0.92,
          0.95,
          0.82,
          0.94,
          0.99,
          0.99,
          0.78,
          0.95,
          0.91,
          1.04,
          0.69,
          0.86,
          0.74,
          0.79,
          0.92,
          0.73,
          0.87,
          0.84,
          0.67,
          0.87,
          0.91,
          0.91,
          1,
          0.69
         ],
         "yaxis": "y"
        },
        {
         "hovertemplate": "Setores=Mistura<br>Produtividade=%{x}<br>Eficiência=%{y}<extra></extra>",
         "legendgroup": "Mistura",
         "marker": {
          "color": "#EF553B",
          "symbol": "circle"
         },
         "mode": "markers",
         "name": "Mistura",
         "orientation": "v",
         "showlegend": true,
         "type": "scatter",
         "x": [
          0.74,
          0.59,
          0.65,
          0.85,
          0.84,
          0.9,
          0.63,
          0.82,
          0.79,
          0.94,
          0.84,
          0.68,
          0.84,
          0.8,
          0.85,
          0.91,
          0.89,
          0.57,
          0.91,
          0.85,
          0.92,
          0.96,
          0.9,
          0.94,
          0.85,
          0.91,
          0.7,
          0.86,
          0.84,
          0.93,
          0.8,
          0.66,
          0.93,
          0.93,
          0.74,
          0.6,
          0.79,
          0.66,
          0.69,
          0.85,
          0.79,
          0.86,
          0.7,
          0.81,
          0.73,
          0.6,
          0.69,
          0.93,
          0.6,
          0.68,
          0.69,
          0.81,
          0.8,
          0.84,
          0.71,
          0.8,
          0.8,
          0.69,
          0.72,
          0.74,
          0.77,
          0.94,
          0.93
         ],
         "xaxis": "x",
         "y": [
          0.79,
          0.71,
          0.69,
          0.87,
          0.96,
          0.9,
          0.65,
          0.88,
          0.84,
          1.01,
          0.93,
          0.73,
          0.97,
          0.82,
          0.88,
          0.95,
          0.95,
          0.68,
          0.91,
          0.93,
          0.97,
          0.98,
          0.9,
          1.01,
          0.88,
          0.95,
          0.77,
          0.91,
          0.88,
          0.96,
          0.85,
          0.67,
          0.98,
          0.96,
          0.79,
          0.72,
          0.83,
          0.74,
          0.76,
          0.9,
          0.86,
          0.93,
          0.74,
          0.84,
          0.74,
          0.62,
          0.7,
          0.93,
          0.61,
          0.69,
          0.75,
          0.92,
          0.89,
          0.91,
          0.78,
          0.83,
          0.84,
          0.77,
          0.77,
          0.79,
          0.87,
          1,
          1
         ],
         "yaxis": "y"
        },
        {
         "hovertemplate": "Setores=Modelagem<br>Produtividade=%{x}<br>Eficiência=%{y}<extra></extra>",
         "legendgroup": "Modelagem",
         "marker": {
          "color": "#00cc96",
          "symbol": "circle"
         },
         "mode": "markers",
         "name": "Modelagem",
         "orientation": "v",
         "showlegend": true,
         "type": "scatter",
         "x": [
          0.63,
          0.84,
          0.72,
          0.92,
          0.68,
          0.73,
          0.83,
          0.64,
          0.69,
          0.63,
          0.53,
          0.74,
          0.69,
          0.85,
          0.86,
          0.9,
          0.79,
          0.91,
          0.74,
          0.65,
          0.73,
          0.8,
          0.93,
          0.63,
          0.94,
          0.97,
          0.8,
          0.63,
          0.84,
          0.73,
          0.9,
          0.88,
          0.79,
          0.8,
          0.65,
          0.86,
          0.8,
          0.77,
          1.02,
          0.82,
          0.82,
          0.67,
          0.83,
          0.72,
          0.79,
          0.77,
          0.68,
          0.57,
          0.78,
          0.67,
          0.88,
          0.85,
          0.87,
          0.64,
          0.88,
          0.64,
          0.84,
          0.84,
          0.64,
          0.64
         ],
         "xaxis": "x",
         "y": [
          0.67,
          0.92,
          0.74,
          0.97,
          0.7,
          0.75,
          0.89,
          0.69,
          0.71,
          0.71,
          0.77,
          0.8,
          0.82,
          0.93,
          0.95,
          0.95,
          0.87,
          0.94,
          0.87,
          0.7,
          0.82,
          0.84,
          0.95,
          0.71,
          0.96,
          1.05,
          0.91,
          0.78,
          0.97,
          0.82,
          0.9,
          0.99,
          0.97,
          0.83,
          0.69,
          0.94,
          0.92,
          0.93,
          1.11,
          0.88,
          0.96,
          0.71,
          0.93,
          0.75,
          0.79,
          0.82,
          0.72,
          0.65,
          0.83,
          0.75,
          0.9,
          0.92,
          0.94,
          0.71,
          0.93,
          0.68,
          0.93,
          0.89,
          0.7,
          0.66
         ],
         "yaxis": "y"
        },
        {
         "hovertemplate": "Setores=Prensagem<br>Produtividade=%{x}<br>Eficiência=%{y}<extra></extra>",
         "legendgroup": "Prensagem",
         "marker": {
          "color": "#ab63fa",
          "symbol": "circle"
         },
         "mode": "markers",
         "name": "Prensagem",
         "orientation": "v",
         "showlegend": true,
         "type": "scatter",
         "x": [
          0.92,
          0.91,
          0.9,
          0.87,
          0.66,
          0.8,
          0.93,
          0.84,
          0.86,
          0.79,
          0.89,
          0.92,
          0.89,
          0.91,
          0.72,
          0.8,
          0.93,
          0.93,
          0.67,
          0.88,
          0.81,
          0.73,
          0.86,
          0.55,
          0.63,
          0.68,
          0.87,
          0.94,
          0.84,
          0.61,
          0.74,
          0.86,
          0.8,
          0.84,
          0.57,
          0.91,
          0.67,
          0.91,
          0.84,
          0.89,
          0.84,
          0.81,
          0.78,
          0.78,
          0.88,
          0.92,
          0.94,
          0.94,
          0.77,
          0.75,
          0.82,
          0.74,
          0.67,
          0.67,
          0.78,
          0.87,
          0.86,
          0.65,
          0.75,
          0.63,
          0.88,
          0.78,
          0.65,
          0.72,
          0.75,
          0.87,
          0.66
         ],
         "xaxis": "x",
         "y": [
          0.95,
          0.95,
          0.96,
          0.95,
          0.73,
          0.84,
          0.95,
          0.95,
          0.87,
          0.89,
          0.91,
          0.99,
          1,
          0.96,
          0.83,
          0.89,
          0.96,
          0.97,
          0.73,
          0.94,
          0.92,
          0.76,
          0.89,
          0.57,
          0.65,
          0.72,
          0.9,
          1.01,
          0.93,
          0.64,
          0.8,
          0.89,
          0.94,
          0.96,
          0.62,
          0.94,
          0.69,
          0.94,
          0.87,
          0.95,
          0.89,
          0.91,
          0.82,
          0.82,
          0.96,
          1.02,
          0.99,
          1.01,
          0.83,
          0.76,
          0.86,
          0.8,
          0.74,
          0.68,
          0.89,
          0.88,
          0.89,
          0.72,
          0.81,
          0.64,
          0.91,
          0.88,
          0.73,
          0.73,
          0.86,
          0.89,
          0.68
         ],
         "yaxis": "y"
        },
        {
         "hovertemplate": "Setores=Retífica<br>Produtividade=%{x}<br>Eficiência=%{y}<extra></extra>",
         "legendgroup": "Retífica",
         "marker": {
          "color": "#FFA15A",
          "symbol": "circle"
         },
         "mode": "markers",
         "name": "Retífica",
         "orientation": "v",
         "showlegend": true,
         "type": "scatter",
         "x": [
          0.62,
          0.81,
          0.62,
          0.6,
          0.89,
          0.7,
          0.66,
          0.92,
          0.86,
          0.61,
          0.91,
          0.85,
          0.91,
          0.68,
          0.86,
          0.98,
          0.8,
          0.91,
          0.89,
          0.99,
          0.83,
          0.8,
          0.8,
          0.89,
          0.63,
          0.53,
          0.68,
          0.89,
          0.98,
          0.84,
          0.87,
          0.91,
          0.63,
          0.9,
          0.78,
          0.87,
          0.77,
          0.78,
          0.76,
          0.92,
          0.71,
          0.92,
          0.64,
          0.72,
          0.92,
          0.69,
          0.64,
          0.86,
          0.73,
          0.64,
          0.85,
          0.78,
          0.94,
          0.89
         ],
         "xaxis": "x",
         "y": [
          0.69,
          0.87,
          0.65,
          0.65,
          0.95,
          0.77,
          0.69,
          0.97,
          0.91,
          0.64,
          0.95,
          0.95,
          0.91,
          0.72,
          0.96,
          1.05,
          0.83,
          0.93,
          0.97,
          1.01,
          0.89,
          0.91,
          0.89,
          0.95,
          0.71,
          0.77,
          0.73,
          1,
          1,
          0.9,
          0.94,
          0.95,
          0.71,
          0.97,
          0.81,
          0.91,
          0.8,
          0.82,
          0.82,
          1.02,
          0.81,
          0.96,
          0.65,
          0.78,
          1.03,
          0.73,
          0.68,
          0.88,
          0.78,
          0.68,
          0.95,
          0.85,
          1.06,
          0.89
         ],
         "yaxis": "y"
        }
       ],
       "layout": {
        "legend": {
         "title": {
          "text": "Setores"
         },
         "tracegroupgap": 0
        },
        "margin": {
         "t": 60
        },
        "template": {
         "data": {
          "bar": [
           {
            "error_x": {
             "color": "#2a3f5f"
            },
            "error_y": {
             "color": "#2a3f5f"
            },
            "marker": {
             "line": {
              "color": "#E5ECF6",
              "width": 0.5
             },
             "pattern": {
              "fillmode": "overlay",
              "size": 10,
              "solidity": 0.2
             }
            },
            "type": "bar"
           }
          ],
          "barpolar": [
           {
            "marker": {
             "line": {
              "color": "#E5ECF6",
              "width": 0.5
             },
             "pattern": {
              "fillmode": "overlay",
              "size": 10,
              "solidity": 0.2
             }
            },
            "type": "barpolar"
           }
          ],
          "carpet": [
           {
            "aaxis": {
             "endlinecolor": "#2a3f5f",
             "gridcolor": "white",
             "linecolor": "white",
             "minorgridcolor": "white",
             "startlinecolor": "#2a3f5f"
            },
            "baxis": {
             "endlinecolor": "#2a3f5f",
             "gridcolor": "white",
             "linecolor": "white",
             "minorgridcolor": "white",
             "startlinecolor": "#2a3f5f"
            },
            "type": "carpet"
           }
          ],
          "choropleth": [
           {
            "colorbar": {
             "outlinewidth": 0,
             "ticks": ""
            },
            "type": "choropleth"
           }
          ],
          "contour": [
           {
            "colorbar": {
             "outlinewidth": 0,
             "ticks": ""
            },
            "colorscale": [
             [
              0,
              "#0d0887"
             ],
             [
              0.1111111111111111,
              "#46039f"
             ],
             [
              0.2222222222222222,
              "#7201a8"
             ],
             [
              0.3333333333333333,
              "#9c179e"
             ],
             [
              0.4444444444444444,
              "#bd3786"
             ],
             [
              0.5555555555555556,
              "#d8576b"
             ],
             [
              0.6666666666666666,
              "#ed7953"
             ],
             [
              0.7777777777777778,
              "#fb9f3a"
             ],
             [
              0.8888888888888888,
              "#fdca26"
             ],
             [
              1,
              "#f0f921"
             ]
            ],
            "type": "contour"
           }
          ],
          "contourcarpet": [
           {
            "colorbar": {
             "outlinewidth": 0,
             "ticks": ""
            },
            "type": "contourcarpet"
           }
          ],
          "heatmap": [
           {
            "colorbar": {
             "outlinewidth": 0,
             "ticks": ""
            },
            "colorscale": [
             [
              0,
              "#0d0887"
             ],
             [
              0.1111111111111111,
              "#46039f"
             ],
             [
              0.2222222222222222,
              "#7201a8"
             ],
             [
              0.3333333333333333,
              "#9c179e"
             ],
             [
              0.4444444444444444,
              "#bd3786"
             ],
             [
              0.5555555555555556,
              "#d8576b"
             ],
             [
              0.6666666666666666,
              "#ed7953"
             ],
             [
              0.7777777777777778,
              "#fb9f3a"
             ],
             [
              0.8888888888888888,
              "#fdca26"
             ],
             [
              1,
              "#f0f921"
             ]
            ],
            "type": "heatmap"
           }
          ],
          "heatmapgl": [
           {
            "colorbar": {
             "outlinewidth": 0,
             "ticks": ""
            },
            "colorscale": [
             [
              0,
              "#0d0887"
             ],
             [
              0.1111111111111111,
              "#46039f"
             ],
             [
              0.2222222222222222,
              "#7201a8"
             ],
             [
              0.3333333333333333,
              "#9c179e"
             ],
             [
              0.4444444444444444,
              "#bd3786"
             ],
             [
              0.5555555555555556,
              "#d8576b"
             ],
             [
              0.6666666666666666,
              "#ed7953"
             ],
             [
              0.7777777777777778,
              "#fb9f3a"
             ],
             [
              0.8888888888888888,
              "#fdca26"
             ],
             [
              1,
              "#f0f921"
             ]
            ],
            "type": "heatmapgl"
           }
          ],
          "histogram": [
           {
            "marker": {
             "pattern": {
              "fillmode": "overlay",
              "size": 10,
              "solidity": 0.2
             }
            },
            "type": "histogram"
           }
          ],
          "histogram2d": [
           {
            "colorbar": {
             "outlinewidth": 0,
             "ticks": ""
            },
            "colorscale": [
             [
              0,
              "#0d0887"
             ],
             [
              0.1111111111111111,
              "#46039f"
             ],
             [
              0.2222222222222222,
              "#7201a8"
             ],
             [
              0.3333333333333333,
              "#9c179e"
             ],
             [
              0.4444444444444444,
              "#bd3786"
             ],
             [
              0.5555555555555556,
              "#d8576b"
             ],
             [
              0.6666666666666666,
              "#ed7953"
             ],
             [
              0.7777777777777778,
              "#fb9f3a"
             ],
             [
              0.8888888888888888,
              "#fdca26"
             ],
             [
              1,
              "#f0f921"
             ]
            ],
            "type": "histogram2d"
           }
          ],
          "histogram2dcontour": [
           {
            "colorbar": {
             "outlinewidth": 0,
             "ticks": ""
            },
            "colorscale": [
             [
              0,
              "#0d0887"
             ],
             [
              0.1111111111111111,
              "#46039f"
             ],
             [
              0.2222222222222222,
              "#7201a8"
             ],
             [
              0.3333333333333333,
              "#9c179e"
             ],
             [
              0.4444444444444444,
              "#bd3786"
             ],
             [
              0.5555555555555556,
              "#d8576b"
             ],
             [
              0.6666666666666666,
              "#ed7953"
             ],
             [
              0.7777777777777778,
              "#fb9f3a"
             ],
             [
              0.8888888888888888,
              "#fdca26"
             ],
             [
              1,
              "#f0f921"
             ]
            ],
            "type": "histogram2dcontour"
           }
          ],
          "mesh3d": [
           {
            "colorbar": {
             "outlinewidth": 0,
             "ticks": ""
            },
            "type": "mesh3d"
           }
          ],
          "parcoords": [
           {
            "line": {
             "colorbar": {
              "outlinewidth": 0,
              "ticks": ""
             }
            },
            "type": "parcoords"
           }
          ],
          "pie": [
           {
            "automargin": true,
            "type": "pie"
           }
          ],
          "scatter": [
           {
            "marker": {
             "colorbar": {
              "outlinewidth": 0,
              "ticks": ""
             }
            },
            "type": "scatter"
           }
          ],
          "scatter3d": [
           {
            "line": {
             "colorbar": {
              "outlinewidth": 0,
              "ticks": ""
             }
            },
            "marker": {
             "colorbar": {
              "outlinewidth": 0,
              "ticks": ""
             }
            },
            "type": "scatter3d"
           }
          ],
          "scattercarpet": [
           {
            "marker": {
             "colorbar": {
              "outlinewidth": 0,
              "ticks": ""
             }
            },
            "type": "scattercarpet"
           }
          ],
          "scattergeo": [
           {
            "marker": {
             "colorbar": {
              "outlinewidth": 0,
              "ticks": ""
             }
            },
            "type": "scattergeo"
           }
          ],
          "scattergl": [
           {
            "marker": {
             "colorbar": {
              "outlinewidth": 0,
              "ticks": ""
             }
            },
            "type": "scattergl"
           }
          ],
          "scattermapbox": [
           {
            "marker": {
             "colorbar": {
              "outlinewidth": 0,
              "ticks": ""
             }
            },
            "type": "scattermapbox"
           }
          ],
          "scatterpolar": [
           {
            "marker": {
             "colorbar": {
              "outlinewidth": 0,
              "ticks": ""
             }
            },
            "type": "scatterpolar"
           }
          ],
          "scatterpolargl": [
           {
            "marker": {
             "colorbar": {
              "outlinewidth": 0,
              "ticks": ""
             }
            },
            "type": "scatterpolargl"
           }
          ],
          "scatterternary": [
           {
            "marker": {
             "colorbar": {
              "outlinewidth": 0,
              "ticks": ""
             }
            },
            "type": "scatterternary"
           }
          ],
          "surface": [
           {
            "colorbar": {
             "outlinewidth": 0,
             "ticks": ""
            },
            "colorscale": [
             [
              0,
              "#0d0887"
             ],
             [
              0.1111111111111111,
              "#46039f"
             ],
             [
              0.2222222222222222,
              "#7201a8"
             ],
             [
              0.3333333333333333,
              "#9c179e"
             ],
             [
              0.4444444444444444,
              "#bd3786"
             ],
             [
              0.5555555555555556,
              "#d8576b"
             ],
             [
              0.6666666666666666,
              "#ed7953"
             ],
             [
              0.7777777777777778,
              "#fb9f3a"
             ],
             [
              0.8888888888888888,
              "#fdca26"
             ],
             [
              1,
              "#f0f921"
             ]
            ],
            "type": "surface"
           }
          ],
          "table": [
           {
            "cells": {
             "fill": {
              "color": "#EBF0F8"
             },
             "line": {
              "color": "white"
             }
            },
            "header": {
             "fill": {
              "color": "#C8D4E3"
             },
             "line": {
              "color": "white"
             }
            },
            "type": "table"
           }
          ]
         },
         "layout": {
          "annotationdefaults": {
           "arrowcolor": "#2a3f5f",
           "arrowhead": 0,
           "arrowwidth": 1
          },
          "autotypenumbers": "strict",
          "coloraxis": {
           "colorbar": {
            "outlinewidth": 0,
            "ticks": ""
           }
          },
          "colorscale": {
           "diverging": [
            [
             0,
             "#8e0152"
            ],
            [
             0.1,
             "#c51b7d"
            ],
            [
             0.2,
             "#de77ae"
            ],
            [
             0.3,
             "#f1b6da"
            ],
            [
             0.4,
             "#fde0ef"
            ],
            [
             0.5,
             "#f7f7f7"
            ],
            [
             0.6,
             "#e6f5d0"
            ],
            [
             0.7,
             "#b8e186"
            ],
            [
             0.8,
             "#7fbc41"
            ],
            [
             0.9,
             "#4d9221"
            ],
            [
             1,
             "#276419"
            ]
           ],
           "sequential": [
            [
             0,
             "#0d0887"
            ],
            [
             0.1111111111111111,
             "#46039f"
            ],
            [
             0.2222222222222222,
             "#7201a8"
            ],
            [
             0.3333333333333333,
             "#9c179e"
            ],
            [
             0.4444444444444444,
             "#bd3786"
            ],
            [
             0.5555555555555556,
             "#d8576b"
            ],
            [
             0.6666666666666666,
             "#ed7953"
            ],
            [
             0.7777777777777778,
             "#fb9f3a"
            ],
            [
             0.8888888888888888,
             "#fdca26"
            ],
            [
             1,
             "#f0f921"
            ]
           ],
           "sequentialminus": [
            [
             0,
             "#0d0887"
            ],
            [
             0.1111111111111111,
             "#46039f"
            ],
            [
             0.2222222222222222,
             "#7201a8"
            ],
            [
             0.3333333333333333,
             "#9c179e"
            ],
            [
             0.4444444444444444,
             "#bd3786"
            ],
            [
             0.5555555555555556,
             "#d8576b"
            ],
            [
             0.6666666666666666,
             "#ed7953"
            ],
            [
             0.7777777777777778,
             "#fb9f3a"
            ],
            [
             0.8888888888888888,
             "#fdca26"
            ],
            [
             1,
             "#f0f921"
            ]
           ]
          },
          "colorway": [
           "#636efa",
           "#EF553B",
           "#00cc96",
           "#ab63fa",
           "#FFA15A",
           "#19d3f3",
           "#FF6692",
           "#B6E880",
           "#FF97FF",
           "#FECB52"
          ],
          "font": {
           "color": "#2a3f5f"
          },
          "geo": {
           "bgcolor": "white",
           "lakecolor": "white",
           "landcolor": "#E5ECF6",
           "showlakes": true,
           "showland": true,
           "subunitcolor": "white"
          },
          "hoverlabel": {
           "align": "left"
          },
          "hovermode": "closest",
          "mapbox": {
           "style": "light"
          },
          "paper_bgcolor": "white",
          "plot_bgcolor": "#E5ECF6",
          "polar": {
           "angularaxis": {
            "gridcolor": "white",
            "linecolor": "white",
            "ticks": ""
           },
           "bgcolor": "#E5ECF6",
           "radialaxis": {
            "gridcolor": "white",
            "linecolor": "white",
            "ticks": ""
           }
          },
          "scene": {
           "xaxis": {
            "backgroundcolor": "#E5ECF6",
            "gridcolor": "white",
            "gridwidth": 2,
            "linecolor": "white",
            "showbackground": true,
            "ticks": "",
            "zerolinecolor": "white"
           },
           "yaxis": {
            "backgroundcolor": "#E5ECF6",
            "gridcolor": "white",
            "gridwidth": 2,
            "linecolor": "white",
            "showbackground": true,
            "ticks": "",
            "zerolinecolor": "white"
           },
           "zaxis": {
            "backgroundcolor": "#E5ECF6",
            "gridcolor": "white",
            "gridwidth": 2,
            "linecolor": "white",
            "showbackground": true,
            "ticks": "",
            "zerolinecolor": "white"
           }
          },
          "shapedefaults": {
           "line": {
            "color": "#2a3f5f"
           }
          },
          "ternary": {
           "aaxis": {
            "gridcolor": "white",
            "linecolor": "white",
            "ticks": ""
           },
           "baxis": {
            "gridcolor": "white",
            "linecolor": "white",
            "ticks": ""
           },
           "bgcolor": "#E5ECF6",
           "caxis": {
            "gridcolor": "white",
            "linecolor": "white",
            "ticks": ""
           }
          },
          "title": {
           "x": 0.05
          },
          "xaxis": {
           "automargin": true,
           "gridcolor": "white",
           "linecolor": "white",
           "ticks": "",
           "title": {
            "standoff": 15
           },
           "zerolinecolor": "white",
           "zerolinewidth": 2
          },
          "yaxis": {
           "automargin": true,
           "gridcolor": "white",
           "linecolor": "white",
           "ticks": "",
           "title": {
            "standoff": 15
           },
           "zerolinecolor": "white",
           "zerolinewidth": 2
          }
         }
        },
        "xaxis": {
         "anchor": "y",
         "domain": [
          0,
          1
         ],
         "title": {
          "text": "Produtividade"
         }
        },
        "yaxis": {
         "anchor": "x",
         "domain": [
          0,
          1
         ],
         "title": {
          "text": "Eficiência"
         }
        }
       }
      },
      "text/html": [
       "<div>                            <div id=\"f60b973f-a861-4009-8419-c4a00c5b150c\" class=\"plotly-graph-div\" style=\"height:525px; width:100%;\"></div>            <script type=\"text/javascript\">                require([\"plotly\"], function(Plotly) {                    window.PLOTLYENV=window.PLOTLYENV || {};                                    if (document.getElementById(\"f60b973f-a861-4009-8419-c4a00c5b150c\")) {                    Plotly.newPlot(                        \"f60b973f-a861-4009-8419-c4a00c5b150c\",                        [{\"hovertemplate\":\"Setores=Extrus\\u00e3o<br>Produtividade=%{x}<br>Efici\\u00eancia=%{y}<extra></extra>\",\"legendgroup\":\"Extrus\\u00e3o\",\"marker\":{\"color\":\"#636efa\",\"symbol\":\"circle\"},\"mode\":\"markers\",\"name\":\"Extrus\\u00e3o\",\"orientation\":\"v\",\"showlegend\":true,\"x\":[0.81,0.85,0.81,0.81,0.55,0.79,0.61,0.8,0.63,0.84,0.67,0.92,0.94,0.97,0.87,0.91,0.69,0.72,0.85,0.62,0.79,0.7,0.79,0.86,0.9,0.79,0.89,0.92,0.63,0.56,0.86,0.84,0.79,0.86,0.88,0.92,0.75,0.93,0.89,0.92,0.61,0.79,0.69,0.76,0.9,0.73,0.83,0.82,0.63,0.79,0.83,0.89,0.95,0.66],\"xaxis\":\"x\",\"y\":[0.85,0.93,0.84,0.9,0.57,0.94,0.69,0.91,0.78,0.88,0.72,0.97,0.96,1.05,0.9,1.0,0.73,0.74,0.96,0.75,0.94,0.77,0.89,0.95,0.95,0.89,0.91,0.99,0.77,0.59,0.92,0.95,0.82,0.94,0.99,0.99,0.78,0.95,0.91,1.04,0.69,0.86,0.74,0.79,0.92,0.73,0.87,0.84,0.67,0.87,0.91,0.91,1.0,0.69],\"yaxis\":\"y\",\"type\":\"scatter\"},{\"hovertemplate\":\"Setores=Mistura<br>Produtividade=%{x}<br>Efici\\u00eancia=%{y}<extra></extra>\",\"legendgroup\":\"Mistura\",\"marker\":{\"color\":\"#EF553B\",\"symbol\":\"circle\"},\"mode\":\"markers\",\"name\":\"Mistura\",\"orientation\":\"v\",\"showlegend\":true,\"x\":[0.74,0.59,0.65,0.85,0.84,0.9,0.63,0.82,0.79,0.94,0.84,0.68,0.84,0.8,0.85,0.91,0.89,0.57,0.91,0.85,0.92,0.96,0.9,0.94,0.85,0.91,0.7,0.86,0.84,0.93,0.8,0.66,0.93,0.93,0.74,0.6,0.79,0.66,0.69,0.85,0.79,0.86,0.7,0.81,0.73,0.6,0.69,0.93,0.6,0.68,0.69,0.81,0.8,0.84,0.71,0.8,0.8,0.69,0.72,0.74,0.77,0.94,0.93],\"xaxis\":\"x\",\"y\":[0.79,0.71,0.69,0.87,0.96,0.9,0.65,0.88,0.84,1.01,0.93,0.73,0.97,0.82,0.88,0.95,0.95,0.68,0.91,0.93,0.97,0.98,0.9,1.01,0.88,0.95,0.77,0.91,0.88,0.96,0.85,0.67,0.98,0.96,0.79,0.72,0.83,0.74,0.76,0.9,0.86,0.93,0.74,0.84,0.74,0.62,0.7,0.93,0.61,0.69,0.75,0.92,0.89,0.91,0.78,0.83,0.84,0.77,0.77,0.79,0.87,1.0,1.0],\"yaxis\":\"y\",\"type\":\"scatter\"},{\"hovertemplate\":\"Setores=Modelagem<br>Produtividade=%{x}<br>Efici\\u00eancia=%{y}<extra></extra>\",\"legendgroup\":\"Modelagem\",\"marker\":{\"color\":\"#00cc96\",\"symbol\":\"circle\"},\"mode\":\"markers\",\"name\":\"Modelagem\",\"orientation\":\"v\",\"showlegend\":true,\"x\":[0.63,0.84,0.72,0.92,0.68,0.73,0.83,0.64,0.69,0.63,0.53,0.74,0.69,0.85,0.86,0.9,0.79,0.91,0.74,0.65,0.73,0.8,0.93,0.63,0.94,0.97,0.8,0.63,0.84,0.73,0.9,0.88,0.79,0.8,0.65,0.86,0.8,0.77,1.02,0.82,0.82,0.67,0.83,0.72,0.79,0.77,0.68,0.57,0.78,0.67,0.88,0.85,0.87,0.64,0.88,0.64,0.84,0.84,0.64,0.64],\"xaxis\":\"x\",\"y\":[0.67,0.92,0.74,0.97,0.7,0.75,0.89,0.69,0.71,0.71,0.77,0.8,0.82,0.93,0.95,0.95,0.87,0.94,0.87,0.7,0.82,0.84,0.95,0.71,0.96,1.05,0.91,0.78,0.97,0.82,0.9,0.99,0.97,0.83,0.69,0.94,0.92,0.93,1.11,0.88,0.96,0.71,0.93,0.75,0.79,0.82,0.72,0.65,0.83,0.75,0.9,0.92,0.94,0.71,0.93,0.68,0.93,0.89,0.7,0.66],\"yaxis\":\"y\",\"type\":\"scatter\"},{\"hovertemplate\":\"Setores=Prensagem<br>Produtividade=%{x}<br>Efici\\u00eancia=%{y}<extra></extra>\",\"legendgroup\":\"Prensagem\",\"marker\":{\"color\":\"#ab63fa\",\"symbol\":\"circle\"},\"mode\":\"markers\",\"name\":\"Prensagem\",\"orientation\":\"v\",\"showlegend\":true,\"x\":[0.92,0.91,0.9,0.87,0.66,0.8,0.93,0.84,0.86,0.79,0.89,0.92,0.89,0.91,0.72,0.8,0.93,0.93,0.67,0.88,0.81,0.73,0.86,0.55,0.63,0.68,0.87,0.94,0.84,0.61,0.74,0.86,0.8,0.84,0.57,0.91,0.67,0.91,0.84,0.89,0.84,0.81,0.78,0.78,0.88,0.92,0.94,0.94,0.77,0.75,0.82,0.74,0.67,0.67,0.78,0.87,0.86,0.65,0.75,0.63,0.88,0.78,0.65,0.72,0.75,0.87,0.66],\"xaxis\":\"x\",\"y\":[0.95,0.95,0.96,0.95,0.73,0.84,0.95,0.95,0.87,0.89,0.91,0.99,1.0,0.96,0.83,0.89,0.96,0.97,0.73,0.94,0.92,0.76,0.89,0.57,0.65,0.72,0.9,1.01,0.93,0.64,0.8,0.89,0.94,0.96,0.62,0.94,0.69,0.94,0.87,0.95,0.89,0.91,0.82,0.82,0.96,1.02,0.99,1.01,0.83,0.76,0.86,0.8,0.74,0.68,0.89,0.88,0.89,0.72,0.81,0.64,0.91,0.88,0.73,0.73,0.86,0.89,0.68],\"yaxis\":\"y\",\"type\":\"scatter\"},{\"hovertemplate\":\"Setores=Ret\\u00edfica<br>Produtividade=%{x}<br>Efici\\u00eancia=%{y}<extra></extra>\",\"legendgroup\":\"Ret\\u00edfica\",\"marker\":{\"color\":\"#FFA15A\",\"symbol\":\"circle\"},\"mode\":\"markers\",\"name\":\"Ret\\u00edfica\",\"orientation\":\"v\",\"showlegend\":true,\"x\":[0.62,0.81,0.62,0.6,0.89,0.7,0.66,0.92,0.86,0.61,0.91,0.85,0.91,0.68,0.86,0.98,0.8,0.91,0.89,0.99,0.83,0.8,0.8,0.89,0.63,0.53,0.68,0.89,0.98,0.84,0.87,0.91,0.63,0.9,0.78,0.87,0.77,0.78,0.76,0.92,0.71,0.92,0.64,0.72,0.92,0.69,0.64,0.86,0.73,0.64,0.85,0.78,0.94,0.89],\"xaxis\":\"x\",\"y\":[0.69,0.87,0.65,0.65,0.95,0.77,0.69,0.97,0.91,0.64,0.95,0.95,0.91,0.72,0.96,1.05,0.83,0.93,0.97,1.01,0.89,0.91,0.89,0.95,0.71,0.77,0.73,1.0,1.0,0.9,0.94,0.95,0.71,0.97,0.81,0.91,0.8,0.82,0.82,1.02,0.81,0.96,0.65,0.78,1.03,0.73,0.68,0.88,0.78,0.68,0.95,0.85,1.06,0.89],\"yaxis\":\"y\",\"type\":\"scatter\"}],                        {\"template\":{\"data\":{\"bar\":[{\"error_x\":{\"color\":\"#2a3f5f\"},\"error_y\":{\"color\":\"#2a3f5f\"},\"marker\":{\"line\":{\"color\":\"#E5ECF6\",\"width\":0.5},\"pattern\":{\"fillmode\":\"overlay\",\"size\":10,\"solidity\":0.2}},\"type\":\"bar\"}],\"barpolar\":[{\"marker\":{\"line\":{\"color\":\"#E5ECF6\",\"width\":0.5},\"pattern\":{\"fillmode\":\"overlay\",\"size\":10,\"solidity\":0.2}},\"type\":\"barpolar\"}],\"carpet\":[{\"aaxis\":{\"endlinecolor\":\"#2a3f5f\",\"gridcolor\":\"white\",\"linecolor\":\"white\",\"minorgridcolor\":\"white\",\"startlinecolor\":\"#2a3f5f\"},\"baxis\":{\"endlinecolor\":\"#2a3f5f\",\"gridcolor\":\"white\",\"linecolor\":\"white\",\"minorgridcolor\":\"white\",\"startlinecolor\":\"#2a3f5f\"},\"type\":\"carpet\"}],\"choropleth\":[{\"colorbar\":{\"outlinewidth\":0,\"ticks\":\"\"},\"type\":\"choropleth\"}],\"contour\":[{\"colorbar\":{\"outlinewidth\":0,\"ticks\":\"\"},\"colorscale\":[[0.0,\"#0d0887\"],[0.1111111111111111,\"#46039f\"],[0.2222222222222222,\"#7201a8\"],[0.3333333333333333,\"#9c179e\"],[0.4444444444444444,\"#bd3786\"],[0.5555555555555556,\"#d8576b\"],[0.6666666666666666,\"#ed7953\"],[0.7777777777777778,\"#fb9f3a\"],[0.8888888888888888,\"#fdca26\"],[1.0,\"#f0f921\"]],\"type\":\"contour\"}],\"contourcarpet\":[{\"colorbar\":{\"outlinewidth\":0,\"ticks\":\"\"},\"type\":\"contourcarpet\"}],\"heatmap\":[{\"colorbar\":{\"outlinewidth\":0,\"ticks\":\"\"},\"colorscale\":[[0.0,\"#0d0887\"],[0.1111111111111111,\"#46039f\"],[0.2222222222222222,\"#7201a8\"],[0.3333333333333333,\"#9c179e\"],[0.4444444444444444,\"#bd3786\"],[0.5555555555555556,\"#d8576b\"],[0.6666666666666666,\"#ed7953\"],[0.7777777777777778,\"#fb9f3a\"],[0.8888888888888888,\"#fdca26\"],[1.0,\"#f0f921\"]],\"type\":\"heatmap\"}],\"heatmapgl\":[{\"colorbar\":{\"outlinewidth\":0,\"ticks\":\"\"},\"colorscale\":[[0.0,\"#0d0887\"],[0.1111111111111111,\"#46039f\"],[0.2222222222222222,\"#7201a8\"],[0.3333333333333333,\"#9c179e\"],[0.4444444444444444,\"#bd3786\"],[0.5555555555555556,\"#d8576b\"],[0.6666666666666666,\"#ed7953\"],[0.7777777777777778,\"#fb9f3a\"],[0.8888888888888888,\"#fdca26\"],[1.0,\"#f0f921\"]],\"type\":\"heatmapgl\"}],\"histogram\":[{\"marker\":{\"pattern\":{\"fillmode\":\"overlay\",\"size\":10,\"solidity\":0.2}},\"type\":\"histogram\"}],\"histogram2d\":[{\"colorbar\":{\"outlinewidth\":0,\"ticks\":\"\"},\"colorscale\":[[0.0,\"#0d0887\"],[0.1111111111111111,\"#46039f\"],[0.2222222222222222,\"#7201a8\"],[0.3333333333333333,\"#9c179e\"],[0.4444444444444444,\"#bd3786\"],[0.5555555555555556,\"#d8576b\"],[0.6666666666666666,\"#ed7953\"],[0.7777777777777778,\"#fb9f3a\"],[0.8888888888888888,\"#fdca26\"],[1.0,\"#f0f921\"]],\"type\":\"histogram2d\"}],\"histogram2dcontour\":[{\"colorbar\":{\"outlinewidth\":0,\"ticks\":\"\"},\"colorscale\":[[0.0,\"#0d0887\"],[0.1111111111111111,\"#46039f\"],[0.2222222222222222,\"#7201a8\"],[0.3333333333333333,\"#9c179e\"],[0.4444444444444444,\"#bd3786\"],[0.5555555555555556,\"#d8576b\"],[0.6666666666666666,\"#ed7953\"],[0.7777777777777778,\"#fb9f3a\"],[0.8888888888888888,\"#fdca26\"],[1.0,\"#f0f921\"]],\"type\":\"histogram2dcontour\"}],\"mesh3d\":[{\"colorbar\":{\"outlinewidth\":0,\"ticks\":\"\"},\"type\":\"mesh3d\"}],\"parcoords\":[{\"line\":{\"colorbar\":{\"outlinewidth\":0,\"ticks\":\"\"}},\"type\":\"parcoords\"}],\"pie\":[{\"automargin\":true,\"type\":\"pie\"}],\"scatter\":[{\"marker\":{\"colorbar\":{\"outlinewidth\":0,\"ticks\":\"\"}},\"type\":\"scatter\"}],\"scatter3d\":[{\"line\":{\"colorbar\":{\"outlinewidth\":0,\"ticks\":\"\"}},\"marker\":{\"colorbar\":{\"outlinewidth\":0,\"ticks\":\"\"}},\"type\":\"scatter3d\"}],\"scattercarpet\":[{\"marker\":{\"colorbar\":{\"outlinewidth\":0,\"ticks\":\"\"}},\"type\":\"scattercarpet\"}],\"scattergeo\":[{\"marker\":{\"colorbar\":{\"outlinewidth\":0,\"ticks\":\"\"}},\"type\":\"scattergeo\"}],\"scattergl\":[{\"marker\":{\"colorbar\":{\"outlinewidth\":0,\"ticks\":\"\"}},\"type\":\"scattergl\"}],\"scattermapbox\":[{\"marker\":{\"colorbar\":{\"outlinewidth\":0,\"ticks\":\"\"}},\"type\":\"scattermapbox\"}],\"scatterpolar\":[{\"marker\":{\"colorbar\":{\"outlinewidth\":0,\"ticks\":\"\"}},\"type\":\"scatterpolar\"}],\"scatterpolargl\":[{\"marker\":{\"colorbar\":{\"outlinewidth\":0,\"ticks\":\"\"}},\"type\":\"scatterpolargl\"}],\"scatterternary\":[{\"marker\":{\"colorbar\":{\"outlinewidth\":0,\"ticks\":\"\"}},\"type\":\"scatterternary\"}],\"surface\":[{\"colorbar\":{\"outlinewidth\":0,\"ticks\":\"\"},\"colorscale\":[[0.0,\"#0d0887\"],[0.1111111111111111,\"#46039f\"],[0.2222222222222222,\"#7201a8\"],[0.3333333333333333,\"#9c179e\"],[0.4444444444444444,\"#bd3786\"],[0.5555555555555556,\"#d8576b\"],[0.6666666666666666,\"#ed7953\"],[0.7777777777777778,\"#fb9f3a\"],[0.8888888888888888,\"#fdca26\"],[1.0,\"#f0f921\"]],\"type\":\"surface\"}],\"table\":[{\"cells\":{\"fill\":{\"color\":\"#EBF0F8\"},\"line\":{\"color\":\"white\"}},\"header\":{\"fill\":{\"color\":\"#C8D4E3\"},\"line\":{\"color\":\"white\"}},\"type\":\"table\"}]},\"layout\":{\"annotationdefaults\":{\"arrowcolor\":\"#2a3f5f\",\"arrowhead\":0,\"arrowwidth\":1},\"autotypenumbers\":\"strict\",\"coloraxis\":{\"colorbar\":{\"outlinewidth\":0,\"ticks\":\"\"}},\"colorscale\":{\"diverging\":[[0,\"#8e0152\"],[0.1,\"#c51b7d\"],[0.2,\"#de77ae\"],[0.3,\"#f1b6da\"],[0.4,\"#fde0ef\"],[0.5,\"#f7f7f7\"],[0.6,\"#e6f5d0\"],[0.7,\"#b8e186\"],[0.8,\"#7fbc41\"],[0.9,\"#4d9221\"],[1,\"#276419\"]],\"sequential\":[[0.0,\"#0d0887\"],[0.1111111111111111,\"#46039f\"],[0.2222222222222222,\"#7201a8\"],[0.3333333333333333,\"#9c179e\"],[0.4444444444444444,\"#bd3786\"],[0.5555555555555556,\"#d8576b\"],[0.6666666666666666,\"#ed7953\"],[0.7777777777777778,\"#fb9f3a\"],[0.8888888888888888,\"#fdca26\"],[1.0,\"#f0f921\"]],\"sequentialminus\":[[0.0,\"#0d0887\"],[0.1111111111111111,\"#46039f\"],[0.2222222222222222,\"#7201a8\"],[0.3333333333333333,\"#9c179e\"],[0.4444444444444444,\"#bd3786\"],[0.5555555555555556,\"#d8576b\"],[0.6666666666666666,\"#ed7953\"],[0.7777777777777778,\"#fb9f3a\"],[0.8888888888888888,\"#fdca26\"],[1.0,\"#f0f921\"]]},\"colorway\":[\"#636efa\",\"#EF553B\",\"#00cc96\",\"#ab63fa\",\"#FFA15A\",\"#19d3f3\",\"#FF6692\",\"#B6E880\",\"#FF97FF\",\"#FECB52\"],\"font\":{\"color\":\"#2a3f5f\"},\"geo\":{\"bgcolor\":\"white\",\"lakecolor\":\"white\",\"landcolor\":\"#E5ECF6\",\"showlakes\":true,\"showland\":true,\"subunitcolor\":\"white\"},\"hoverlabel\":{\"align\":\"left\"},\"hovermode\":\"closest\",\"mapbox\":{\"style\":\"light\"},\"paper_bgcolor\":\"white\",\"plot_bgcolor\":\"#E5ECF6\",\"polar\":{\"angularaxis\":{\"gridcolor\":\"white\",\"linecolor\":\"white\",\"ticks\":\"\"},\"bgcolor\":\"#E5ECF6\",\"radialaxis\":{\"gridcolor\":\"white\",\"linecolor\":\"white\",\"ticks\":\"\"}},\"scene\":{\"xaxis\":{\"backgroundcolor\":\"#E5ECF6\",\"gridcolor\":\"white\",\"gridwidth\":2,\"linecolor\":\"white\",\"showbackground\":true,\"ticks\":\"\",\"zerolinecolor\":\"white\"},\"yaxis\":{\"backgroundcolor\":\"#E5ECF6\",\"gridcolor\":\"white\",\"gridwidth\":2,\"linecolor\":\"white\",\"showbackground\":true,\"ticks\":\"\",\"zerolinecolor\":\"white\"},\"zaxis\":{\"backgroundcolor\":\"#E5ECF6\",\"gridcolor\":\"white\",\"gridwidth\":2,\"linecolor\":\"white\",\"showbackground\":true,\"ticks\":\"\",\"zerolinecolor\":\"white\"}},\"shapedefaults\":{\"line\":{\"color\":\"#2a3f5f\"}},\"ternary\":{\"aaxis\":{\"gridcolor\":\"white\",\"linecolor\":\"white\",\"ticks\":\"\"},\"baxis\":{\"gridcolor\":\"white\",\"linecolor\":\"white\",\"ticks\":\"\"},\"bgcolor\":\"#E5ECF6\",\"caxis\":{\"gridcolor\":\"white\",\"linecolor\":\"white\",\"ticks\":\"\"}},\"title\":{\"x\":0.05},\"xaxis\":{\"automargin\":true,\"gridcolor\":\"white\",\"linecolor\":\"white\",\"ticks\":\"\",\"title\":{\"standoff\":15},\"zerolinecolor\":\"white\",\"zerolinewidth\":2},\"yaxis\":{\"automargin\":true,\"gridcolor\":\"white\",\"linecolor\":\"white\",\"ticks\":\"\",\"title\":{\"standoff\":15},\"zerolinecolor\":\"white\",\"zerolinewidth\":2}}},\"xaxis\":{\"anchor\":\"y\",\"domain\":[0.0,1.0],\"title\":{\"text\":\"Produtividade\"}},\"yaxis\":{\"anchor\":\"x\",\"domain\":[0.0,1.0],\"title\":{\"text\":\"Efici\\u00eancia\"}},\"legend\":{\"title\":{\"text\":\"Setores\"},\"tracegroupgap\":0},\"margin\":{\"t\":60}},                        {\"responsive\": true}                    ).then(function(){\n",
       "                            \n",
       "var gd = document.getElementById('f60b973f-a861-4009-8419-c4a00c5b150c');\n",
       "var x = new MutationObserver(function (mutations, observer) {{\n",
       "        var display = window.getComputedStyle(gd).display;\n",
       "        if (!display || display === 'none') {{\n",
       "            console.log([gd, 'removed!']);\n",
       "            Plotly.purge(gd);\n",
       "            observer.disconnect();\n",
       "        }}\n",
       "}});\n",
       "\n",
       "// Listen for the removal of the full notebook cells\n",
       "var notebookContainer = gd.closest('#notebook-container');\n",
       "if (notebookContainer) {{\n",
       "    x.observe(notebookContainer, {childList: true});\n",
       "}}\n",
       "\n",
       "// Listen for the clearing of the current output cell\n",
       "var outputEl = gd.closest('.output');\n",
       "if (outputEl) {{\n",
       "    x.observe(outputEl, {childList: true});\n",
       "}}\n",
       "\n",
       "                        })                };                });            </script>        </div>"
      ]
     },
     "metadata": {},
     "output_type": "display_data"
    }
   ],
   "source": [
    "data = Dim_Pessoa_Plano\n",
    "\n",
    "fig = px.scatter(data, x=\"Produtividade\", y=\"Eficiência\", color=\"Setores\")\n",
    "fig.show()"
   ]
  },
  {
   "cell_type": "markdown",
   "id": "d027abc1",
   "metadata": {},
   "source": [
    "## Qualidade e Desempenho por Setores"
   ]
  },
  {
   "cell_type": "code",
   "execution_count": 701,
   "id": "388ddf48",
   "metadata": {},
   "outputs": [
    {
     "data": {
      "application/vnd.plotly.v1+json": {
       "config": {
        "plotlyServerURL": "https://plot.ly"
       },
       "data": [
        {
         "hovertemplate": "Setores=Extrusão<br>Qualidade=%{x}<br>Desempenho=%{y}<extra></extra>",
         "legendgroup": "Extrusão",
         "marker": {
          "color": "#636efa",
          "symbol": "circle"
         },
         "mode": "markers",
         "name": "Extrusão",
         "orientation": "v",
         "showlegend": true,
         "type": "scatter",
         "x": [
          0.96,
          0.95,
          0.96,
          0.92,
          0.91,
          0.97,
          0.97,
          0.99,
          0.96,
          0.98,
          0.84,
          1,
          0.99,
          1,
          0.99,
          0.99,
          0.92,
          0.99,
          0.97,
          0.92,
          0.97,
          0.99,
          0.97,
          0.98,
          0.99,
          0.97,
          0.98,
          0.99,
          0.92,
          0.91,
          0.98,
          1,
          0.96,
          0.89,
          0.97,
          0.98,
          0.97,
          1,
          0.97,
          0.95,
          0.92,
          0.97,
          0.96,
          0.98,
          0.97,
          0.99,
          0.96,
          0.98,
          0.96,
          0.99,
          0.98,
          1,
          0.95,
          0.93
         ],
         "xaxis": "x",
         "y": [
          0.84,
          0.9,
          0.85,
          0.89,
          0.6,
          0.82,
          0.63,
          0.8,
          0.66,
          0.86,
          0.8,
          0.93,
          0.95,
          0.97,
          0.87,
          0.92,
          0.74,
          0.73,
          0.87,
          0.67,
          0.82,
          0.71,
          0.82,
          0.88,
          0.91,
          0.82,
          0.91,
          0.92,
          0.68,
          0.62,
          0.88,
          0.84,
          0.82,
          0.97,
          0.92,
          0.93,
          0.78,
          0.94,
          0.92,
          0.97,
          0.67,
          0.82,
          0.72,
          0.78,
          0.92,
          0.74,
          0.86,
          0.84,
          0.66,
          0.8,
          0.85,
          0.89,
          1,
          0.71
         ],
         "yaxis": "y"
        },
        {
         "hovertemplate": "Setores=Mistura<br>Qualidade=%{x}<br>Desempenho=%{y}<extra></extra>",
         "legendgroup": "Mistura",
         "marker": {
          "color": "#EF553B",
          "symbol": "circle"
         },
         "mode": "markers",
         "name": "Mistura",
         "orientation": "v",
         "showlegend": true,
         "type": "scatter",
         "x": [
          0.95,
          0.94,
          0.94,
          0.9,
          0.95,
          0.98,
          0.97,
          0.97,
          0.97,
          0.98,
          0.98,
          0.99,
          0.98,
          0.98,
          0.96,
          1,
          0.99,
          0.79,
          0.93,
          0.98,
          0.99,
          0.99,
          0.98,
          0.98,
          0.96,
          1,
          0.99,
          0.99,
          0.98,
          0.99,
          0.99,
          0.97,
          0.98,
          0.99,
          0.95,
          0.95,
          0.94,
          0.97,
          0.99,
          0.94,
          0.94,
          0.97,
          0.95,
          0.96,
          0.97,
          0.97,
          0.93,
          0.98,
          0.98,
          0.93,
          0.93,
          0.97,
          0.94,
          0.98,
          0.99,
          0.94,
          0.94,
          0.96,
          0.98,
          0.99,
          0.99,
          0.99,
          0.98
         ],
         "xaxis": "x",
         "y": [
          0.79,
          0.63,
          0.7,
          0.95,
          0.88,
          0.92,
          0.65,
          0.85,
          0.82,
          0.96,
          0.86,
          0.69,
          0.86,
          0.81,
          0.89,
          0.92,
          0.9,
          0.71,
          0.98,
          0.87,
          0.93,
          0.96,
          0.92,
          0.96,
          0.89,
          0.92,
          0.71,
          0.88,
          0.86,
          0.94,
          0.81,
          0.68,
          0.94,
          0.94,
          0.78,
          0.64,
          0.85,
          0.68,
          0.7,
          0.91,
          0.85,
          0.89,
          0.75,
          0.85,
          0.75,
          0.62,
          0.74,
          0.95,
          0.61,
          0.73,
          0.74,
          0.83,
          0.85,
          0.86,
          0.72,
          0.85,
          0.86,
          0.71,
          0.73,
          0.74,
          0.77,
          0.94,
          0.95
         ],
         "yaxis": "y"
        },
        {
         "hovertemplate": "Setores=Modelagem<br>Qualidade=%{x}<br>Desempenho=%{y}<extra></extra>",
         "legendgroup": "Modelagem",
         "marker": {
          "color": "#00cc96",
          "symbol": "circle"
         },
         "mode": "markers",
         "name": "Modelagem",
         "orientation": "v",
         "showlegend": true,
         "type": "scatter",
         "x": [
          0.93,
          0.89,
          0.96,
          0.95,
          0.96,
          0.95,
          0.89,
          0.94,
          0.98,
          0.86,
          0.97,
          0.9,
          0.94,
          0.98,
          0.98,
          0.99,
          0.92,
          0.99,
          0.95,
          0.89,
          0.98,
          0.99,
          1,
          0.86,
          0.99,
          1,
          0.99,
          0.96,
          0.98,
          0.98,
          0.98,
          0.99,
          0.92,
          0.94,
          0.93,
          0.95,
          0.99,
          0.99,
          0.99,
          0.99,
          0.99,
          0.93,
          0.88,
          0.95,
          0.89,
          0.99,
          0.99,
          0.99,
          0.99,
          0.99,
          0.99,
          0.99,
          0.99,
          0.99,
          0.99,
          0.98,
          0.93,
          0.94,
          0.97,
          0.97
         ],
         "xaxis": "x",
         "y": [
          0.68,
          0.95,
          0.75,
          0.97,
          0.71,
          0.77,
          0.93,
          0.68,
          0.7,
          0.74,
          0.54,
          0.81,
          0.73,
          0.87,
          0.88,
          0.91,
          0.86,
          0.92,
          0.78,
          0.73,
          0.74,
          0.8,
          0.93,
          0.74,
          0.95,
          0.97,
          0.8,
          0.66,
          0.86,
          0.75,
          0.92,
          0.89,
          0.86,
          0.85,
          0.7,
          0.91,
          0.81,
          0.78,
          1.03,
          0.83,
          0.83,
          0.72,
          0.94,
          0.76,
          0.89,
          0.78,
          0.68,
          0.58,
          0.79,
          0.67,
          0.89,
          0.86,
          0.88,
          0.64,
          0.89,
          0.66,
          0.9,
          0.89,
          0.66,
          0.66
         ],
         "yaxis": "y"
        },
        {
         "hovertemplate": "Setores=Prensagem<br>Qualidade=%{x}<br>Desempenho=%{y}<extra></extra>",
         "legendgroup": "Prensagem",
         "marker": {
          "color": "#ab63fa",
          "symbol": "circle"
         },
         "mode": "markers",
         "name": "Prensagem",
         "orientation": "v",
         "showlegend": true,
         "type": "scatter",
         "x": [
          0.94,
          0.94,
          0.93,
          0.94,
          0.97,
          0.99,
          1,
          0.99,
          0.95,
          0.97,
          0.98,
          0.99,
          0.97,
          0.99,
          0.99,
          0.98,
          0.98,
          0.99,
          0.95,
          0.99,
          0.97,
          0.97,
          0.97,
          0.91,
          0.97,
          0.94,
          0.99,
          0.98,
          0.98,
          0.94,
          0.9,
          0.97,
          0.97,
          0.99,
          0.79,
          0.99,
          0.95,
          0.94,
          0.94,
          0.98,
          0.99,
          0.97,
          0.98,
          0.98,
          0.98,
          0.94,
          0.94,
          0.99,
          1,
          0.97,
          0.99,
          0.97,
          0.97,
          0.97,
          0.97,
          0.98,
          0.99,
          0.97,
          0.98,
          0.97,
          0.98,
          0.99,
          0.81,
          0.99,
          0.96,
          0.97,
          0.96
         ],
         "xaxis": "x",
         "y": [
          0.98,
          0.97,
          0.96,
          0.93,
          0.68,
          0.8,
          0.93,
          0.85,
          0.9,
          0.82,
          0.91,
          0.92,
          0.91,
          0.92,
          0.73,
          0.81,
          0.94,
          0.94,
          0.71,
          0.89,
          0.84,
          0.75,
          0.89,
          0.6,
          0.65,
          0.73,
          0.87,
          0.96,
          0.86,
          0.65,
          0.81,
          0.89,
          0.82,
          0.85,
          0.71,
          0.92,
          0.71,
          0.97,
          0.89,
          0.91,
          0.85,
          0.84,
          0.79,
          0.8,
          0.9,
          0.98,
          0.99,
          0.94,
          0.77,
          0.77,
          0.83,
          0.76,
          0.69,
          0.69,
          0.8,
          0.89,
          0.87,
          0.67,
          0.77,
          0.65,
          0.9,
          0.79,
          0.8,
          0.73,
          0.79,
          0.89,
          0.69
         ],
         "yaxis": "y"
        },
        {
         "hovertemplate": "Setores=Retífica<br>Qualidade=%{x}<br>Desempenho=%{y}<extra></extra>",
         "legendgroup": "Retífica",
         "marker": {
          "color": "#FFA15A",
          "symbol": "circle"
         },
         "mode": "markers",
         "name": "Retífica",
         "orientation": "v",
         "showlegend": true,
         "type": "scatter",
         "x": [
          0.96,
          0.92,
          0.95,
          0.94,
          0.99,
          0.99,
          0.94,
          0.99,
          0.99,
          0.94,
          0.99,
          0.99,
          0.99,
          0.94,
          0.98,
          1,
          0.94,
          0.94,
          0.98,
          1,
          0.89,
          0.99,
          0.98,
          0.99,
          0.86,
          0.97,
          0.99,
          0.97,
          1,
          0.89,
          0.99,
          0.99,
          0.96,
          0.93,
          0.97,
          0.99,
          0.98,
          0.97,
          0.97,
          0.93,
          0.98,
          0.99,
          0.96,
          0.98,
          0.99,
          0.96,
          0.96,
          0.99,
          0.98,
          0.96,
          0.99,
          0.99,
          1,
          0.9
         ],
         "xaxis": "x",
         "y": [
          0.64,
          0.88,
          0.65,
          0.64,
          0.9,
          0.71,
          0.7,
          0.93,
          0.88,
          0.65,
          0.92,
          0.86,
          0.92,
          0.73,
          0.88,
          0.98,
          0.85,
          0.96,
          0.9,
          0.99,
          0.93,
          0.8,
          0.81,
          0.9,
          0.74,
          0.54,
          0.69,
          0.91,
          0.98,
          0.94,
          0.87,
          0.92,
          0.66,
          0.97,
          0.81,
          0.88,
          0.78,
          0.81,
          0.78,
          0.99,
          0.73,
          0.93,
          0.66,
          0.73,
          0.93,
          0.72,
          0.67,
          0.88,
          0.74,
          0.67,
          0.85,
          0.79,
          0.95,
          0.99
         ],
         "yaxis": "y"
        }
       ],
       "layout": {
        "legend": {
         "title": {
          "text": "Setores"
         },
         "tracegroupgap": 0
        },
        "margin": {
         "t": 60
        },
        "template": {
         "data": {
          "bar": [
           {
            "error_x": {
             "color": "#2a3f5f"
            },
            "error_y": {
             "color": "#2a3f5f"
            },
            "marker": {
             "line": {
              "color": "#E5ECF6",
              "width": 0.5
             },
             "pattern": {
              "fillmode": "overlay",
              "size": 10,
              "solidity": 0.2
             }
            },
            "type": "bar"
           }
          ],
          "barpolar": [
           {
            "marker": {
             "line": {
              "color": "#E5ECF6",
              "width": 0.5
             },
             "pattern": {
              "fillmode": "overlay",
              "size": 10,
              "solidity": 0.2
             }
            },
            "type": "barpolar"
           }
          ],
          "carpet": [
           {
            "aaxis": {
             "endlinecolor": "#2a3f5f",
             "gridcolor": "white",
             "linecolor": "white",
             "minorgridcolor": "white",
             "startlinecolor": "#2a3f5f"
            },
            "baxis": {
             "endlinecolor": "#2a3f5f",
             "gridcolor": "white",
             "linecolor": "white",
             "minorgridcolor": "white",
             "startlinecolor": "#2a3f5f"
            },
            "type": "carpet"
           }
          ],
          "choropleth": [
           {
            "colorbar": {
             "outlinewidth": 0,
             "ticks": ""
            },
            "type": "choropleth"
           }
          ],
          "contour": [
           {
            "colorbar": {
             "outlinewidth": 0,
             "ticks": ""
            },
            "colorscale": [
             [
              0,
              "#0d0887"
             ],
             [
              0.1111111111111111,
              "#46039f"
             ],
             [
              0.2222222222222222,
              "#7201a8"
             ],
             [
              0.3333333333333333,
              "#9c179e"
             ],
             [
              0.4444444444444444,
              "#bd3786"
             ],
             [
              0.5555555555555556,
              "#d8576b"
             ],
             [
              0.6666666666666666,
              "#ed7953"
             ],
             [
              0.7777777777777778,
              "#fb9f3a"
             ],
             [
              0.8888888888888888,
              "#fdca26"
             ],
             [
              1,
              "#f0f921"
             ]
            ],
            "type": "contour"
           }
          ],
          "contourcarpet": [
           {
            "colorbar": {
             "outlinewidth": 0,
             "ticks": ""
            },
            "type": "contourcarpet"
           }
          ],
          "heatmap": [
           {
            "colorbar": {
             "outlinewidth": 0,
             "ticks": ""
            },
            "colorscale": [
             [
              0,
              "#0d0887"
             ],
             [
              0.1111111111111111,
              "#46039f"
             ],
             [
              0.2222222222222222,
              "#7201a8"
             ],
             [
              0.3333333333333333,
              "#9c179e"
             ],
             [
              0.4444444444444444,
              "#bd3786"
             ],
             [
              0.5555555555555556,
              "#d8576b"
             ],
             [
              0.6666666666666666,
              "#ed7953"
             ],
             [
              0.7777777777777778,
              "#fb9f3a"
             ],
             [
              0.8888888888888888,
              "#fdca26"
             ],
             [
              1,
              "#f0f921"
             ]
            ],
            "type": "heatmap"
           }
          ],
          "heatmapgl": [
           {
            "colorbar": {
             "outlinewidth": 0,
             "ticks": ""
            },
            "colorscale": [
             [
              0,
              "#0d0887"
             ],
             [
              0.1111111111111111,
              "#46039f"
             ],
             [
              0.2222222222222222,
              "#7201a8"
             ],
             [
              0.3333333333333333,
              "#9c179e"
             ],
             [
              0.4444444444444444,
              "#bd3786"
             ],
             [
              0.5555555555555556,
              "#d8576b"
             ],
             [
              0.6666666666666666,
              "#ed7953"
             ],
             [
              0.7777777777777778,
              "#fb9f3a"
             ],
             [
              0.8888888888888888,
              "#fdca26"
             ],
             [
              1,
              "#f0f921"
             ]
            ],
            "type": "heatmapgl"
           }
          ],
          "histogram": [
           {
            "marker": {
             "pattern": {
              "fillmode": "overlay",
              "size": 10,
              "solidity": 0.2
             }
            },
            "type": "histogram"
           }
          ],
          "histogram2d": [
           {
            "colorbar": {
             "outlinewidth": 0,
             "ticks": ""
            },
            "colorscale": [
             [
              0,
              "#0d0887"
             ],
             [
              0.1111111111111111,
              "#46039f"
             ],
             [
              0.2222222222222222,
              "#7201a8"
             ],
             [
              0.3333333333333333,
              "#9c179e"
             ],
             [
              0.4444444444444444,
              "#bd3786"
             ],
             [
              0.5555555555555556,
              "#d8576b"
             ],
             [
              0.6666666666666666,
              "#ed7953"
             ],
             [
              0.7777777777777778,
              "#fb9f3a"
             ],
             [
              0.8888888888888888,
              "#fdca26"
             ],
             [
              1,
              "#f0f921"
             ]
            ],
            "type": "histogram2d"
           }
          ],
          "histogram2dcontour": [
           {
            "colorbar": {
             "outlinewidth": 0,
             "ticks": ""
            },
            "colorscale": [
             [
              0,
              "#0d0887"
             ],
             [
              0.1111111111111111,
              "#46039f"
             ],
             [
              0.2222222222222222,
              "#7201a8"
             ],
             [
              0.3333333333333333,
              "#9c179e"
             ],
             [
              0.4444444444444444,
              "#bd3786"
             ],
             [
              0.5555555555555556,
              "#d8576b"
             ],
             [
              0.6666666666666666,
              "#ed7953"
             ],
             [
              0.7777777777777778,
              "#fb9f3a"
             ],
             [
              0.8888888888888888,
              "#fdca26"
             ],
             [
              1,
              "#f0f921"
             ]
            ],
            "type": "histogram2dcontour"
           }
          ],
          "mesh3d": [
           {
            "colorbar": {
             "outlinewidth": 0,
             "ticks": ""
            },
            "type": "mesh3d"
           }
          ],
          "parcoords": [
           {
            "line": {
             "colorbar": {
              "outlinewidth": 0,
              "ticks": ""
             }
            },
            "type": "parcoords"
           }
          ],
          "pie": [
           {
            "automargin": true,
            "type": "pie"
           }
          ],
          "scatter": [
           {
            "marker": {
             "colorbar": {
              "outlinewidth": 0,
              "ticks": ""
             }
            },
            "type": "scatter"
           }
          ],
          "scatter3d": [
           {
            "line": {
             "colorbar": {
              "outlinewidth": 0,
              "ticks": ""
             }
            },
            "marker": {
             "colorbar": {
              "outlinewidth": 0,
              "ticks": ""
             }
            },
            "type": "scatter3d"
           }
          ],
          "scattercarpet": [
           {
            "marker": {
             "colorbar": {
              "outlinewidth": 0,
              "ticks": ""
             }
            },
            "type": "scattercarpet"
           }
          ],
          "scattergeo": [
           {
            "marker": {
             "colorbar": {
              "outlinewidth": 0,
              "ticks": ""
             }
            },
            "type": "scattergeo"
           }
          ],
          "scattergl": [
           {
            "marker": {
             "colorbar": {
              "outlinewidth": 0,
              "ticks": ""
             }
            },
            "type": "scattergl"
           }
          ],
          "scattermapbox": [
           {
            "marker": {
             "colorbar": {
              "outlinewidth": 0,
              "ticks": ""
             }
            },
            "type": "scattermapbox"
           }
          ],
          "scatterpolar": [
           {
            "marker": {
             "colorbar": {
              "outlinewidth": 0,
              "ticks": ""
             }
            },
            "type": "scatterpolar"
           }
          ],
          "scatterpolargl": [
           {
            "marker": {
             "colorbar": {
              "outlinewidth": 0,
              "ticks": ""
             }
            },
            "type": "scatterpolargl"
           }
          ],
          "scatterternary": [
           {
            "marker": {
             "colorbar": {
              "outlinewidth": 0,
              "ticks": ""
             }
            },
            "type": "scatterternary"
           }
          ],
          "surface": [
           {
            "colorbar": {
             "outlinewidth": 0,
             "ticks": ""
            },
            "colorscale": [
             [
              0,
              "#0d0887"
             ],
             [
              0.1111111111111111,
              "#46039f"
             ],
             [
              0.2222222222222222,
              "#7201a8"
             ],
             [
              0.3333333333333333,
              "#9c179e"
             ],
             [
              0.4444444444444444,
              "#bd3786"
             ],
             [
              0.5555555555555556,
              "#d8576b"
             ],
             [
              0.6666666666666666,
              "#ed7953"
             ],
             [
              0.7777777777777778,
              "#fb9f3a"
             ],
             [
              0.8888888888888888,
              "#fdca26"
             ],
             [
              1,
              "#f0f921"
             ]
            ],
            "type": "surface"
           }
          ],
          "table": [
           {
            "cells": {
             "fill": {
              "color": "#EBF0F8"
             },
             "line": {
              "color": "white"
             }
            },
            "header": {
             "fill": {
              "color": "#C8D4E3"
             },
             "line": {
              "color": "white"
             }
            },
            "type": "table"
           }
          ]
         },
         "layout": {
          "annotationdefaults": {
           "arrowcolor": "#2a3f5f",
           "arrowhead": 0,
           "arrowwidth": 1
          },
          "autotypenumbers": "strict",
          "coloraxis": {
           "colorbar": {
            "outlinewidth": 0,
            "ticks": ""
           }
          },
          "colorscale": {
           "diverging": [
            [
             0,
             "#8e0152"
            ],
            [
             0.1,
             "#c51b7d"
            ],
            [
             0.2,
             "#de77ae"
            ],
            [
             0.3,
             "#f1b6da"
            ],
            [
             0.4,
             "#fde0ef"
            ],
            [
             0.5,
             "#f7f7f7"
            ],
            [
             0.6,
             "#e6f5d0"
            ],
            [
             0.7,
             "#b8e186"
            ],
            [
             0.8,
             "#7fbc41"
            ],
            [
             0.9,
             "#4d9221"
            ],
            [
             1,
             "#276419"
            ]
           ],
           "sequential": [
            [
             0,
             "#0d0887"
            ],
            [
             0.1111111111111111,
             "#46039f"
            ],
            [
             0.2222222222222222,
             "#7201a8"
            ],
            [
             0.3333333333333333,
             "#9c179e"
            ],
            [
             0.4444444444444444,
             "#bd3786"
            ],
            [
             0.5555555555555556,
             "#d8576b"
            ],
            [
             0.6666666666666666,
             "#ed7953"
            ],
            [
             0.7777777777777778,
             "#fb9f3a"
            ],
            [
             0.8888888888888888,
             "#fdca26"
            ],
            [
             1,
             "#f0f921"
            ]
           ],
           "sequentialminus": [
            [
             0,
             "#0d0887"
            ],
            [
             0.1111111111111111,
             "#46039f"
            ],
            [
             0.2222222222222222,
             "#7201a8"
            ],
            [
             0.3333333333333333,
             "#9c179e"
            ],
            [
             0.4444444444444444,
             "#bd3786"
            ],
            [
             0.5555555555555556,
             "#d8576b"
            ],
            [
             0.6666666666666666,
             "#ed7953"
            ],
            [
             0.7777777777777778,
             "#fb9f3a"
            ],
            [
             0.8888888888888888,
             "#fdca26"
            ],
            [
             1,
             "#f0f921"
            ]
           ]
          },
          "colorway": [
           "#636efa",
           "#EF553B",
           "#00cc96",
           "#ab63fa",
           "#FFA15A",
           "#19d3f3",
           "#FF6692",
           "#B6E880",
           "#FF97FF",
           "#FECB52"
          ],
          "font": {
           "color": "#2a3f5f"
          },
          "geo": {
           "bgcolor": "white",
           "lakecolor": "white",
           "landcolor": "#E5ECF6",
           "showlakes": true,
           "showland": true,
           "subunitcolor": "white"
          },
          "hoverlabel": {
           "align": "left"
          },
          "hovermode": "closest",
          "mapbox": {
           "style": "light"
          },
          "paper_bgcolor": "white",
          "plot_bgcolor": "#E5ECF6",
          "polar": {
           "angularaxis": {
            "gridcolor": "white",
            "linecolor": "white",
            "ticks": ""
           },
           "bgcolor": "#E5ECF6",
           "radialaxis": {
            "gridcolor": "white",
            "linecolor": "white",
            "ticks": ""
           }
          },
          "scene": {
           "xaxis": {
            "backgroundcolor": "#E5ECF6",
            "gridcolor": "white",
            "gridwidth": 2,
            "linecolor": "white",
            "showbackground": true,
            "ticks": "",
            "zerolinecolor": "white"
           },
           "yaxis": {
            "backgroundcolor": "#E5ECF6",
            "gridcolor": "white",
            "gridwidth": 2,
            "linecolor": "white",
            "showbackground": true,
            "ticks": "",
            "zerolinecolor": "white"
           },
           "zaxis": {
            "backgroundcolor": "#E5ECF6",
            "gridcolor": "white",
            "gridwidth": 2,
            "linecolor": "white",
            "showbackground": true,
            "ticks": "",
            "zerolinecolor": "white"
           }
          },
          "shapedefaults": {
           "line": {
            "color": "#2a3f5f"
           }
          },
          "ternary": {
           "aaxis": {
            "gridcolor": "white",
            "linecolor": "white",
            "ticks": ""
           },
           "baxis": {
            "gridcolor": "white",
            "linecolor": "white",
            "ticks": ""
           },
           "bgcolor": "#E5ECF6",
           "caxis": {
            "gridcolor": "white",
            "linecolor": "white",
            "ticks": ""
           }
          },
          "title": {
           "x": 0.05
          },
          "xaxis": {
           "automargin": true,
           "gridcolor": "white",
           "linecolor": "white",
           "ticks": "",
           "title": {
            "standoff": 15
           },
           "zerolinecolor": "white",
           "zerolinewidth": 2
          },
          "yaxis": {
           "automargin": true,
           "gridcolor": "white",
           "linecolor": "white",
           "ticks": "",
           "title": {
            "standoff": 15
           },
           "zerolinecolor": "white",
           "zerolinewidth": 2
          }
         }
        },
        "xaxis": {
         "anchor": "y",
         "domain": [
          0,
          1
         ],
         "title": {
          "text": "Qualidade"
         }
        },
        "yaxis": {
         "anchor": "x",
         "domain": [
          0,
          1
         ],
         "title": {
          "text": "Desempenho"
         }
        }
       }
      },
      "text/html": [
       "<div>                            <div id=\"683f7166-f9f0-4ef5-9129-f41440c8a8fd\" class=\"plotly-graph-div\" style=\"height:525px; width:100%;\"></div>            <script type=\"text/javascript\">                require([\"plotly\"], function(Plotly) {                    window.PLOTLYENV=window.PLOTLYENV || {};                                    if (document.getElementById(\"683f7166-f9f0-4ef5-9129-f41440c8a8fd\")) {                    Plotly.newPlot(                        \"683f7166-f9f0-4ef5-9129-f41440c8a8fd\",                        [{\"hovertemplate\":\"Setores=Extrus\\u00e3o<br>Qualidade=%{x}<br>Desempenho=%{y}<extra></extra>\",\"legendgroup\":\"Extrus\\u00e3o\",\"marker\":{\"color\":\"#636efa\",\"symbol\":\"circle\"},\"mode\":\"markers\",\"name\":\"Extrus\\u00e3o\",\"orientation\":\"v\",\"showlegend\":true,\"x\":[0.96,0.95,0.96,0.92,0.91,0.97,0.97,0.99,0.96,0.98,0.84,1.0,0.99,1.0,0.99,0.99,0.92,0.99,0.97,0.92,0.97,0.99,0.97,0.98,0.99,0.97,0.98,0.99,0.92,0.91,0.98,1.0,0.96,0.89,0.97,0.98,0.97,1.0,0.97,0.95,0.92,0.97,0.96,0.98,0.97,0.99,0.96,0.98,0.96,0.99,0.98,1.0,0.95,0.93],\"xaxis\":\"x\",\"y\":[0.84,0.9,0.85,0.89,0.6,0.82,0.63,0.8,0.66,0.86,0.8,0.93,0.95,0.97,0.87,0.92,0.74,0.73,0.87,0.67,0.82,0.71,0.82,0.88,0.91,0.82,0.91,0.92,0.68,0.62,0.88,0.84,0.82,0.97,0.92,0.93,0.78,0.94,0.92,0.97,0.67,0.82,0.72,0.78,0.92,0.74,0.86,0.84,0.66,0.8,0.85,0.89,1.0,0.71],\"yaxis\":\"y\",\"type\":\"scatter\"},{\"hovertemplate\":\"Setores=Mistura<br>Qualidade=%{x}<br>Desempenho=%{y}<extra></extra>\",\"legendgroup\":\"Mistura\",\"marker\":{\"color\":\"#EF553B\",\"symbol\":\"circle\"},\"mode\":\"markers\",\"name\":\"Mistura\",\"orientation\":\"v\",\"showlegend\":true,\"x\":[0.95,0.94,0.94,0.9,0.95,0.98,0.97,0.97,0.97,0.98,0.98,0.99,0.98,0.98,0.96,1.0,0.99,0.79,0.93,0.98,0.99,0.99,0.98,0.98,0.96,1.0,0.99,0.99,0.98,0.99,0.99,0.97,0.98,0.99,0.95,0.95,0.94,0.97,0.99,0.94,0.94,0.97,0.95,0.96,0.97,0.97,0.93,0.98,0.98,0.93,0.93,0.97,0.94,0.98,0.99,0.94,0.94,0.96,0.98,0.99,0.99,0.99,0.98],\"xaxis\":\"x\",\"y\":[0.79,0.63,0.7,0.95,0.88,0.92,0.65,0.85,0.82,0.96,0.86,0.69,0.86,0.81,0.89,0.92,0.9,0.71,0.98,0.87,0.93,0.96,0.92,0.96,0.89,0.92,0.71,0.88,0.86,0.94,0.81,0.68,0.94,0.94,0.78,0.64,0.85,0.68,0.7,0.91,0.85,0.89,0.75,0.85,0.75,0.62,0.74,0.95,0.61,0.73,0.74,0.83,0.85,0.86,0.72,0.85,0.86,0.71,0.73,0.74,0.77,0.94,0.95],\"yaxis\":\"y\",\"type\":\"scatter\"},{\"hovertemplate\":\"Setores=Modelagem<br>Qualidade=%{x}<br>Desempenho=%{y}<extra></extra>\",\"legendgroup\":\"Modelagem\",\"marker\":{\"color\":\"#00cc96\",\"symbol\":\"circle\"},\"mode\":\"markers\",\"name\":\"Modelagem\",\"orientation\":\"v\",\"showlegend\":true,\"x\":[0.93,0.89,0.96,0.95,0.96,0.95,0.89,0.94,0.98,0.86,0.97,0.9,0.94,0.98,0.98,0.99,0.92,0.99,0.95,0.89,0.98,0.99,1.0,0.86,0.99,1.0,0.99,0.96,0.98,0.98,0.98,0.99,0.92,0.94,0.93,0.95,0.99,0.99,0.99,0.99,0.99,0.93,0.88,0.95,0.89,0.99,0.99,0.99,0.99,0.99,0.99,0.99,0.99,0.99,0.99,0.98,0.93,0.94,0.97,0.97],\"xaxis\":\"x\",\"y\":[0.68,0.95,0.75,0.97,0.71,0.77,0.93,0.68,0.7,0.74,0.54,0.81,0.73,0.87,0.88,0.91,0.86,0.92,0.78,0.73,0.74,0.8,0.93,0.74,0.95,0.97,0.8,0.66,0.86,0.75,0.92,0.89,0.86,0.85,0.7,0.91,0.81,0.78,1.03,0.83,0.83,0.72,0.94,0.76,0.89,0.78,0.68,0.58,0.79,0.67,0.89,0.86,0.88,0.64,0.89,0.66,0.9,0.89,0.66,0.66],\"yaxis\":\"y\",\"type\":\"scatter\"},{\"hovertemplate\":\"Setores=Prensagem<br>Qualidade=%{x}<br>Desempenho=%{y}<extra></extra>\",\"legendgroup\":\"Prensagem\",\"marker\":{\"color\":\"#ab63fa\",\"symbol\":\"circle\"},\"mode\":\"markers\",\"name\":\"Prensagem\",\"orientation\":\"v\",\"showlegend\":true,\"x\":[0.94,0.94,0.93,0.94,0.97,0.99,1.0,0.99,0.95,0.97,0.98,0.99,0.97,0.99,0.99,0.98,0.98,0.99,0.95,0.99,0.97,0.97,0.97,0.91,0.97,0.94,0.99,0.98,0.98,0.94,0.9,0.97,0.97,0.99,0.79,0.99,0.95,0.94,0.94,0.98,0.99,0.97,0.98,0.98,0.98,0.94,0.94,0.99,1.0,0.97,0.99,0.97,0.97,0.97,0.97,0.98,0.99,0.97,0.98,0.97,0.98,0.99,0.81,0.99,0.96,0.97,0.96],\"xaxis\":\"x\",\"y\":[0.98,0.97,0.96,0.93,0.68,0.8,0.93,0.85,0.9,0.82,0.91,0.92,0.91,0.92,0.73,0.81,0.94,0.94,0.71,0.89,0.84,0.75,0.89,0.6,0.65,0.73,0.87,0.96,0.86,0.65,0.81,0.89,0.82,0.85,0.71,0.92,0.71,0.97,0.89,0.91,0.85,0.84,0.79,0.8,0.9,0.98,0.99,0.94,0.77,0.77,0.83,0.76,0.69,0.69,0.8,0.89,0.87,0.67,0.77,0.65,0.9,0.79,0.8,0.73,0.79,0.89,0.69],\"yaxis\":\"y\",\"type\":\"scatter\"},{\"hovertemplate\":\"Setores=Ret\\u00edfica<br>Qualidade=%{x}<br>Desempenho=%{y}<extra></extra>\",\"legendgroup\":\"Ret\\u00edfica\",\"marker\":{\"color\":\"#FFA15A\",\"symbol\":\"circle\"},\"mode\":\"markers\",\"name\":\"Ret\\u00edfica\",\"orientation\":\"v\",\"showlegend\":true,\"x\":[0.96,0.92,0.95,0.94,0.99,0.99,0.94,0.99,0.99,0.94,0.99,0.99,0.99,0.94,0.98,1.0,0.94,0.94,0.98,1.0,0.89,0.99,0.98,0.99,0.86,0.97,0.99,0.97,1.0,0.89,0.99,0.99,0.96,0.93,0.97,0.99,0.98,0.97,0.97,0.93,0.98,0.99,0.96,0.98,0.99,0.96,0.96,0.99,0.98,0.96,0.99,0.99,1.0,0.9],\"xaxis\":\"x\",\"y\":[0.64,0.88,0.65,0.64,0.9,0.71,0.7,0.93,0.88,0.65,0.92,0.86,0.92,0.73,0.88,0.98,0.85,0.96,0.9,0.99,0.93,0.8,0.81,0.9,0.74,0.54,0.69,0.91,0.98,0.94,0.87,0.92,0.66,0.97,0.81,0.88,0.78,0.81,0.78,0.99,0.73,0.93,0.66,0.73,0.93,0.72,0.67,0.88,0.74,0.67,0.85,0.79,0.95,0.99],\"yaxis\":\"y\",\"type\":\"scatter\"}],                        {\"template\":{\"data\":{\"bar\":[{\"error_x\":{\"color\":\"#2a3f5f\"},\"error_y\":{\"color\":\"#2a3f5f\"},\"marker\":{\"line\":{\"color\":\"#E5ECF6\",\"width\":0.5},\"pattern\":{\"fillmode\":\"overlay\",\"size\":10,\"solidity\":0.2}},\"type\":\"bar\"}],\"barpolar\":[{\"marker\":{\"line\":{\"color\":\"#E5ECF6\",\"width\":0.5},\"pattern\":{\"fillmode\":\"overlay\",\"size\":10,\"solidity\":0.2}},\"type\":\"barpolar\"}],\"carpet\":[{\"aaxis\":{\"endlinecolor\":\"#2a3f5f\",\"gridcolor\":\"white\",\"linecolor\":\"white\",\"minorgridcolor\":\"white\",\"startlinecolor\":\"#2a3f5f\"},\"baxis\":{\"endlinecolor\":\"#2a3f5f\",\"gridcolor\":\"white\",\"linecolor\":\"white\",\"minorgridcolor\":\"white\",\"startlinecolor\":\"#2a3f5f\"},\"type\":\"carpet\"}],\"choropleth\":[{\"colorbar\":{\"outlinewidth\":0,\"ticks\":\"\"},\"type\":\"choropleth\"}],\"contour\":[{\"colorbar\":{\"outlinewidth\":0,\"ticks\":\"\"},\"colorscale\":[[0.0,\"#0d0887\"],[0.1111111111111111,\"#46039f\"],[0.2222222222222222,\"#7201a8\"],[0.3333333333333333,\"#9c179e\"],[0.4444444444444444,\"#bd3786\"],[0.5555555555555556,\"#d8576b\"],[0.6666666666666666,\"#ed7953\"],[0.7777777777777778,\"#fb9f3a\"],[0.8888888888888888,\"#fdca26\"],[1.0,\"#f0f921\"]],\"type\":\"contour\"}],\"contourcarpet\":[{\"colorbar\":{\"outlinewidth\":0,\"ticks\":\"\"},\"type\":\"contourcarpet\"}],\"heatmap\":[{\"colorbar\":{\"outlinewidth\":0,\"ticks\":\"\"},\"colorscale\":[[0.0,\"#0d0887\"],[0.1111111111111111,\"#46039f\"],[0.2222222222222222,\"#7201a8\"],[0.3333333333333333,\"#9c179e\"],[0.4444444444444444,\"#bd3786\"],[0.5555555555555556,\"#d8576b\"],[0.6666666666666666,\"#ed7953\"],[0.7777777777777778,\"#fb9f3a\"],[0.8888888888888888,\"#fdca26\"],[1.0,\"#f0f921\"]],\"type\":\"heatmap\"}],\"heatmapgl\":[{\"colorbar\":{\"outlinewidth\":0,\"ticks\":\"\"},\"colorscale\":[[0.0,\"#0d0887\"],[0.1111111111111111,\"#46039f\"],[0.2222222222222222,\"#7201a8\"],[0.3333333333333333,\"#9c179e\"],[0.4444444444444444,\"#bd3786\"],[0.5555555555555556,\"#d8576b\"],[0.6666666666666666,\"#ed7953\"],[0.7777777777777778,\"#fb9f3a\"],[0.8888888888888888,\"#fdca26\"],[1.0,\"#f0f921\"]],\"type\":\"heatmapgl\"}],\"histogram\":[{\"marker\":{\"pattern\":{\"fillmode\":\"overlay\",\"size\":10,\"solidity\":0.2}},\"type\":\"histogram\"}],\"histogram2d\":[{\"colorbar\":{\"outlinewidth\":0,\"ticks\":\"\"},\"colorscale\":[[0.0,\"#0d0887\"],[0.1111111111111111,\"#46039f\"],[0.2222222222222222,\"#7201a8\"],[0.3333333333333333,\"#9c179e\"],[0.4444444444444444,\"#bd3786\"],[0.5555555555555556,\"#d8576b\"],[0.6666666666666666,\"#ed7953\"],[0.7777777777777778,\"#fb9f3a\"],[0.8888888888888888,\"#fdca26\"],[1.0,\"#f0f921\"]],\"type\":\"histogram2d\"}],\"histogram2dcontour\":[{\"colorbar\":{\"outlinewidth\":0,\"ticks\":\"\"},\"colorscale\":[[0.0,\"#0d0887\"],[0.1111111111111111,\"#46039f\"],[0.2222222222222222,\"#7201a8\"],[0.3333333333333333,\"#9c179e\"],[0.4444444444444444,\"#bd3786\"],[0.5555555555555556,\"#d8576b\"],[0.6666666666666666,\"#ed7953\"],[0.7777777777777778,\"#fb9f3a\"],[0.8888888888888888,\"#fdca26\"],[1.0,\"#f0f921\"]],\"type\":\"histogram2dcontour\"}],\"mesh3d\":[{\"colorbar\":{\"outlinewidth\":0,\"ticks\":\"\"},\"type\":\"mesh3d\"}],\"parcoords\":[{\"line\":{\"colorbar\":{\"outlinewidth\":0,\"ticks\":\"\"}},\"type\":\"parcoords\"}],\"pie\":[{\"automargin\":true,\"type\":\"pie\"}],\"scatter\":[{\"marker\":{\"colorbar\":{\"outlinewidth\":0,\"ticks\":\"\"}},\"type\":\"scatter\"}],\"scatter3d\":[{\"line\":{\"colorbar\":{\"outlinewidth\":0,\"ticks\":\"\"}},\"marker\":{\"colorbar\":{\"outlinewidth\":0,\"ticks\":\"\"}},\"type\":\"scatter3d\"}],\"scattercarpet\":[{\"marker\":{\"colorbar\":{\"outlinewidth\":0,\"ticks\":\"\"}},\"type\":\"scattercarpet\"}],\"scattergeo\":[{\"marker\":{\"colorbar\":{\"outlinewidth\":0,\"ticks\":\"\"}},\"type\":\"scattergeo\"}],\"scattergl\":[{\"marker\":{\"colorbar\":{\"outlinewidth\":0,\"ticks\":\"\"}},\"type\":\"scattergl\"}],\"scattermapbox\":[{\"marker\":{\"colorbar\":{\"outlinewidth\":0,\"ticks\":\"\"}},\"type\":\"scattermapbox\"}],\"scatterpolar\":[{\"marker\":{\"colorbar\":{\"outlinewidth\":0,\"ticks\":\"\"}},\"type\":\"scatterpolar\"}],\"scatterpolargl\":[{\"marker\":{\"colorbar\":{\"outlinewidth\":0,\"ticks\":\"\"}},\"type\":\"scatterpolargl\"}],\"scatterternary\":[{\"marker\":{\"colorbar\":{\"outlinewidth\":0,\"ticks\":\"\"}},\"type\":\"scatterternary\"}],\"surface\":[{\"colorbar\":{\"outlinewidth\":0,\"ticks\":\"\"},\"colorscale\":[[0.0,\"#0d0887\"],[0.1111111111111111,\"#46039f\"],[0.2222222222222222,\"#7201a8\"],[0.3333333333333333,\"#9c179e\"],[0.4444444444444444,\"#bd3786\"],[0.5555555555555556,\"#d8576b\"],[0.6666666666666666,\"#ed7953\"],[0.7777777777777778,\"#fb9f3a\"],[0.8888888888888888,\"#fdca26\"],[1.0,\"#f0f921\"]],\"type\":\"surface\"}],\"table\":[{\"cells\":{\"fill\":{\"color\":\"#EBF0F8\"},\"line\":{\"color\":\"white\"}},\"header\":{\"fill\":{\"color\":\"#C8D4E3\"},\"line\":{\"color\":\"white\"}},\"type\":\"table\"}]},\"layout\":{\"annotationdefaults\":{\"arrowcolor\":\"#2a3f5f\",\"arrowhead\":0,\"arrowwidth\":1},\"autotypenumbers\":\"strict\",\"coloraxis\":{\"colorbar\":{\"outlinewidth\":0,\"ticks\":\"\"}},\"colorscale\":{\"diverging\":[[0,\"#8e0152\"],[0.1,\"#c51b7d\"],[0.2,\"#de77ae\"],[0.3,\"#f1b6da\"],[0.4,\"#fde0ef\"],[0.5,\"#f7f7f7\"],[0.6,\"#e6f5d0\"],[0.7,\"#b8e186\"],[0.8,\"#7fbc41\"],[0.9,\"#4d9221\"],[1,\"#276419\"]],\"sequential\":[[0.0,\"#0d0887\"],[0.1111111111111111,\"#46039f\"],[0.2222222222222222,\"#7201a8\"],[0.3333333333333333,\"#9c179e\"],[0.4444444444444444,\"#bd3786\"],[0.5555555555555556,\"#d8576b\"],[0.6666666666666666,\"#ed7953\"],[0.7777777777777778,\"#fb9f3a\"],[0.8888888888888888,\"#fdca26\"],[1.0,\"#f0f921\"]],\"sequentialminus\":[[0.0,\"#0d0887\"],[0.1111111111111111,\"#46039f\"],[0.2222222222222222,\"#7201a8\"],[0.3333333333333333,\"#9c179e\"],[0.4444444444444444,\"#bd3786\"],[0.5555555555555556,\"#d8576b\"],[0.6666666666666666,\"#ed7953\"],[0.7777777777777778,\"#fb9f3a\"],[0.8888888888888888,\"#fdca26\"],[1.0,\"#f0f921\"]]},\"colorway\":[\"#636efa\",\"#EF553B\",\"#00cc96\",\"#ab63fa\",\"#FFA15A\",\"#19d3f3\",\"#FF6692\",\"#B6E880\",\"#FF97FF\",\"#FECB52\"],\"font\":{\"color\":\"#2a3f5f\"},\"geo\":{\"bgcolor\":\"white\",\"lakecolor\":\"white\",\"landcolor\":\"#E5ECF6\",\"showlakes\":true,\"showland\":true,\"subunitcolor\":\"white\"},\"hoverlabel\":{\"align\":\"left\"},\"hovermode\":\"closest\",\"mapbox\":{\"style\":\"light\"},\"paper_bgcolor\":\"white\",\"plot_bgcolor\":\"#E5ECF6\",\"polar\":{\"angularaxis\":{\"gridcolor\":\"white\",\"linecolor\":\"white\",\"ticks\":\"\"},\"bgcolor\":\"#E5ECF6\",\"radialaxis\":{\"gridcolor\":\"white\",\"linecolor\":\"white\",\"ticks\":\"\"}},\"scene\":{\"xaxis\":{\"backgroundcolor\":\"#E5ECF6\",\"gridcolor\":\"white\",\"gridwidth\":2,\"linecolor\":\"white\",\"showbackground\":true,\"ticks\":\"\",\"zerolinecolor\":\"white\"},\"yaxis\":{\"backgroundcolor\":\"#E5ECF6\",\"gridcolor\":\"white\",\"gridwidth\":2,\"linecolor\":\"white\",\"showbackground\":true,\"ticks\":\"\",\"zerolinecolor\":\"white\"},\"zaxis\":{\"backgroundcolor\":\"#E5ECF6\",\"gridcolor\":\"white\",\"gridwidth\":2,\"linecolor\":\"white\",\"showbackground\":true,\"ticks\":\"\",\"zerolinecolor\":\"white\"}},\"shapedefaults\":{\"line\":{\"color\":\"#2a3f5f\"}},\"ternary\":{\"aaxis\":{\"gridcolor\":\"white\",\"linecolor\":\"white\",\"ticks\":\"\"},\"baxis\":{\"gridcolor\":\"white\",\"linecolor\":\"white\",\"ticks\":\"\"},\"bgcolor\":\"#E5ECF6\",\"caxis\":{\"gridcolor\":\"white\",\"linecolor\":\"white\",\"ticks\":\"\"}},\"title\":{\"x\":0.05},\"xaxis\":{\"automargin\":true,\"gridcolor\":\"white\",\"linecolor\":\"white\",\"ticks\":\"\",\"title\":{\"standoff\":15},\"zerolinecolor\":\"white\",\"zerolinewidth\":2},\"yaxis\":{\"automargin\":true,\"gridcolor\":\"white\",\"linecolor\":\"white\",\"ticks\":\"\",\"title\":{\"standoff\":15},\"zerolinecolor\":\"white\",\"zerolinewidth\":2}}},\"xaxis\":{\"anchor\":\"y\",\"domain\":[0.0,1.0],\"title\":{\"text\":\"Qualidade\"}},\"yaxis\":{\"anchor\":\"x\",\"domain\":[0.0,1.0],\"title\":{\"text\":\"Desempenho\"}},\"legend\":{\"title\":{\"text\":\"Setores\"},\"tracegroupgap\":0},\"margin\":{\"t\":60}},                        {\"responsive\": true}                    ).then(function(){\n",
       "                            \n",
       "var gd = document.getElementById('683f7166-f9f0-4ef5-9129-f41440c8a8fd');\n",
       "var x = new MutationObserver(function (mutations, observer) {{\n",
       "        var display = window.getComputedStyle(gd).display;\n",
       "        if (!display || display === 'none') {{\n",
       "            console.log([gd, 'removed!']);\n",
       "            Plotly.purge(gd);\n",
       "            observer.disconnect();\n",
       "        }}\n",
       "}});\n",
       "\n",
       "// Listen for the removal of the full notebook cells\n",
       "var notebookContainer = gd.closest('#notebook-container');\n",
       "if (notebookContainer) {{\n",
       "    x.observe(notebookContainer, {childList: true});\n",
       "}}\n",
       "\n",
       "// Listen for the clearing of the current output cell\n",
       "var outputEl = gd.closest('.output');\n",
       "if (outputEl) {{\n",
       "    x.observe(outputEl, {childList: true});\n",
       "}}\n",
       "\n",
       "                        })                };                });            </script>        </div>"
      ]
     },
     "metadata": {},
     "output_type": "display_data"
    }
   ],
   "source": [
    "data = Dim_Pessoa_Plano\n",
    "\n",
    "fig = px.scatter(data, x=\"Qualidade\", y=\"Desempenho\", color=\"Setores\")\n",
    "fig.show()"
   ]
  },
  {
   "cell_type": "markdown",
   "id": "7c34dc07",
   "metadata": {},
   "source": [
    "## Qualidade e Desempenho por Nome "
   ]
  },
  {
   "cell_type": "code",
   "execution_count": 705,
   "id": "4de42b64",
   "metadata": {},
   "outputs": [
    {
     "data": {
      "application/vnd.plotly.v1+json": {
       "config": {
        "plotlyServerURL": "https://plot.ly"
       },
       "data": [
        {
         "hovertemplate": "Nome=Miriam<br>Qualidade=%{x}<br>Desempenho=%{y}<extra></extra>",
         "legendgroup": "Miriam",
         "marker": {
          "color": "#636efa",
          "symbol": "circle"
         },
         "mode": "markers",
         "name": "Miriam",
         "orientation": "v",
         "showlegend": true,
         "type": "scatter",
         "x": [
          0.96,
          0.96,
          0.97,
          0.99,
          0.98,
          1,
          0.99,
          0.99,
          0.92,
          0.92,
          0.97,
          0.97,
          0.99,
          0.98,
          0.99,
          0.92,
          0.98,
          0.96,
          0.97,
          0.97,
          0.97,
          0.97,
          0.96,
          0.97,
          0.96,
          0.96,
          0.98,
          0.95
         ],
         "xaxis": "x",
         "y": [
          0.84,
          0.85,
          0.82,
          0.8,
          0.86,
          0.93,
          0.95,
          0.87,
          0.74,
          0.67,
          0.82,
          0.82,
          0.91,
          0.91,
          0.92,
          0.68,
          0.88,
          0.82,
          0.92,
          0.78,
          0.92,
          0.82,
          0.72,
          0.92,
          0.86,
          0.66,
          0.85,
          1
         ],
         "yaxis": "y"
        },
        {
         "hovertemplate": "Nome=Daniel<br>Qualidade=%{x}<br>Desempenho=%{y}<extra></extra>",
         "legendgroup": "Daniel",
         "marker": {
          "color": "#EF553B",
          "symbol": "circle"
         },
         "mode": "markers",
         "name": "Daniel",
         "orientation": "v",
         "showlegend": true,
         "type": "scatter",
         "x": [
          0.95,
          0.9,
          0.95,
          0.98,
          0.97,
          0.98,
          0.98,
          0.96,
          0.99,
          0.79,
          0.93,
          0.99,
          0.98,
          0.96,
          0.99,
          0.98,
          0.99,
          0.97,
          0.98,
          0.95,
          0.94,
          0.94,
          0.97,
          0.95,
          0.97,
          0.93,
          0.93,
          0.97,
          0.94,
          0.94,
          0.96,
          0.98,
          0.99,
          0.98
         ],
         "xaxis": "x",
         "y": [
          0.79,
          0.95,
          0.88,
          0.92,
          0.85,
          0.96,
          0.86,
          0.89,
          0.9,
          0.71,
          0.98,
          0.96,
          0.92,
          0.89,
          0.71,
          0.86,
          0.94,
          0.68,
          0.94,
          0.78,
          0.85,
          0.91,
          0.89,
          0.75,
          0.75,
          0.74,
          0.73,
          0.83,
          0.85,
          0.85,
          0.71,
          0.73,
          0.77,
          0.95
         ],
         "yaxis": "y"
        },
        {
         "hovertemplate": "Nome=Carlos<br>Qualidade=%{x}<br>Desempenho=%{y}<extra></extra>",
         "legendgroup": "Carlos",
         "marker": {
          "color": "#00cc96",
          "symbol": "circle"
         },
         "mode": "markers",
         "name": "Carlos",
         "orientation": "v",
         "showlegend": true,
         "type": "scatter",
         "x": [
          0.93,
          0.96,
          0.89,
          0.94,
          0.97,
          0.94,
          0.98,
          0.99,
          0.95,
          0.99,
          0.86,
          1,
          0.96,
          0.98,
          0.92,
          0.95,
          0.99,
          0.99,
          0.93,
          0.89,
          0.99,
          0.99,
          0.99,
          0.99,
          0.93,
          0.97
         ],
         "xaxis": "x",
         "y": [
          0.68,
          0.75,
          0.93,
          0.68,
          0.54,
          0.73,
          0.88,
          0.91,
          0.78,
          0.8,
          0.74,
          0.97,
          0.66,
          0.92,
          0.86,
          0.91,
          0.78,
          0.83,
          0.72,
          0.89,
          0.68,
          0.79,
          0.86,
          0.64,
          0.9,
          0.66
         ],
         "yaxis": "y"
        },
        {
         "hovertemplate": "Nome=Flávia<br>Qualidade=%{x}<br>Desempenho=%{y}<extra></extra>",
         "legendgroup": "Flávia",
         "marker": {
          "color": "#ab63fa",
          "symbol": "circle"
         },
         "mode": "markers",
         "name": "Flávia",
         "orientation": "v",
         "showlegend": true,
         "type": "scatter",
         "x": [
          0.94,
          0.93,
          1,
          0.99,
          0.98,
          0.97,
          0.98,
          0.98,
          0.99,
          0.97,
          0.91,
          0.99,
          0.98,
          0.9,
          0.97,
          0.79,
          0.95,
          0.94,
          0.99,
          0.98,
          0.94,
          1,
          0.99,
          0.97,
          0.99,
          0.98,
          0.81,
          0.96,
          0.96
         ],
         "xaxis": "x",
         "y": [
          0.98,
          0.96,
          0.93,
          0.85,
          0.91,
          0.91,
          0.81,
          0.94,
          0.89,
          0.75,
          0.6,
          0.87,
          0.86,
          0.81,
          0.82,
          0.71,
          0.71,
          0.89,
          0.85,
          0.79,
          0.98,
          0.77,
          0.83,
          0.69,
          0.87,
          0.77,
          0.8,
          0.79,
          0.69
         ],
         "yaxis": "y"
        },
        {
         "hovertemplate": "Nome=Elisabeth<br>Qualidade=%{x}<br>Desempenho=%{y}<extra></extra>",
         "legendgroup": "Elisabeth",
         "marker": {
          "color": "#FFA15A",
          "symbol": "circle"
         },
         "mode": "markers",
         "name": "Elisabeth",
         "orientation": "v",
         "showlegend": true,
         "type": "scatter",
         "x": [
          0.96,
          0.95,
          0.99,
          0.99,
          0.94,
          0.99,
          0.94,
          0.98,
          0.94,
          1,
          0.99,
          0.99,
          0.97,
          0.97,
          0.89,
          0.99,
          0.93,
          0.99,
          0.98,
          0.97,
          0.98,
          0.98,
          0.99,
          0.99,
          0.98,
          0.99,
          0.9
         ],
         "xaxis": "x",
         "y": [
          0.64,
          0.65,
          0.9,
          0.93,
          0.65,
          0.92,
          0.73,
          0.88,
          0.96,
          0.99,
          0.8,
          0.9,
          0.54,
          0.91,
          0.94,
          0.92,
          0.97,
          0.88,
          0.78,
          0.78,
          0.73,
          0.73,
          0.93,
          0.88,
          0.74,
          0.79,
          0.99
         ],
         "yaxis": "y"
        },
        {
         "hovertemplate": "Nome=Adriana<br>Qualidade=%{x}<br>Desempenho=%{y}<extra></extra>",
         "legendgroup": "Adriana",
         "marker": {
          "color": "#19d3f3",
          "symbol": "circle"
         },
         "mode": "markers",
         "name": "Adriana",
         "orientation": "v",
         "showlegend": true,
         "type": "scatter",
         "x": [
          0.89,
          0.95,
          0.96,
          0.95,
          0.98,
          0.86,
          0.9,
          0.98,
          0.92,
          0.99,
          0.89,
          0.98,
          1,
          0.99,
          0.99,
          0.98,
          0.98,
          0.99,
          0.94,
          0.93,
          0.99,
          0.99,
          0.99,
          0.88,
          0.95,
          0.99,
          0.99,
          0.99,
          0.99,
          0.99,
          0.99,
          0.98,
          0.94,
          0.97
         ],
         "xaxis": "x",
         "y": [
          0.95,
          0.97,
          0.71,
          0.77,
          0.7,
          0.74,
          0.81,
          0.87,
          0.86,
          0.92,
          0.73,
          0.74,
          0.93,
          0.95,
          0.8,
          0.86,
          0.75,
          0.89,
          0.85,
          0.7,
          0.81,
          1.03,
          0.83,
          0.94,
          0.76,
          0.78,
          0.58,
          0.67,
          0.89,
          0.88,
          0.89,
          0.66,
          0.89,
          0.66
         ],
         "yaxis": "y"
        },
        {
         "hovertemplate": "Nome=Isabel<br>Qualidade=%{x}<br>Desempenho=%{y}<extra></extra>",
         "legendgroup": "Isabel",
         "marker": {
          "color": "#FF6692",
          "symbol": "circle"
         },
         "mode": "markers",
         "name": "Isabel",
         "orientation": "v",
         "showlegend": true,
         "type": "scatter",
         "x": [
          0.94,
          0.94,
          0.97,
          0.97,
          0.98,
          0.99,
          0.98,
          1,
          0.98,
          0.99,
          0.98,
          1,
          0.99,
          0.99,
          0.99,
          0.95,
          0.97,
          0.99,
          0.94,
          0.96,
          0.97,
          0.98,
          0.98,
          0.93,
          0.98,
          0.99,
          0.94,
          0.99,
          0.99
         ],
         "xaxis": "x",
         "y": [
          0.63,
          0.7,
          0.65,
          0.82,
          0.86,
          0.69,
          0.81,
          0.92,
          0.87,
          0.93,
          0.96,
          0.92,
          0.88,
          0.81,
          0.94,
          0.64,
          0.68,
          0.7,
          0.85,
          0.85,
          0.62,
          0.95,
          0.61,
          0.74,
          0.86,
          0.72,
          0.86,
          0.74,
          0.94
         ],
         "yaxis": "y"
        },
        {
         "hovertemplate": "Nome=Solange<br>Qualidade=%{x}<br>Desempenho=%{y}<extra></extra>",
         "legendgroup": "Solange",
         "marker": {
          "color": "#B6E880",
          "symbol": "circle"
         },
         "mode": "markers",
         "name": "Solange",
         "orientation": "v",
         "showlegend": true,
         "type": "scatter",
         "x": [
          0.95,
          0.92,
          0.91,
          0.97,
          0.96,
          0.84,
          1,
          0.99,
          0.99,
          0.97,
          0.99,
          0.98,
          0.97,
          0.91,
          1,
          0.89,
          0.98,
          1,
          0.95,
          0.92,
          0.98,
          0.99,
          0.98,
          0.99,
          1,
          0.93
         ],
         "xaxis": "x",
         "y": [
          0.9,
          0.89,
          0.6,
          0.63,
          0.66,
          0.8,
          0.97,
          0.92,
          0.73,
          0.87,
          0.71,
          0.88,
          0.82,
          0.62,
          0.84,
          0.97,
          0.93,
          0.94,
          0.97,
          0.67,
          0.78,
          0.74,
          0.84,
          0.8,
          0.89,
          0.71
         ],
         "yaxis": "y"
        },
        {
         "hovertemplate": "Nome=Anderson<br>Qualidade=%{x}<br>Desempenho=%{y}<extra></extra>",
         "legendgroup": "Anderson",
         "marker": {
          "color": "#FF97FF",
          "symbol": "circle"
         },
         "mode": "markers",
         "name": "Anderson",
         "orientation": "v",
         "showlegend": true,
         "type": "scatter",
         "x": [
          0.94,
          0.94,
          0.97,
          0.99,
          0.95,
          0.97,
          0.99,
          0.99,
          0.99,
          0.99,
          0.95,
          0.97,
          0.97,
          0.97,
          0.94,
          0.98,
          0.94,
          0.97,
          0.99,
          0.99,
          0.94,
          0.98,
          0.97,
          0.98,
          0.98,
          0.94,
          0.99,
          0.97,
          0.97,
          0.97,
          0.97,
          0.98,
          0.97,
          0.97,
          0.98,
          0.99,
          0.99,
          0.97
         ],
         "xaxis": "x",
         "y": [
          0.97,
          0.93,
          0.68,
          0.8,
          0.9,
          0.82,
          0.92,
          0.92,
          0.73,
          0.94,
          0.71,
          0.84,
          0.89,
          0.65,
          0.73,
          0.96,
          0.65,
          0.89,
          0.85,
          0.92,
          0.97,
          0.91,
          0.84,
          0.8,
          0.9,
          0.99,
          0.94,
          0.77,
          0.76,
          0.69,
          0.8,
          0.89,
          0.67,
          0.65,
          0.9,
          0.79,
          0.73,
          0.89
         ],
         "yaxis": "y"
        },
        {
         "hovertemplate": "Nome=Cleber<br>Qualidade=%{x}<br>Desempenho=%{y}<extra></extra>",
         "legendgroup": "Cleber",
         "marker": {
          "color": "#FECB52",
          "symbol": "circle"
         },
         "mode": "markers",
         "name": "Cleber",
         "orientation": "v",
         "showlegend": true,
         "type": "scatter",
         "x": [
          0.92,
          0.94,
          0.99,
          0.94,
          0.99,
          0.99,
          0.99,
          1,
          0.94,
          0.98,
          0.89,
          0.98,
          0.86,
          0.99,
          1,
          0.99,
          0.96,
          0.97,
          0.97,
          0.93,
          0.99,
          0.96,
          0.96,
          0.96,
          0.96,
          0.99,
          1
         ],
         "xaxis": "x",
         "y": [
          0.88,
          0.64,
          0.71,
          0.7,
          0.88,
          0.86,
          0.92,
          0.98,
          0.85,
          0.9,
          0.93,
          0.81,
          0.74,
          0.69,
          0.98,
          0.87,
          0.66,
          0.81,
          0.81,
          0.99,
          0.93,
          0.66,
          0.72,
          0.67,
          0.67,
          0.85,
          0.95
         ],
         "yaxis": "y"
        }
       ],
       "layout": {
        "legend": {
         "title": {
          "text": "Nome"
         },
         "tracegroupgap": 0
        },
        "margin": {
         "t": 60
        },
        "template": {
         "data": {
          "bar": [
           {
            "error_x": {
             "color": "#2a3f5f"
            },
            "error_y": {
             "color": "#2a3f5f"
            },
            "marker": {
             "line": {
              "color": "#E5ECF6",
              "width": 0.5
             },
             "pattern": {
              "fillmode": "overlay",
              "size": 10,
              "solidity": 0.2
             }
            },
            "type": "bar"
           }
          ],
          "barpolar": [
           {
            "marker": {
             "line": {
              "color": "#E5ECF6",
              "width": 0.5
             },
             "pattern": {
              "fillmode": "overlay",
              "size": 10,
              "solidity": 0.2
             }
            },
            "type": "barpolar"
           }
          ],
          "carpet": [
           {
            "aaxis": {
             "endlinecolor": "#2a3f5f",
             "gridcolor": "white",
             "linecolor": "white",
             "minorgridcolor": "white",
             "startlinecolor": "#2a3f5f"
            },
            "baxis": {
             "endlinecolor": "#2a3f5f",
             "gridcolor": "white",
             "linecolor": "white",
             "minorgridcolor": "white",
             "startlinecolor": "#2a3f5f"
            },
            "type": "carpet"
           }
          ],
          "choropleth": [
           {
            "colorbar": {
             "outlinewidth": 0,
             "ticks": ""
            },
            "type": "choropleth"
           }
          ],
          "contour": [
           {
            "colorbar": {
             "outlinewidth": 0,
             "ticks": ""
            },
            "colorscale": [
             [
              0,
              "#0d0887"
             ],
             [
              0.1111111111111111,
              "#46039f"
             ],
             [
              0.2222222222222222,
              "#7201a8"
             ],
             [
              0.3333333333333333,
              "#9c179e"
             ],
             [
              0.4444444444444444,
              "#bd3786"
             ],
             [
              0.5555555555555556,
              "#d8576b"
             ],
             [
              0.6666666666666666,
              "#ed7953"
             ],
             [
              0.7777777777777778,
              "#fb9f3a"
             ],
             [
              0.8888888888888888,
              "#fdca26"
             ],
             [
              1,
              "#f0f921"
             ]
            ],
            "type": "contour"
           }
          ],
          "contourcarpet": [
           {
            "colorbar": {
             "outlinewidth": 0,
             "ticks": ""
            },
            "type": "contourcarpet"
           }
          ],
          "heatmap": [
           {
            "colorbar": {
             "outlinewidth": 0,
             "ticks": ""
            },
            "colorscale": [
             [
              0,
              "#0d0887"
             ],
             [
              0.1111111111111111,
              "#46039f"
             ],
             [
              0.2222222222222222,
              "#7201a8"
             ],
             [
              0.3333333333333333,
              "#9c179e"
             ],
             [
              0.4444444444444444,
              "#bd3786"
             ],
             [
              0.5555555555555556,
              "#d8576b"
             ],
             [
              0.6666666666666666,
              "#ed7953"
             ],
             [
              0.7777777777777778,
              "#fb9f3a"
             ],
             [
              0.8888888888888888,
              "#fdca26"
             ],
             [
              1,
              "#f0f921"
             ]
            ],
            "type": "heatmap"
           }
          ],
          "heatmapgl": [
           {
            "colorbar": {
             "outlinewidth": 0,
             "ticks": ""
            },
            "colorscale": [
             [
              0,
              "#0d0887"
             ],
             [
              0.1111111111111111,
              "#46039f"
             ],
             [
              0.2222222222222222,
              "#7201a8"
             ],
             [
              0.3333333333333333,
              "#9c179e"
             ],
             [
              0.4444444444444444,
              "#bd3786"
             ],
             [
              0.5555555555555556,
              "#d8576b"
             ],
             [
              0.6666666666666666,
              "#ed7953"
             ],
             [
              0.7777777777777778,
              "#fb9f3a"
             ],
             [
              0.8888888888888888,
              "#fdca26"
             ],
             [
              1,
              "#f0f921"
             ]
            ],
            "type": "heatmapgl"
           }
          ],
          "histogram": [
           {
            "marker": {
             "pattern": {
              "fillmode": "overlay",
              "size": 10,
              "solidity": 0.2
             }
            },
            "type": "histogram"
           }
          ],
          "histogram2d": [
           {
            "colorbar": {
             "outlinewidth": 0,
             "ticks": ""
            },
            "colorscale": [
             [
              0,
              "#0d0887"
             ],
             [
              0.1111111111111111,
              "#46039f"
             ],
             [
              0.2222222222222222,
              "#7201a8"
             ],
             [
              0.3333333333333333,
              "#9c179e"
             ],
             [
              0.4444444444444444,
              "#bd3786"
             ],
             [
              0.5555555555555556,
              "#d8576b"
             ],
             [
              0.6666666666666666,
              "#ed7953"
             ],
             [
              0.7777777777777778,
              "#fb9f3a"
             ],
             [
              0.8888888888888888,
              "#fdca26"
             ],
             [
              1,
              "#f0f921"
             ]
            ],
            "type": "histogram2d"
           }
          ],
          "histogram2dcontour": [
           {
            "colorbar": {
             "outlinewidth": 0,
             "ticks": ""
            },
            "colorscale": [
             [
              0,
              "#0d0887"
             ],
             [
              0.1111111111111111,
              "#46039f"
             ],
             [
              0.2222222222222222,
              "#7201a8"
             ],
             [
              0.3333333333333333,
              "#9c179e"
             ],
             [
              0.4444444444444444,
              "#bd3786"
             ],
             [
              0.5555555555555556,
              "#d8576b"
             ],
             [
              0.6666666666666666,
              "#ed7953"
             ],
             [
              0.7777777777777778,
              "#fb9f3a"
             ],
             [
              0.8888888888888888,
              "#fdca26"
             ],
             [
              1,
              "#f0f921"
             ]
            ],
            "type": "histogram2dcontour"
           }
          ],
          "mesh3d": [
           {
            "colorbar": {
             "outlinewidth": 0,
             "ticks": ""
            },
            "type": "mesh3d"
           }
          ],
          "parcoords": [
           {
            "line": {
             "colorbar": {
              "outlinewidth": 0,
              "ticks": ""
             }
            },
            "type": "parcoords"
           }
          ],
          "pie": [
           {
            "automargin": true,
            "type": "pie"
           }
          ],
          "scatter": [
           {
            "marker": {
             "colorbar": {
              "outlinewidth": 0,
              "ticks": ""
             }
            },
            "type": "scatter"
           }
          ],
          "scatter3d": [
           {
            "line": {
             "colorbar": {
              "outlinewidth": 0,
              "ticks": ""
             }
            },
            "marker": {
             "colorbar": {
              "outlinewidth": 0,
              "ticks": ""
             }
            },
            "type": "scatter3d"
           }
          ],
          "scattercarpet": [
           {
            "marker": {
             "colorbar": {
              "outlinewidth": 0,
              "ticks": ""
             }
            },
            "type": "scattercarpet"
           }
          ],
          "scattergeo": [
           {
            "marker": {
             "colorbar": {
              "outlinewidth": 0,
              "ticks": ""
             }
            },
            "type": "scattergeo"
           }
          ],
          "scattergl": [
           {
            "marker": {
             "colorbar": {
              "outlinewidth": 0,
              "ticks": ""
             }
            },
            "type": "scattergl"
           }
          ],
          "scattermapbox": [
           {
            "marker": {
             "colorbar": {
              "outlinewidth": 0,
              "ticks": ""
             }
            },
            "type": "scattermapbox"
           }
          ],
          "scatterpolar": [
           {
            "marker": {
             "colorbar": {
              "outlinewidth": 0,
              "ticks": ""
             }
            },
            "type": "scatterpolar"
           }
          ],
          "scatterpolargl": [
           {
            "marker": {
             "colorbar": {
              "outlinewidth": 0,
              "ticks": ""
             }
            },
            "type": "scatterpolargl"
           }
          ],
          "scatterternary": [
           {
            "marker": {
             "colorbar": {
              "outlinewidth": 0,
              "ticks": ""
             }
            },
            "type": "scatterternary"
           }
          ],
          "surface": [
           {
            "colorbar": {
             "outlinewidth": 0,
             "ticks": ""
            },
            "colorscale": [
             [
              0,
              "#0d0887"
             ],
             [
              0.1111111111111111,
              "#46039f"
             ],
             [
              0.2222222222222222,
              "#7201a8"
             ],
             [
              0.3333333333333333,
              "#9c179e"
             ],
             [
              0.4444444444444444,
              "#bd3786"
             ],
             [
              0.5555555555555556,
              "#d8576b"
             ],
             [
              0.6666666666666666,
              "#ed7953"
             ],
             [
              0.7777777777777778,
              "#fb9f3a"
             ],
             [
              0.8888888888888888,
              "#fdca26"
             ],
             [
              1,
              "#f0f921"
             ]
            ],
            "type": "surface"
           }
          ],
          "table": [
           {
            "cells": {
             "fill": {
              "color": "#EBF0F8"
             },
             "line": {
              "color": "white"
             }
            },
            "header": {
             "fill": {
              "color": "#C8D4E3"
             },
             "line": {
              "color": "white"
             }
            },
            "type": "table"
           }
          ]
         },
         "layout": {
          "annotationdefaults": {
           "arrowcolor": "#2a3f5f",
           "arrowhead": 0,
           "arrowwidth": 1
          },
          "autotypenumbers": "strict",
          "coloraxis": {
           "colorbar": {
            "outlinewidth": 0,
            "ticks": ""
           }
          },
          "colorscale": {
           "diverging": [
            [
             0,
             "#8e0152"
            ],
            [
             0.1,
             "#c51b7d"
            ],
            [
             0.2,
             "#de77ae"
            ],
            [
             0.3,
             "#f1b6da"
            ],
            [
             0.4,
             "#fde0ef"
            ],
            [
             0.5,
             "#f7f7f7"
            ],
            [
             0.6,
             "#e6f5d0"
            ],
            [
             0.7,
             "#b8e186"
            ],
            [
             0.8,
             "#7fbc41"
            ],
            [
             0.9,
             "#4d9221"
            ],
            [
             1,
             "#276419"
            ]
           ],
           "sequential": [
            [
             0,
             "#0d0887"
            ],
            [
             0.1111111111111111,
             "#46039f"
            ],
            [
             0.2222222222222222,
             "#7201a8"
            ],
            [
             0.3333333333333333,
             "#9c179e"
            ],
            [
             0.4444444444444444,
             "#bd3786"
            ],
            [
             0.5555555555555556,
             "#d8576b"
            ],
            [
             0.6666666666666666,
             "#ed7953"
            ],
            [
             0.7777777777777778,
             "#fb9f3a"
            ],
            [
             0.8888888888888888,
             "#fdca26"
            ],
            [
             1,
             "#f0f921"
            ]
           ],
           "sequentialminus": [
            [
             0,
             "#0d0887"
            ],
            [
             0.1111111111111111,
             "#46039f"
            ],
            [
             0.2222222222222222,
             "#7201a8"
            ],
            [
             0.3333333333333333,
             "#9c179e"
            ],
            [
             0.4444444444444444,
             "#bd3786"
            ],
            [
             0.5555555555555556,
             "#d8576b"
            ],
            [
             0.6666666666666666,
             "#ed7953"
            ],
            [
             0.7777777777777778,
             "#fb9f3a"
            ],
            [
             0.8888888888888888,
             "#fdca26"
            ],
            [
             1,
             "#f0f921"
            ]
           ]
          },
          "colorway": [
           "#636efa",
           "#EF553B",
           "#00cc96",
           "#ab63fa",
           "#FFA15A",
           "#19d3f3",
           "#FF6692",
           "#B6E880",
           "#FF97FF",
           "#FECB52"
          ],
          "font": {
           "color": "#2a3f5f"
          },
          "geo": {
           "bgcolor": "white",
           "lakecolor": "white",
           "landcolor": "#E5ECF6",
           "showlakes": true,
           "showland": true,
           "subunitcolor": "white"
          },
          "hoverlabel": {
           "align": "left"
          },
          "hovermode": "closest",
          "mapbox": {
           "style": "light"
          },
          "paper_bgcolor": "white",
          "plot_bgcolor": "#E5ECF6",
          "polar": {
           "angularaxis": {
            "gridcolor": "white",
            "linecolor": "white",
            "ticks": ""
           },
           "bgcolor": "#E5ECF6",
           "radialaxis": {
            "gridcolor": "white",
            "linecolor": "white",
            "ticks": ""
           }
          },
          "scene": {
           "xaxis": {
            "backgroundcolor": "#E5ECF6",
            "gridcolor": "white",
            "gridwidth": 2,
            "linecolor": "white",
            "showbackground": true,
            "ticks": "",
            "zerolinecolor": "white"
           },
           "yaxis": {
            "backgroundcolor": "#E5ECF6",
            "gridcolor": "white",
            "gridwidth": 2,
            "linecolor": "white",
            "showbackground": true,
            "ticks": "",
            "zerolinecolor": "white"
           },
           "zaxis": {
            "backgroundcolor": "#E5ECF6",
            "gridcolor": "white",
            "gridwidth": 2,
            "linecolor": "white",
            "showbackground": true,
            "ticks": "",
            "zerolinecolor": "white"
           }
          },
          "shapedefaults": {
           "line": {
            "color": "#2a3f5f"
           }
          },
          "ternary": {
           "aaxis": {
            "gridcolor": "white",
            "linecolor": "white",
            "ticks": ""
           },
           "baxis": {
            "gridcolor": "white",
            "linecolor": "white",
            "ticks": ""
           },
           "bgcolor": "#E5ECF6",
           "caxis": {
            "gridcolor": "white",
            "linecolor": "white",
            "ticks": ""
           }
          },
          "title": {
           "x": 0.05
          },
          "xaxis": {
           "automargin": true,
           "gridcolor": "white",
           "linecolor": "white",
           "ticks": "",
           "title": {
            "standoff": 15
           },
           "zerolinecolor": "white",
           "zerolinewidth": 2
          },
          "yaxis": {
           "automargin": true,
           "gridcolor": "white",
           "linecolor": "white",
           "ticks": "",
           "title": {
            "standoff": 15
           },
           "zerolinecolor": "white",
           "zerolinewidth": 2
          }
         }
        },
        "xaxis": {
         "anchor": "y",
         "domain": [
          0,
          1
         ],
         "title": {
          "text": "Qualidade"
         }
        },
        "yaxis": {
         "anchor": "x",
         "domain": [
          0,
          1
         ],
         "title": {
          "text": "Desempenho"
         }
        }
       }
      },
      "text/html": [
       "<div>                            <div id=\"0c4b70f8-33da-40f3-8a43-4c3719a24a7b\" class=\"plotly-graph-div\" style=\"height:525px; width:100%;\"></div>            <script type=\"text/javascript\">                require([\"plotly\"], function(Plotly) {                    window.PLOTLYENV=window.PLOTLYENV || {};                                    if (document.getElementById(\"0c4b70f8-33da-40f3-8a43-4c3719a24a7b\")) {                    Plotly.newPlot(                        \"0c4b70f8-33da-40f3-8a43-4c3719a24a7b\",                        [{\"hovertemplate\":\"Nome=Miriam<br>Qualidade=%{x}<br>Desempenho=%{y}<extra></extra>\",\"legendgroup\":\"Miriam\",\"marker\":{\"color\":\"#636efa\",\"symbol\":\"circle\"},\"mode\":\"markers\",\"name\":\"Miriam\",\"orientation\":\"v\",\"showlegend\":true,\"x\":[0.96,0.96,0.97,0.99,0.98,1.0,0.99,0.99,0.92,0.92,0.97,0.97,0.99,0.98,0.99,0.92,0.98,0.96,0.97,0.97,0.97,0.97,0.96,0.97,0.96,0.96,0.98,0.95],\"xaxis\":\"x\",\"y\":[0.84,0.85,0.82,0.8,0.86,0.93,0.95,0.87,0.74,0.67,0.82,0.82,0.91,0.91,0.92,0.68,0.88,0.82,0.92,0.78,0.92,0.82,0.72,0.92,0.86,0.66,0.85,1.0],\"yaxis\":\"y\",\"type\":\"scatter\"},{\"hovertemplate\":\"Nome=Daniel<br>Qualidade=%{x}<br>Desempenho=%{y}<extra></extra>\",\"legendgroup\":\"Daniel\",\"marker\":{\"color\":\"#EF553B\",\"symbol\":\"circle\"},\"mode\":\"markers\",\"name\":\"Daniel\",\"orientation\":\"v\",\"showlegend\":true,\"x\":[0.95,0.9,0.95,0.98,0.97,0.98,0.98,0.96,0.99,0.79,0.93,0.99,0.98,0.96,0.99,0.98,0.99,0.97,0.98,0.95,0.94,0.94,0.97,0.95,0.97,0.93,0.93,0.97,0.94,0.94,0.96,0.98,0.99,0.98],\"xaxis\":\"x\",\"y\":[0.79,0.95,0.88,0.92,0.85,0.96,0.86,0.89,0.9,0.71,0.98,0.96,0.92,0.89,0.71,0.86,0.94,0.68,0.94,0.78,0.85,0.91,0.89,0.75,0.75,0.74,0.73,0.83,0.85,0.85,0.71,0.73,0.77,0.95],\"yaxis\":\"y\",\"type\":\"scatter\"},{\"hovertemplate\":\"Nome=Carlos<br>Qualidade=%{x}<br>Desempenho=%{y}<extra></extra>\",\"legendgroup\":\"Carlos\",\"marker\":{\"color\":\"#00cc96\",\"symbol\":\"circle\"},\"mode\":\"markers\",\"name\":\"Carlos\",\"orientation\":\"v\",\"showlegend\":true,\"x\":[0.93,0.96,0.89,0.94,0.97,0.94,0.98,0.99,0.95,0.99,0.86,1.0,0.96,0.98,0.92,0.95,0.99,0.99,0.93,0.89,0.99,0.99,0.99,0.99,0.93,0.97],\"xaxis\":\"x\",\"y\":[0.68,0.75,0.93,0.68,0.54,0.73,0.88,0.91,0.78,0.8,0.74,0.97,0.66,0.92,0.86,0.91,0.78,0.83,0.72,0.89,0.68,0.79,0.86,0.64,0.9,0.66],\"yaxis\":\"y\",\"type\":\"scatter\"},{\"hovertemplate\":\"Nome=Fl\\u00e1via<br>Qualidade=%{x}<br>Desempenho=%{y}<extra></extra>\",\"legendgroup\":\"Fl\\u00e1via\",\"marker\":{\"color\":\"#ab63fa\",\"symbol\":\"circle\"},\"mode\":\"markers\",\"name\":\"Fl\\u00e1via\",\"orientation\":\"v\",\"showlegend\":true,\"x\":[0.94,0.93,1.0,0.99,0.98,0.97,0.98,0.98,0.99,0.97,0.91,0.99,0.98,0.9,0.97,0.79,0.95,0.94,0.99,0.98,0.94,1.0,0.99,0.97,0.99,0.98,0.81,0.96,0.96],\"xaxis\":\"x\",\"y\":[0.98,0.96,0.93,0.85,0.91,0.91,0.81,0.94,0.89,0.75,0.6,0.87,0.86,0.81,0.82,0.71,0.71,0.89,0.85,0.79,0.98,0.77,0.83,0.69,0.87,0.77,0.8,0.79,0.69],\"yaxis\":\"y\",\"type\":\"scatter\"},{\"hovertemplate\":\"Nome=Elisabeth<br>Qualidade=%{x}<br>Desempenho=%{y}<extra></extra>\",\"legendgroup\":\"Elisabeth\",\"marker\":{\"color\":\"#FFA15A\",\"symbol\":\"circle\"},\"mode\":\"markers\",\"name\":\"Elisabeth\",\"orientation\":\"v\",\"showlegend\":true,\"x\":[0.96,0.95,0.99,0.99,0.94,0.99,0.94,0.98,0.94,1.0,0.99,0.99,0.97,0.97,0.89,0.99,0.93,0.99,0.98,0.97,0.98,0.98,0.99,0.99,0.98,0.99,0.9],\"xaxis\":\"x\",\"y\":[0.64,0.65,0.9,0.93,0.65,0.92,0.73,0.88,0.96,0.99,0.8,0.9,0.54,0.91,0.94,0.92,0.97,0.88,0.78,0.78,0.73,0.73,0.93,0.88,0.74,0.79,0.99],\"yaxis\":\"y\",\"type\":\"scatter\"},{\"hovertemplate\":\"Nome=Adriana<br>Qualidade=%{x}<br>Desempenho=%{y}<extra></extra>\",\"legendgroup\":\"Adriana\",\"marker\":{\"color\":\"#19d3f3\",\"symbol\":\"circle\"},\"mode\":\"markers\",\"name\":\"Adriana\",\"orientation\":\"v\",\"showlegend\":true,\"x\":[0.89,0.95,0.96,0.95,0.98,0.86,0.9,0.98,0.92,0.99,0.89,0.98,1.0,0.99,0.99,0.98,0.98,0.99,0.94,0.93,0.99,0.99,0.99,0.88,0.95,0.99,0.99,0.99,0.99,0.99,0.99,0.98,0.94,0.97],\"xaxis\":\"x\",\"y\":[0.95,0.97,0.71,0.77,0.7,0.74,0.81,0.87,0.86,0.92,0.73,0.74,0.93,0.95,0.8,0.86,0.75,0.89,0.85,0.7,0.81,1.03,0.83,0.94,0.76,0.78,0.58,0.67,0.89,0.88,0.89,0.66,0.89,0.66],\"yaxis\":\"y\",\"type\":\"scatter\"},{\"hovertemplate\":\"Nome=Isabel<br>Qualidade=%{x}<br>Desempenho=%{y}<extra></extra>\",\"legendgroup\":\"Isabel\",\"marker\":{\"color\":\"#FF6692\",\"symbol\":\"circle\"},\"mode\":\"markers\",\"name\":\"Isabel\",\"orientation\":\"v\",\"showlegend\":true,\"x\":[0.94,0.94,0.97,0.97,0.98,0.99,0.98,1.0,0.98,0.99,0.98,1.0,0.99,0.99,0.99,0.95,0.97,0.99,0.94,0.96,0.97,0.98,0.98,0.93,0.98,0.99,0.94,0.99,0.99],\"xaxis\":\"x\",\"y\":[0.63,0.7,0.65,0.82,0.86,0.69,0.81,0.92,0.87,0.93,0.96,0.92,0.88,0.81,0.94,0.64,0.68,0.7,0.85,0.85,0.62,0.95,0.61,0.74,0.86,0.72,0.86,0.74,0.94],\"yaxis\":\"y\",\"type\":\"scatter\"},{\"hovertemplate\":\"Nome=Solange<br>Qualidade=%{x}<br>Desempenho=%{y}<extra></extra>\",\"legendgroup\":\"Solange\",\"marker\":{\"color\":\"#B6E880\",\"symbol\":\"circle\"},\"mode\":\"markers\",\"name\":\"Solange\",\"orientation\":\"v\",\"showlegend\":true,\"x\":[0.95,0.92,0.91,0.97,0.96,0.84,1.0,0.99,0.99,0.97,0.99,0.98,0.97,0.91,1.0,0.89,0.98,1.0,0.95,0.92,0.98,0.99,0.98,0.99,1.0,0.93],\"xaxis\":\"x\",\"y\":[0.9,0.89,0.6,0.63,0.66,0.8,0.97,0.92,0.73,0.87,0.71,0.88,0.82,0.62,0.84,0.97,0.93,0.94,0.97,0.67,0.78,0.74,0.84,0.8,0.89,0.71],\"yaxis\":\"y\",\"type\":\"scatter\"},{\"hovertemplate\":\"Nome=Anderson<br>Qualidade=%{x}<br>Desempenho=%{y}<extra></extra>\",\"legendgroup\":\"Anderson\",\"marker\":{\"color\":\"#FF97FF\",\"symbol\":\"circle\"},\"mode\":\"markers\",\"name\":\"Anderson\",\"orientation\":\"v\",\"showlegend\":true,\"x\":[0.94,0.94,0.97,0.99,0.95,0.97,0.99,0.99,0.99,0.99,0.95,0.97,0.97,0.97,0.94,0.98,0.94,0.97,0.99,0.99,0.94,0.98,0.97,0.98,0.98,0.94,0.99,0.97,0.97,0.97,0.97,0.98,0.97,0.97,0.98,0.99,0.99,0.97],\"xaxis\":\"x\",\"y\":[0.97,0.93,0.68,0.8,0.9,0.82,0.92,0.92,0.73,0.94,0.71,0.84,0.89,0.65,0.73,0.96,0.65,0.89,0.85,0.92,0.97,0.91,0.84,0.8,0.9,0.99,0.94,0.77,0.76,0.69,0.8,0.89,0.67,0.65,0.9,0.79,0.73,0.89],\"yaxis\":\"y\",\"type\":\"scatter\"},{\"hovertemplate\":\"Nome=Cleber<br>Qualidade=%{x}<br>Desempenho=%{y}<extra></extra>\",\"legendgroup\":\"Cleber\",\"marker\":{\"color\":\"#FECB52\",\"symbol\":\"circle\"},\"mode\":\"markers\",\"name\":\"Cleber\",\"orientation\":\"v\",\"showlegend\":true,\"x\":[0.92,0.94,0.99,0.94,0.99,0.99,0.99,1.0,0.94,0.98,0.89,0.98,0.86,0.99,1.0,0.99,0.96,0.97,0.97,0.93,0.99,0.96,0.96,0.96,0.96,0.99,1.0],\"xaxis\":\"x\",\"y\":[0.88,0.64,0.71,0.7,0.88,0.86,0.92,0.98,0.85,0.9,0.93,0.81,0.74,0.69,0.98,0.87,0.66,0.81,0.81,0.99,0.93,0.66,0.72,0.67,0.67,0.85,0.95],\"yaxis\":\"y\",\"type\":\"scatter\"}],                        {\"template\":{\"data\":{\"bar\":[{\"error_x\":{\"color\":\"#2a3f5f\"},\"error_y\":{\"color\":\"#2a3f5f\"},\"marker\":{\"line\":{\"color\":\"#E5ECF6\",\"width\":0.5},\"pattern\":{\"fillmode\":\"overlay\",\"size\":10,\"solidity\":0.2}},\"type\":\"bar\"}],\"barpolar\":[{\"marker\":{\"line\":{\"color\":\"#E5ECF6\",\"width\":0.5},\"pattern\":{\"fillmode\":\"overlay\",\"size\":10,\"solidity\":0.2}},\"type\":\"barpolar\"}],\"carpet\":[{\"aaxis\":{\"endlinecolor\":\"#2a3f5f\",\"gridcolor\":\"white\",\"linecolor\":\"white\",\"minorgridcolor\":\"white\",\"startlinecolor\":\"#2a3f5f\"},\"baxis\":{\"endlinecolor\":\"#2a3f5f\",\"gridcolor\":\"white\",\"linecolor\":\"white\",\"minorgridcolor\":\"white\",\"startlinecolor\":\"#2a3f5f\"},\"type\":\"carpet\"}],\"choropleth\":[{\"colorbar\":{\"outlinewidth\":0,\"ticks\":\"\"},\"type\":\"choropleth\"}],\"contour\":[{\"colorbar\":{\"outlinewidth\":0,\"ticks\":\"\"},\"colorscale\":[[0.0,\"#0d0887\"],[0.1111111111111111,\"#46039f\"],[0.2222222222222222,\"#7201a8\"],[0.3333333333333333,\"#9c179e\"],[0.4444444444444444,\"#bd3786\"],[0.5555555555555556,\"#d8576b\"],[0.6666666666666666,\"#ed7953\"],[0.7777777777777778,\"#fb9f3a\"],[0.8888888888888888,\"#fdca26\"],[1.0,\"#f0f921\"]],\"type\":\"contour\"}],\"contourcarpet\":[{\"colorbar\":{\"outlinewidth\":0,\"ticks\":\"\"},\"type\":\"contourcarpet\"}],\"heatmap\":[{\"colorbar\":{\"outlinewidth\":0,\"ticks\":\"\"},\"colorscale\":[[0.0,\"#0d0887\"],[0.1111111111111111,\"#46039f\"],[0.2222222222222222,\"#7201a8\"],[0.3333333333333333,\"#9c179e\"],[0.4444444444444444,\"#bd3786\"],[0.5555555555555556,\"#d8576b\"],[0.6666666666666666,\"#ed7953\"],[0.7777777777777778,\"#fb9f3a\"],[0.8888888888888888,\"#fdca26\"],[1.0,\"#f0f921\"]],\"type\":\"heatmap\"}],\"heatmapgl\":[{\"colorbar\":{\"outlinewidth\":0,\"ticks\":\"\"},\"colorscale\":[[0.0,\"#0d0887\"],[0.1111111111111111,\"#46039f\"],[0.2222222222222222,\"#7201a8\"],[0.3333333333333333,\"#9c179e\"],[0.4444444444444444,\"#bd3786\"],[0.5555555555555556,\"#d8576b\"],[0.6666666666666666,\"#ed7953\"],[0.7777777777777778,\"#fb9f3a\"],[0.8888888888888888,\"#fdca26\"],[1.0,\"#f0f921\"]],\"type\":\"heatmapgl\"}],\"histogram\":[{\"marker\":{\"pattern\":{\"fillmode\":\"overlay\",\"size\":10,\"solidity\":0.2}},\"type\":\"histogram\"}],\"histogram2d\":[{\"colorbar\":{\"outlinewidth\":0,\"ticks\":\"\"},\"colorscale\":[[0.0,\"#0d0887\"],[0.1111111111111111,\"#46039f\"],[0.2222222222222222,\"#7201a8\"],[0.3333333333333333,\"#9c179e\"],[0.4444444444444444,\"#bd3786\"],[0.5555555555555556,\"#d8576b\"],[0.6666666666666666,\"#ed7953\"],[0.7777777777777778,\"#fb9f3a\"],[0.8888888888888888,\"#fdca26\"],[1.0,\"#f0f921\"]],\"type\":\"histogram2d\"}],\"histogram2dcontour\":[{\"colorbar\":{\"outlinewidth\":0,\"ticks\":\"\"},\"colorscale\":[[0.0,\"#0d0887\"],[0.1111111111111111,\"#46039f\"],[0.2222222222222222,\"#7201a8\"],[0.3333333333333333,\"#9c179e\"],[0.4444444444444444,\"#bd3786\"],[0.5555555555555556,\"#d8576b\"],[0.6666666666666666,\"#ed7953\"],[0.7777777777777778,\"#fb9f3a\"],[0.8888888888888888,\"#fdca26\"],[1.0,\"#f0f921\"]],\"type\":\"histogram2dcontour\"}],\"mesh3d\":[{\"colorbar\":{\"outlinewidth\":0,\"ticks\":\"\"},\"type\":\"mesh3d\"}],\"parcoords\":[{\"line\":{\"colorbar\":{\"outlinewidth\":0,\"ticks\":\"\"}},\"type\":\"parcoords\"}],\"pie\":[{\"automargin\":true,\"type\":\"pie\"}],\"scatter\":[{\"marker\":{\"colorbar\":{\"outlinewidth\":0,\"ticks\":\"\"}},\"type\":\"scatter\"}],\"scatter3d\":[{\"line\":{\"colorbar\":{\"outlinewidth\":0,\"ticks\":\"\"}},\"marker\":{\"colorbar\":{\"outlinewidth\":0,\"ticks\":\"\"}},\"type\":\"scatter3d\"}],\"scattercarpet\":[{\"marker\":{\"colorbar\":{\"outlinewidth\":0,\"ticks\":\"\"}},\"type\":\"scattercarpet\"}],\"scattergeo\":[{\"marker\":{\"colorbar\":{\"outlinewidth\":0,\"ticks\":\"\"}},\"type\":\"scattergeo\"}],\"scattergl\":[{\"marker\":{\"colorbar\":{\"outlinewidth\":0,\"ticks\":\"\"}},\"type\":\"scattergl\"}],\"scattermapbox\":[{\"marker\":{\"colorbar\":{\"outlinewidth\":0,\"ticks\":\"\"}},\"type\":\"scattermapbox\"}],\"scatterpolar\":[{\"marker\":{\"colorbar\":{\"outlinewidth\":0,\"ticks\":\"\"}},\"type\":\"scatterpolar\"}],\"scatterpolargl\":[{\"marker\":{\"colorbar\":{\"outlinewidth\":0,\"ticks\":\"\"}},\"type\":\"scatterpolargl\"}],\"scatterternary\":[{\"marker\":{\"colorbar\":{\"outlinewidth\":0,\"ticks\":\"\"}},\"type\":\"scatterternary\"}],\"surface\":[{\"colorbar\":{\"outlinewidth\":0,\"ticks\":\"\"},\"colorscale\":[[0.0,\"#0d0887\"],[0.1111111111111111,\"#46039f\"],[0.2222222222222222,\"#7201a8\"],[0.3333333333333333,\"#9c179e\"],[0.4444444444444444,\"#bd3786\"],[0.5555555555555556,\"#d8576b\"],[0.6666666666666666,\"#ed7953\"],[0.7777777777777778,\"#fb9f3a\"],[0.8888888888888888,\"#fdca26\"],[1.0,\"#f0f921\"]],\"type\":\"surface\"}],\"table\":[{\"cells\":{\"fill\":{\"color\":\"#EBF0F8\"},\"line\":{\"color\":\"white\"}},\"header\":{\"fill\":{\"color\":\"#C8D4E3\"},\"line\":{\"color\":\"white\"}},\"type\":\"table\"}]},\"layout\":{\"annotationdefaults\":{\"arrowcolor\":\"#2a3f5f\",\"arrowhead\":0,\"arrowwidth\":1},\"autotypenumbers\":\"strict\",\"coloraxis\":{\"colorbar\":{\"outlinewidth\":0,\"ticks\":\"\"}},\"colorscale\":{\"diverging\":[[0,\"#8e0152\"],[0.1,\"#c51b7d\"],[0.2,\"#de77ae\"],[0.3,\"#f1b6da\"],[0.4,\"#fde0ef\"],[0.5,\"#f7f7f7\"],[0.6,\"#e6f5d0\"],[0.7,\"#b8e186\"],[0.8,\"#7fbc41\"],[0.9,\"#4d9221\"],[1,\"#276419\"]],\"sequential\":[[0.0,\"#0d0887\"],[0.1111111111111111,\"#46039f\"],[0.2222222222222222,\"#7201a8\"],[0.3333333333333333,\"#9c179e\"],[0.4444444444444444,\"#bd3786\"],[0.5555555555555556,\"#d8576b\"],[0.6666666666666666,\"#ed7953\"],[0.7777777777777778,\"#fb9f3a\"],[0.8888888888888888,\"#fdca26\"],[1.0,\"#f0f921\"]],\"sequentialminus\":[[0.0,\"#0d0887\"],[0.1111111111111111,\"#46039f\"],[0.2222222222222222,\"#7201a8\"],[0.3333333333333333,\"#9c179e\"],[0.4444444444444444,\"#bd3786\"],[0.5555555555555556,\"#d8576b\"],[0.6666666666666666,\"#ed7953\"],[0.7777777777777778,\"#fb9f3a\"],[0.8888888888888888,\"#fdca26\"],[1.0,\"#f0f921\"]]},\"colorway\":[\"#636efa\",\"#EF553B\",\"#00cc96\",\"#ab63fa\",\"#FFA15A\",\"#19d3f3\",\"#FF6692\",\"#B6E880\",\"#FF97FF\",\"#FECB52\"],\"font\":{\"color\":\"#2a3f5f\"},\"geo\":{\"bgcolor\":\"white\",\"lakecolor\":\"white\",\"landcolor\":\"#E5ECF6\",\"showlakes\":true,\"showland\":true,\"subunitcolor\":\"white\"},\"hoverlabel\":{\"align\":\"left\"},\"hovermode\":\"closest\",\"mapbox\":{\"style\":\"light\"},\"paper_bgcolor\":\"white\",\"plot_bgcolor\":\"#E5ECF6\",\"polar\":{\"angularaxis\":{\"gridcolor\":\"white\",\"linecolor\":\"white\",\"ticks\":\"\"},\"bgcolor\":\"#E5ECF6\",\"radialaxis\":{\"gridcolor\":\"white\",\"linecolor\":\"white\",\"ticks\":\"\"}},\"scene\":{\"xaxis\":{\"backgroundcolor\":\"#E5ECF6\",\"gridcolor\":\"white\",\"gridwidth\":2,\"linecolor\":\"white\",\"showbackground\":true,\"ticks\":\"\",\"zerolinecolor\":\"white\"},\"yaxis\":{\"backgroundcolor\":\"#E5ECF6\",\"gridcolor\":\"white\",\"gridwidth\":2,\"linecolor\":\"white\",\"showbackground\":true,\"ticks\":\"\",\"zerolinecolor\":\"white\"},\"zaxis\":{\"backgroundcolor\":\"#E5ECF6\",\"gridcolor\":\"white\",\"gridwidth\":2,\"linecolor\":\"white\",\"showbackground\":true,\"ticks\":\"\",\"zerolinecolor\":\"white\"}},\"shapedefaults\":{\"line\":{\"color\":\"#2a3f5f\"}},\"ternary\":{\"aaxis\":{\"gridcolor\":\"white\",\"linecolor\":\"white\",\"ticks\":\"\"},\"baxis\":{\"gridcolor\":\"white\",\"linecolor\":\"white\",\"ticks\":\"\"},\"bgcolor\":\"#E5ECF6\",\"caxis\":{\"gridcolor\":\"white\",\"linecolor\":\"white\",\"ticks\":\"\"}},\"title\":{\"x\":0.05},\"xaxis\":{\"automargin\":true,\"gridcolor\":\"white\",\"linecolor\":\"white\",\"ticks\":\"\",\"title\":{\"standoff\":15},\"zerolinecolor\":\"white\",\"zerolinewidth\":2},\"yaxis\":{\"automargin\":true,\"gridcolor\":\"white\",\"linecolor\":\"white\",\"ticks\":\"\",\"title\":{\"standoff\":15},\"zerolinecolor\":\"white\",\"zerolinewidth\":2}}},\"xaxis\":{\"anchor\":\"y\",\"domain\":[0.0,1.0],\"title\":{\"text\":\"Qualidade\"}},\"yaxis\":{\"anchor\":\"x\",\"domain\":[0.0,1.0],\"title\":{\"text\":\"Desempenho\"}},\"legend\":{\"title\":{\"text\":\"Nome\"},\"tracegroupgap\":0},\"margin\":{\"t\":60}},                        {\"responsive\": true}                    ).then(function(){\n",
       "                            \n",
       "var gd = document.getElementById('0c4b70f8-33da-40f3-8a43-4c3719a24a7b');\n",
       "var x = new MutationObserver(function (mutations, observer) {{\n",
       "        var display = window.getComputedStyle(gd).display;\n",
       "        if (!display || display === 'none') {{\n",
       "            console.log([gd, 'removed!']);\n",
       "            Plotly.purge(gd);\n",
       "            observer.disconnect();\n",
       "        }}\n",
       "}});\n",
       "\n",
       "// Listen for the removal of the full notebook cells\n",
       "var notebookContainer = gd.closest('#notebook-container');\n",
       "if (notebookContainer) {{\n",
       "    x.observe(notebookContainer, {childList: true});\n",
       "}}\n",
       "\n",
       "// Listen for the clearing of the current output cell\n",
       "var outputEl = gd.closest('.output');\n",
       "if (outputEl) {{\n",
       "    x.observe(outputEl, {childList: true});\n",
       "}}\n",
       "\n",
       "                        })                };                });            </script>        </div>"
      ]
     },
     "metadata": {},
     "output_type": "display_data"
    }
   ],
   "source": [
    "data = Dim_Pessoa_Plano\n",
    "\n",
    "fig = px.scatter(data, x=\"Qualidade\", y=\"Desempenho\", color=\"Nome\")\n",
    "fig.show()"
   ]
  },
  {
   "cell_type": "code",
   "execution_count": 677,
   "id": "9bf77f9c",
   "metadata": {},
   "outputs": [
    {
     "data": {
      "text/html": [
       "<div>\n",
       "<style scoped>\n",
       "    .dataframe tbody tr th:only-of-type {\n",
       "        vertical-align: middle;\n",
       "    }\n",
       "\n",
       "    .dataframe tbody tr th {\n",
       "        vertical-align: top;\n",
       "    }\n",
       "\n",
       "    .dataframe thead th {\n",
       "        text-align: right;\n",
       "    }\n",
       "</style>\n",
       "<table border=\"1\" class=\"dataframe\">\n",
       "  <thead>\n",
       "    <tr style=\"text-align: right;\">\n",
       "      <th></th>\n",
       "      <th>Setores</th>\n",
       "      <th>Nome</th>\n",
       "      <th>OEE</th>\n",
       "      <th>Refugo</th>\n",
       "    </tr>\n",
       "  </thead>\n",
       "  <tbody>\n",
       "    <tr>\n",
       "      <th>0</th>\n",
       "      <td>Extrusão</td>\n",
       "      <td>Miriam</td>\n",
       "      <td>0.78</td>\n",
       "      <td>0.04</td>\n",
       "    </tr>\n",
       "    <tr>\n",
       "      <th>1</th>\n",
       "      <td>Mistura</td>\n",
       "      <td>Daniel</td>\n",
       "      <td>0.70</td>\n",
       "      <td>0.05</td>\n",
       "    </tr>\n",
       "    <tr>\n",
       "      <th>2</th>\n",
       "      <td>Modelagem</td>\n",
       "      <td>Carlos</td>\n",
       "      <td>0.60</td>\n",
       "      <td>0.07</td>\n",
       "    </tr>\n",
       "    <tr>\n",
       "      <th>3</th>\n",
       "      <td>Prensagem</td>\n",
       "      <td>Flávia</td>\n",
       "      <td>0.89</td>\n",
       "      <td>0.06</td>\n",
       "    </tr>\n",
       "    <tr>\n",
       "      <th>4</th>\n",
       "      <td>Retífica</td>\n",
       "      <td>Elisabeth</td>\n",
       "      <td>0.55</td>\n",
       "      <td>0.04</td>\n",
       "    </tr>\n",
       "    <tr>\n",
       "      <th>...</th>\n",
       "      <td>...</td>\n",
       "      <td>...</td>\n",
       "      <td>...</td>\n",
       "      <td>...</td>\n",
       "    </tr>\n",
       "    <tr>\n",
       "      <th>293</th>\n",
       "      <td>Mistura</td>\n",
       "      <td>Isabel</td>\n",
       "      <td>0.88</td>\n",
       "      <td>0.01</td>\n",
       "    </tr>\n",
       "    <tr>\n",
       "      <th>294</th>\n",
       "      <td>Modelagem</td>\n",
       "      <td>Carlos</td>\n",
       "      <td>0.62</td>\n",
       "      <td>0.03</td>\n",
       "    </tr>\n",
       "    <tr>\n",
       "      <th>295</th>\n",
       "      <td>Prensagem</td>\n",
       "      <td>Flávia</td>\n",
       "      <td>0.64</td>\n",
       "      <td>0.04</td>\n",
       "    </tr>\n",
       "    <tr>\n",
       "      <th>296</th>\n",
       "      <td>Retífica</td>\n",
       "      <td>Elisabeth</td>\n",
       "      <td>0.88</td>\n",
       "      <td>0.10</td>\n",
       "    </tr>\n",
       "    <tr>\n",
       "      <th>297</th>\n",
       "      <td>Mistura</td>\n",
       "      <td>Daniel</td>\n",
       "      <td>0.86</td>\n",
       "      <td>0.02</td>\n",
       "    </tr>\n",
       "  </tbody>\n",
       "</table>\n",
       "<p>298 rows × 4 columns</p>\n",
       "</div>"
      ],
      "text/plain": [
       "       Setores       Nome   OEE  Refugo\n",
       "0     Extrusão     Miriam  0.78    0.04\n",
       "1      Mistura     Daniel  0.70    0.05\n",
       "2    Modelagem     Carlos  0.60    0.07\n",
       "3    Prensagem     Flávia  0.89    0.06\n",
       "4     Retífica  Elisabeth  0.55    0.04\n",
       "..         ...        ...   ...     ...\n",
       "293    Mistura     Isabel  0.88    0.01\n",
       "294  Modelagem     Carlos  0.62    0.03\n",
       "295  Prensagem     Flávia  0.64    0.04\n",
       "296   Retífica  Elisabeth  0.88    0.10\n",
       "297    Mistura     Daniel  0.86    0.02\n",
       "\n",
       "[298 rows x 4 columns]"
      ]
     },
     "execution_count": 677,
     "metadata": {},
     "output_type": "execute_result"
    }
   ],
   "source": [
    "## Separação das Colunas para Dim_Resultado \n",
    "vars = ['Setores', 'Nome', 'OEE', 'Refugo']\n",
    "\n",
    "Dim_Resultado = dados[vars]\n",
    "\n",
    "Dim_Resultado"
   ]
  },
  {
   "cell_type": "code",
   "execution_count": 409,
   "id": "6ac3df7a",
   "metadata": {},
   "outputs": [
    {
     "data": {
      "text/html": [
       "<div>\n",
       "<style scoped>\n",
       "    .dataframe tbody tr th:only-of-type {\n",
       "        vertical-align: middle;\n",
       "    }\n",
       "\n",
       "    .dataframe tbody tr th {\n",
       "        vertical-align: top;\n",
       "    }\n",
       "\n",
       "    .dataframe thead th {\n",
       "        text-align: right;\n",
       "    }\n",
       "</style>\n",
       "<table border=\"1\" class=\"dataframe\">\n",
       "  <thead>\n",
       "    <tr style=\"text-align: right;\">\n",
       "      <th></th>\n",
       "      <th>OEE</th>\n",
       "      <th>Refugo</th>\n",
       "    </tr>\n",
       "  </thead>\n",
       "  <tbody>\n",
       "    <tr>\n",
       "      <th>count</th>\n",
       "      <td>298.00</td>\n",
       "      <td>298.00</td>\n",
       "    </tr>\n",
       "    <tr>\n",
       "      <th>mean</th>\n",
       "      <td>0.74</td>\n",
       "      <td>0.04</td>\n",
       "    </tr>\n",
       "    <tr>\n",
       "      <th>std</th>\n",
       "      <td>0.11</td>\n",
       "      <td>0.03</td>\n",
       "    </tr>\n",
       "    <tr>\n",
       "      <th>min</th>\n",
       "      <td>0.36</td>\n",
       "      <td>0.00</td>\n",
       "    </tr>\n",
       "    <tr>\n",
       "      <th>25%</th>\n",
       "      <td>0.65</td>\n",
       "      <td>0.01</td>\n",
       "    </tr>\n",
       "    <tr>\n",
       "      <th>50%</th>\n",
       "      <td>0.75</td>\n",
       "      <td>0.03</td>\n",
       "    </tr>\n",
       "    <tr>\n",
       "      <th>75%</th>\n",
       "      <td>0.83</td>\n",
       "      <td>0.05</td>\n",
       "    </tr>\n",
       "    <tr>\n",
       "      <th>max</th>\n",
       "      <td>0.97</td>\n",
       "      <td>0.21</td>\n",
       "    </tr>\n",
       "  </tbody>\n",
       "</table>\n",
       "</div>"
      ],
      "text/plain": [
       "          OEE  Refugo\n",
       "count  298.00  298.00\n",
       "mean     0.74    0.04\n",
       "std      0.11    0.03\n",
       "min      0.36    0.00\n",
       "25%      0.65    0.01\n",
       "50%      0.75    0.03\n",
       "75%      0.83    0.05\n",
       "max      0.97    0.21"
      ]
     },
     "execution_count": 409,
     "metadata": {},
     "output_type": "execute_result"
    }
   ],
   "source": [
    "## Estatistica do Dim_Resultado \n",
    "Dim_Resultado.describe().round(2)"
   ]
  },
  {
   "cell_type": "code",
   "execution_count": 714,
   "id": "bfb69c75",
   "metadata": {},
   "outputs": [],
   "source": [
    "w, Z = dmatrices('Refugo ~ OEE ', data=Dim_Resultado, return_type='dataframe')"
   ]
  },
  {
   "cell_type": "code",
   "execution_count": 715,
   "id": "bb61ac16",
   "metadata": {},
   "outputs": [
    {
     "data": {
      "text/html": [
       "<div>\n",
       "<style scoped>\n",
       "    .dataframe tbody tr th:only-of-type {\n",
       "        vertical-align: middle;\n",
       "    }\n",
       "\n",
       "    .dataframe tbody tr th {\n",
       "        vertical-align: top;\n",
       "    }\n",
       "\n",
       "    .dataframe thead th {\n",
       "        text-align: right;\n",
       "    }\n",
       "</style>\n",
       "<table border=\"1\" class=\"dataframe\">\n",
       "  <thead>\n",
       "    <tr style=\"text-align: right;\">\n",
       "      <th></th>\n",
       "      <th>Refugo</th>\n",
       "    </tr>\n",
       "  </thead>\n",
       "  <tbody>\n",
       "    <tr>\n",
       "      <th>0</th>\n",
       "      <td>0.04</td>\n",
       "    </tr>\n",
       "    <tr>\n",
       "      <th>1</th>\n",
       "      <td>0.05</td>\n",
       "    </tr>\n",
       "    <tr>\n",
       "      <th>2</th>\n",
       "      <td>0.07</td>\n",
       "    </tr>\n",
       "  </tbody>\n",
       "</table>\n",
       "</div>"
      ],
      "text/plain": [
       "   Refugo\n",
       "0    0.04\n",
       "1    0.05\n",
       "2    0.07"
      ]
     },
     "execution_count": 715,
     "metadata": {},
     "output_type": "execute_result"
    }
   ],
   "source": [
    "## Matrizes / quadros de dados resultantes \n",
    "w[:3]"
   ]
  },
  {
   "cell_type": "code",
   "execution_count": 717,
   "id": "ba671164",
   "metadata": {},
   "outputs": [
    {
     "name": "stdout",
     "output_type": "stream",
     "text": [
      "                            OLS Regression Results                            \n",
      "==============================================================================\n",
      "Dep. Variable:                 Refugo   R-squared:                       0.141\n",
      "Model:                            OLS   Adj. R-squared:                  0.138\n",
      "Method:                 Least Squares   F-statistic:                     48.53\n",
      "Date:                Tue, 02 Aug 2022   Prob (F-statistic):           2.11e-11\n",
      "Time:                        20:04:24   Log-Likelihood:                 610.05\n",
      "No. Observations:                 298   AIC:                            -1216.\n",
      "Df Residuals:                     296   BIC:                            -1209.\n",
      "Df Model:                           1                                         \n",
      "Covariance Type:            nonrobust                                         \n",
      "==============================================================================\n",
      "                 coef    std err          t      P>|t|      [0.025      0.975]\n",
      "------------------------------------------------------------------------------\n",
      "Intercept      0.1178      0.012      9.925      0.000       0.094       0.141\n",
      "OEE           -0.1107      0.016     -6.967      0.000      -0.142      -0.079\n",
      "==============================================================================\n",
      "Omnibus:                      121.378   Durbin-Watson:                   1.875\n",
      "Prob(Omnibus):                  0.000   Jarque-Bera (JB):              406.028\n",
      "Skew:                           1.813   Prob(JB):                     6.79e-89\n",
      "Kurtosis:                       7.421   Cond. No.                         13.6\n",
      "==============================================================================\n",
      "\n",
      "Notes:\n",
      "[1] Standard Errors assume that the covariance matrix of the errors is correctly specified.\n"
     ]
    }
   ],
   "source": [
    "# Descrevendo o modelo \n",
    "mod1 = sm.OLS(w,Z) \n",
    "\n",
    "# Modelo de Ajuste \n",
    "res = mod1.fit()\n",
    "\n",
    "# Modelo de Resumo \n",
    "print(res.summary())"
   ]
  },
  {
   "cell_type": "code",
   "execution_count": 718,
   "id": "6ac90439",
   "metadata": {},
   "outputs": [
    {
     "data": {
      "text/plain": [
       "Intercept    0.117757\n",
       "OEE         -0.110664\n",
       "dtype: float64"
      ]
     },
     "execution_count": 718,
     "metadata": {},
     "output_type": "execute_result"
    }
   ],
   "source": [
    "# Paramêtros de estímativas do OEE\n",
    "res.params"
   ]
  },
  {
   "cell_type": "code",
   "execution_count": 719,
   "id": "8ada8556",
   "metadata": {},
   "outputs": [
    {
     "data": {
      "text/plain": [
       "0.1408690634724188"
      ]
     },
     "execution_count": 719,
     "metadata": {},
     "output_type": "execute_result"
    }
   ],
   "source": [
    "# R esquadro para os paramêtros\n",
    "res.rsquared"
   ]
  },
  {
   "cell_type": "code",
   "execution_count": 721,
   "id": "a56688c3",
   "metadata": {},
   "outputs": [
    {
     "data": {
      "text/plain": [
       "(0.8786677864348627, 0.7839670927359348)"
      ]
     },
     "execution_count": 721,
     "metadata": {},
     "output_type": "execute_result"
    }
   ],
   "source": [
    "## Teste de OEE e Refugo \n",
    "sm.stats.linear_rainbow(res)"
   ]
  },
  {
   "cell_type": "markdown",
   "id": "bf9f5df5",
   "metadata": {},
   "source": [
    "## Gráfico de regressão parcial para um conjuntos de Planos em OEE e Refugo"
   ]
  },
  {
   "cell_type": "code",
   "execution_count": 726,
   "id": "d236ef39",
   "metadata": {},
   "outputs": [
    {
     "data": {
      "text/plain": [
       "1"
      ]
     },
     "execution_count": 726,
     "metadata": {},
     "output_type": "execute_result"
    },
    {
     "data": {
      "image/png": "[encoded data removed]",
      "text/plain": [
       "<Figure size 432x288 with 1 Axes>"
      ]
     },
     "metadata": {
      "needs_background": "light"
     },
     "output_type": "display_data"
    }
   ],
   "source": [
    "sm.graphics.plot_partregress('Refugo', 'OEE', ['OEE', 'Refugo'], data=Dim_Resultado, \n",
    "                            obs_labels = False)\n",
    "\n",
    "1"
   ]
  },
  {
   "cell_type": "markdown",
   "id": "8470e10a",
   "metadata": {},
   "source": [
    "## Índice das OEE e Refugos por Trabalhadores"
   ]
  },
  {
   "cell_type": "code",
   "execution_count": 755,
   "id": "70f9e516",
   "metadata": {},
   "outputs": [
    {
     "data": {
      "text/html": [
       "<div>\n",
       "<style scoped>\n",
       "    .dataframe tbody tr th:only-of-type {\n",
       "        vertical-align: middle;\n",
       "    }\n",
       "\n",
       "    .dataframe tbody tr th {\n",
       "        vertical-align: top;\n",
       "    }\n",
       "\n",
       "    .dataframe thead th {\n",
       "        text-align: right;\n",
       "    }\n",
       "</style>\n",
       "<table border=\"1\" class=\"dataframe\">\n",
       "  <thead>\n",
       "    <tr style=\"text-align: right;\">\n",
       "      <th></th>\n",
       "      <th>Total OEE</th>\n",
       "      <th>Total Refugo</th>\n",
       "      <th>Desempenho</th>\n",
       "    </tr>\n",
       "    <tr>\n",
       "      <th>Nome</th>\n",
       "      <th></th>\n",
       "      <th></th>\n",
       "      <th></th>\n",
       "    </tr>\n",
       "  </thead>\n",
       "  <tbody>\n",
       "    <tr>\n",
       "      <th>Adriana</th>\n",
       "      <td>24.71</td>\n",
       "      <td>1.32</td>\n",
       "      <td>18.72 %</td>\n",
       "    </tr>\n",
       "    <tr>\n",
       "      <th>Anderson</th>\n",
       "      <td>28.91</td>\n",
       "      <td>1.10</td>\n",
       "      <td>26.28 %</td>\n",
       "    </tr>\n",
       "    <tr>\n",
       "      <th>Carlos</th>\n",
       "      <td>17.84</td>\n",
       "      <td>1.13</td>\n",
       "      <td>15.79 %</td>\n",
       "    </tr>\n",
       "    <tr>\n",
       "      <th>Cleber</th>\n",
       "      <td>19.84</td>\n",
       "      <td>0.96</td>\n",
       "      <td>20.67 %</td>\n",
       "    </tr>\n",
       "    <tr>\n",
       "      <th>Daniel</th>\n",
       "      <td>25.93</td>\n",
       "      <td>1.44</td>\n",
       "      <td>18.01 %</td>\n",
       "    </tr>\n",
       "    <tr>\n",
       "      <th>Elisabeth</th>\n",
       "      <td>20.23</td>\n",
       "      <td>0.84</td>\n",
       "      <td>24.08 %</td>\n",
       "    </tr>\n",
       "    <tr>\n",
       "      <th>Flávia</th>\n",
       "      <td>21.46</td>\n",
       "      <td>1.27</td>\n",
       "      <td>16.90 %</td>\n",
       "    </tr>\n",
       "    <tr>\n",
       "      <th>Isabel</th>\n",
       "      <td>21.12</td>\n",
       "      <td>0.75</td>\n",
       "      <td>28.16 %</td>\n",
       "    </tr>\n",
       "    <tr>\n",
       "      <th>Miriam</th>\n",
       "      <td>21.19</td>\n",
       "      <td>0.90</td>\n",
       "      <td>23.54 %</td>\n",
       "    </tr>\n",
       "    <tr>\n",
       "      <th>Solange</th>\n",
       "      <td>18.73</td>\n",
       "      <td>1.04</td>\n",
       "      <td>18.01 %</td>\n",
       "    </tr>\n",
       "  </tbody>\n",
       "</table>\n",
       "</div>"
      ],
      "text/plain": [
       "           Total OEE  Total Refugo Desempenho\n",
       "Nome                                         \n",
       "Adriana        24.71          1.32    18.72 %\n",
       "Anderson       28.91          1.10    26.28 %\n",
       "Carlos         17.84          1.13    15.79 %\n",
       "Cleber         19.84          0.96    20.67 %\n",
       "Daniel         25.93          1.44    18.01 %\n",
       "Elisabeth      20.23          0.84    24.08 %\n",
       "Flávia         21.46          1.27    16.90 %\n",
       "Isabel         21.12          0.75    28.16 %\n",
       "Miriam         21.19          0.90    23.54 %\n",
       "Solange        18.73          1.04    18.01 %"
      ]
     },
     "execution_count": 755,
     "metadata": {},
     "output_type": "execute_result"
    }
   ],
   "source": [
    "Nome_OEE_Total = Dim_Resultado.groupby([\"Nome\"]).sum()[\"OEE\"].rename(\"Total OEE\") \n",
    "Nome_Refugo_Total = Dim_Resultado.groupby([\"Nome\"]).sum()[\"Refugo\"].rename(\"Total Refugo\")\n",
    "Desempenho = Nome_OEE_Total / Nome_Refugo_Total\n",
    "\n",
    "probabilidade = pd.DataFrame({\"Total OEE\" : Nome_OEE_Total, \n",
    "                              \"Total Refugo\" : Nome_Refugo_Total, \n",
    "                              \"Desempenho\" : Desempenho})\n",
    "\n",
    "probabilidade[\"Desempenho\"] = probabilidade[\"Desempenho\"].map(\"{:.2f} %\".format)\n",
    "\n",
    "probabilidade"
   ]
  },
  {
   "cell_type": "markdown",
   "id": "b3627ae4",
   "metadata": {},
   "source": [
    "## Índice das OEE e Refugos por Setores"
   ]
  },
  {
   "cell_type": "code",
   "execution_count": 760,
   "id": "f711ee8b",
   "metadata": {},
   "outputs": [
    {
     "data": {
      "text/html": [
       "<div>\n",
       "<style scoped>\n",
       "    .dataframe tbody tr th:only-of-type {\n",
       "        vertical-align: middle;\n",
       "    }\n",
       "\n",
       "    .dataframe tbody tr th {\n",
       "        vertical-align: top;\n",
       "    }\n",
       "\n",
       "    .dataframe thead th {\n",
       "        text-align: right;\n",
       "    }\n",
       "</style>\n",
       "<table border=\"1\" class=\"dataframe\">\n",
       "  <thead>\n",
       "    <tr style=\"text-align: right;\">\n",
       "      <th></th>\n",
       "      <th>Total OEE</th>\n",
       "      <th>Total Refugo</th>\n",
       "      <th>Desempenho</th>\n",
       "    </tr>\n",
       "    <tr>\n",
       "      <th>Setores</th>\n",
       "      <th></th>\n",
       "      <th></th>\n",
       "      <th></th>\n",
       "    </tr>\n",
       "  </thead>\n",
       "  <tbody>\n",
       "    <tr>\n",
       "      <th>Extrusão</th>\n",
       "      <td>39.92</td>\n",
       "      <td>1.94</td>\n",
       "      <td>20.58 %</td>\n",
       "    </tr>\n",
       "    <tr>\n",
       "      <th>Mistura</th>\n",
       "      <td>47.05</td>\n",
       "      <td>2.19</td>\n",
       "      <td>21.48 %</td>\n",
       "    </tr>\n",
       "    <tr>\n",
       "      <th>Modelagem</th>\n",
       "      <td>42.55</td>\n",
       "      <td>2.45</td>\n",
       "      <td>17.37 %</td>\n",
       "    </tr>\n",
       "    <tr>\n",
       "      <th>Prensagem</th>\n",
       "      <td>50.37</td>\n",
       "      <td>2.37</td>\n",
       "      <td>21.25 %</td>\n",
       "    </tr>\n",
       "    <tr>\n",
       "      <th>Retífica</th>\n",
       "      <td>40.07</td>\n",
       "      <td>1.80</td>\n",
       "      <td>22.26 %</td>\n",
       "    </tr>\n",
       "  </tbody>\n",
       "</table>\n",
       "</div>"
      ],
      "text/plain": [
       "           Total OEE  Total Refugo Desempenho\n",
       "Setores                                      \n",
       "Extrusão       39.92          1.94    20.58 %\n",
       "Mistura        47.05          2.19    21.48 %\n",
       "Modelagem      42.55          2.45    17.37 %\n",
       "Prensagem      50.37          2.37    21.25 %\n",
       "Retífica       40.07          1.80    22.26 %"
      ]
     },
     "execution_count": 760,
     "metadata": {},
     "output_type": "execute_result"
    }
   ],
   "source": [
    "Setores_OEE_Total = Dim_Resultado.groupby([\"Setores\"]).sum()[\"OEE\"].rename(\"Total OEE\") \n",
    "Setores_Refugo_Total = Dim_Resultado.groupby([\"Setores\"]).sum()[\"Refugo\"].rename(\"Total Refugo\")\n",
    "Desempenho1 = Setores_OEE_Total / Setores_Refugo_Total\n",
    "\n",
    "probabilidade1 = pd.DataFrame({\"Total OEE\" : Setores_OEE_Total, \n",
    "                              \"Total Refugo\" : Setores_Refugo_Total, \n",
    "                              \"Desempenho\" : Desempenho1})\n",
    "\n",
    "probabilidade1[\"Desempenho\"] = probabilidade1[\"Desempenho\"].map(\"{:.2f} %\".format)\n",
    "\n",
    "probabilidade1"
   ]
  }
 ],
 "metadata": {
  "kernelspec": {
   "display_name": "Python 3 (ipykernel)",
   "language": "python",
   "name": "python3"
  },
  "language_info": {
   "codemirror_mode": {
    "name": "ipython",
    "version": 3
   },
   "file_extension": ".py",
   "mimetype": "text/x-python",
   "name": "python",
   "nbconvert_exporter": "python",
   "pygments_lexer": "ipython3",
   "version": "3.8.8"
  }
 },
 "nbformat": 4,
 "nbformat_minor": 5
}
